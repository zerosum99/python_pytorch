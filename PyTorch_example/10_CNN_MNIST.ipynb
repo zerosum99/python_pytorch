{
 "cells": [
  {
   "cell_type": "code",
   "execution_count": 1,
   "metadata": {
    "collapsed": true
   },
   "outputs": [],
   "source": [
    "import torch\n",
    "import torch.nn as nn\n",
    "import torchvision.datasets as dsets\n",
    "import torchvision.transforms as transforms\n",
    "from torch.autograd import Variable\n",
    "import os"
   ]
  },
  {
   "cell_type": "code",
   "execution_count": 2,
   "metadata": {
    "collapsed": true
   },
   "outputs": [],
   "source": [
    "num_epochs = 5\n",
    "batch_size = 100\n",
    "learning_rate = 0.001\n",
    "\n",
    "train_dataset  = dsets.MNIST(root='./data/',\n",
    "                            train=True,\n",
    "                            transform=transforms.ToTensor(),\n",
    "                            download=True)\n",
    "\n",
    "test_dataset = dsets.MNIST(root='./data/',\n",
    "                          train=False,\n",
    "                          transform=transforms.ToTensor())\n",
    "\n",
    "train_loader  = torch.utils.data.DataLoader(dataset=train_dataset,\n",
    "                                           batch_size=batch_size,\n",
    "                                           shuffle=True)\n",
    "\n",
    "test_loader = torch.utils.data.DataLoader(dataset=test_dataset,\n",
    "                                         batch_size=batch_size,\n",
    "                                         shuffle=False)"
   ]
  },
  {
   "cell_type": "code",
   "execution_count": 3,
   "metadata": {
    "collapsed": true
   },
   "outputs": [],
   "source": [
    "class CNN(nn.Module):\n",
    "    def __init__(self):\n",
    "        super(CNN, self).__init__()\n",
    "        \n",
    "        self.layer1 = nn.Sequential(\n",
    "            nn.Conv2d(1, 16, kernel_size=5, padding=2), #1 * 28 * 28 -> 16 * 28 * 28\n",
    "            nn.BatchNorm2d(16), #16 * 28 * 28\n",
    "            nn.ReLU(),                 #16 * 28 * 28\n",
    "            nn.MaxPool2d(2))       # 16 * 14 * 14\n",
    "        self.layer2  = nn.Sequential(\n",
    "            nn.Conv2d(16, 32, kernel_size=5, padding=2), # 16 * 14 * 14 -> 32 * 14 * 14\n",
    "            nn.BatchNorm2d(32),\n",
    "            nn.ReLU(),\n",
    "            nn.MaxPool2d(2))       # 32 * 7 * 7\n",
    "        self.fc = nn.Linear(32 * 7 * 7, 10)\n",
    "        \n",
    "    def forward(self, x):\n",
    "        out = self.layer1(x)\n",
    "        out = self.layer2(out)\n",
    "        out = out.view(out.size(0), -1)\n",
    "        out = self.fc(out)\n",
    "        return out\n",
    "    \n",
    "cnn = CNN()"
   ]
  },
  {
   "cell_type": "code",
   "execution_count": 5,
   "metadata": {},
   "outputs": [
    {
     "name": "stdout",
     "output_type": "stream",
     "text": [
      "Epoch [1/5], lter [100/600] Loss: 0.1668\n",
      "Epoch [1/5], lter [200/600] Loss: 0.1702\n",
      "Epoch [1/5], lter [300/600] Loss: 0.0713\n",
      "Epoch [1/5], lter [400/600] Loss: 0.0956\n",
      "Epoch [1/5], lter [500/600] Loss: 0.0626\n",
      "Epoch [1/5], lter [600/600] Loss: 0.0982\n",
      "Epoch [2/5], lter [100/600] Loss: 0.0954\n",
      "Epoch [2/5], lter [200/600] Loss: 0.1244\n",
      "Epoch [2/5], lter [300/600] Loss: 0.0396\n",
      "Epoch [2/5], lter [400/600] Loss: 0.0255\n",
      "Epoch [2/5], lter [500/600] Loss: 0.0155\n",
      "Epoch [2/5], lter [600/600] Loss: 0.0459\n",
      "Epoch [3/5], lter [100/600] Loss: 0.0294\n",
      "Epoch [3/5], lter [200/600] Loss: 0.0348\n",
      "Epoch [3/5], lter [300/600] Loss: 0.0172\n",
      "Epoch [3/5], lter [400/600] Loss: 0.0560\n",
      "Epoch [3/5], lter [500/600] Loss: 0.0406\n",
      "Epoch [3/5], lter [600/600] Loss: 0.0808\n",
      "Epoch [4/5], lter [100/600] Loss: 0.0058\n",
      "Epoch [4/5], lter [200/600] Loss: 0.0187\n",
      "Epoch [4/5], lter [300/600] Loss: 0.0300\n",
      "Epoch [4/5], lter [400/600] Loss: 0.0133\n",
      "Epoch [4/5], lter [500/600] Loss: 0.0296\n",
      "Epoch [4/5], lter [600/600] Loss: 0.0479\n",
      "Epoch [5/5], lter [100/600] Loss: 0.0027\n",
      "Epoch [5/5], lter [200/600] Loss: 0.0436\n",
      "Epoch [5/5], lter [300/600] Loss: 0.0011\n",
      "Epoch [5/5], lter [400/600] Loss: 0.0268\n",
      "Epoch [5/5], lter [500/600] Loss: 0.0176\n",
      "Epoch [5/5], lter [600/600] Loss: 0.0357\n"
     ]
    }
   ],
   "source": [
    "if os.path.isfile('cnn.pkl'):\n",
    "    cnn.load_state_dict(torch.load('cnn.pkl'))\n",
    "\n",
    "else:\n",
    "    criterion = nn.CrossEntropyLoss() # Loss\n",
    "    optimizer = torch.optim.Adam(cnn.parameters(), lr=learning_rate)\n",
    "    \n",
    "    for epoch in range(num_epochs):\n",
    "        for i, (images, labels) in enumerate(train_loader):\n",
    "            images = Variable(images)\n",
    "            labels = Variable(labels)\n",
    "            \n",
    "            optimizer.zero_grad()\n",
    "            outputs = cnn(images)\n",
    "            loss = criterion(outputs, labels)\n",
    "            loss.backward()\n",
    "            optimizer.step()\n",
    "            \n",
    "            if (i+1) % 100 == 0:\n",
    "                print('Epoch [%d/%d], lter [%d/%d] Loss: %.4f'\n",
    "                     %(epoch+1, num_epochs, i+1, len(train_dataset)//batch_size, loss.data[0]))\n",
    "                \n",
    "    if not os.path.isfile('cnn,pkl'):\n",
    "        torch.save(cnn.state_dict(), 'cnn.pkl')"
   ]
  },
  {
   "cell_type": "code",
<<<<<<< HEAD
   "execution_count": 15,
=======
   "execution_count": 7,
>>>>>>> 508a540246c4138ad0d55a274960c82ea0999a08
   "metadata": {},
   "outputs": [
    {
     "name": "stdout",
     "output_type": "stream",
     "text": [
      "test Accuracy 10000 test images  = 99.040000 %\n"
     ]
    }
   ],
   "source": [
    "cnn.eval()\n",
    "correct = 0\n",
    "total = 0\n",
    "for images, labels in test_loader:\n",
    "    images = Variable(images)\n",
    "    outputs = cnn(images)\n",
    "    _, predicted = torch.max(outputs.data, 1)\n",
    "    total += labels.size(0)\n",
    "    correct += (predicted == labels).sum()\n",
    "    \n",
    "print('test Accuracy 10000 test images  = %f %%' % (100 * correct/total))"
   ]
<<<<<<< HEAD
=======
  },
  {
   "cell_type": "markdown",
   "metadata": {},
   "source": []
  },
  {
   "cell_type": "code",
   "execution_count": null,
   "metadata": {},
   "outputs": [],
   "source": []
  },
  {
   "cell_type": "code",
   "execution_count": null,
   "metadata": {
    "collapsed": true
   },
   "outputs": [],
   "source": []
>>>>>>> 508a540246c4138ad0d55a274960c82ea0999a08
  }
 ],
 "metadata": {
  "kernelspec": {
   "display_name": "Python 3",
   "language": "python",
   "name": "python3"
  },
  "language_info": {
   "codemirror_mode": {
    "name": "ipython",
    "version": 3
   },
   "file_extension": ".py",
   "mimetype": "text/x-python",
   "name": "python",
   "nbconvert_exporter": "python",
   "pygments_lexer": "ipython3",
   "version": "3.6.0"
  }
 },
 "nbformat": 4,
 "nbformat_minor": 2
}
