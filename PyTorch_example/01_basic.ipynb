{
 "cells": [
  {
   "cell_type": "code",
   "execution_count": 1,
   "metadata": {},
   "outputs": [
    {
     "data": {
      "text/plain": [
       "<torch._C.Generator at 0x7fddd11288d0>"
      ]
     },
     "execution_count": 1,
     "metadata": {},
     "output_type": "execute_result"
    }
   ],
   "source": [
    "import numpy as np\n",
    "import torch\n",
    "torch.manual_seed(1)"
   ]
  },
  {
   "cell_type": "markdown",
   "metadata": {},
   "source": [
    "# base Tenseor"
   ]
  },
  {
   "cell_type": "code",
   "execution_count": 2,
   "metadata": {},
   "outputs": [
    {
     "data": {
      "text/plain": [
       "\n",
       "-4.7089e+32  4.5869e-41\n",
       " 1.7656e-37  0.0000e+00\n",
       "[torch.FloatTensor of size 2x2]"
      ]
     },
     "execution_count": 2,
     "metadata": {},
     "output_type": "execute_result"
    }
   ],
   "source": [
    "x = torch.Tensor(2,2)\n",
    "x"
   ]
  },
  {
   "cell_type": "code",
   "execution_count": 3,
   "metadata": {},
   "outputs": [
    {
     "data": {
      "text/plain": [
       "('torch.FloatTensor', torch.Size([2, 2]), 4)"
      ]
     },
     "execution_count": 3,
     "metadata": {},
     "output_type": "execute_result"
    }
   ],
   "source": [
    "x.type(), x.size(), x.numel()"
   ]
  },
  {
   "cell_type": "code",
   "execution_count": 4,
   "metadata": {},
   "outputs": [
    {
     "data": {
      "text/plain": [
       "\n",
       "(0 ,0 ,.,.) = \n",
       " -4.7089e+32\n",
       "  4.5869e-41\n",
       "\n",
       "(0 ,1 ,.,.) = \n",
       " -4.7089e+32\n",
       "  4.5869e-41\n",
       "\n",
       "(0 ,2 ,.,.) = \n",
       "  0.0000e+00\n",
       "  0.0000e+00\n",
       "\n",
       "(1 ,0 ,.,.) = \n",
       "  0.0000e+00\n",
       "  0.0000e+00\n",
       "\n",
       "(1 ,1 ,.,.) = \n",
       "  0.0000e+00\n",
       "  0.0000e+00\n",
       "\n",
       "(1 ,2 ,.,.) = \n",
       "  0.0000e+00\n",
       "  0.0000e+00\n",
       "\n",
       "(2 ,0 ,.,.) = \n",
       "  0.0000e+00\n",
       "  0.0000e+00\n",
       "\n",
       "(2 ,1 ,.,.) = \n",
       "  0.0000e+00\n",
       "  0.0000e+00\n",
       "\n",
       "(2 ,2 ,.,.) = \n",
       "  0.0000e+00\n",
       "  0.0000e+00\n",
       "\n",
       "(3 ,0 ,.,.) = \n",
       "  0.0000e+00\n",
       "  0.0000e+00\n",
       "\n",
       "(3 ,1 ,.,.) = \n",
       "  0.0000e+00\n",
       "  0.0000e+00\n",
       "\n",
       "(3 ,2 ,.,.) = \n",
       "  0.0000e+00\n",
       "  0.0000e+00\n",
       "[torch.FloatTensor of size 4x3x2x1]"
      ]
     },
     "execution_count": 4,
     "metadata": {},
     "output_type": "execute_result"
    }
   ],
   "source": [
    "x2 = torch.Tensor(4,3,2,1)\n",
    "x2"
   ]
  },
  {
   "cell_type": "code",
   "execution_count": 5,
   "metadata": {},
   "outputs": [
    {
     "data": {
      "text/plain": [
       "(torch.Size([4, 3, 2, 1]), 'torch.FloatTensor', 24)"
      ]
     },
     "execution_count": 5,
     "metadata": {},
     "output_type": "execute_result"
    }
   ],
   "source": [
    "x2.size(), x2.type(), x2.numel()"
   ]
  },
  {
   "cell_type": "markdown",
   "metadata": {},
   "source": [
    "\n",
    "# Other methods make to Tensor"
   ]
  },
  {
   "cell_type": "code",
   "execution_count": 7,
   "metadata": {},
   "outputs": [
    {
     "data": {
      "text/plain": [
       "(\n",
       "  0  0  0  0\n",
       "  0  0  0  0\n",
       "  0  0  0  0\n",
       "  0  0  0  0\n",
       " [torch.FloatTensor of size 4x4], \n",
       "  1  1  1  1\n",
       "  1  1  1  1\n",
       "  1  1  1  1\n",
       "  1  1  1  1\n",
       " [torch.FloatTensor of size 4x4], \n",
       "  1  0  0  0\n",
       "  0  1  0  0\n",
       "  0  0  1  0\n",
       "  0  0  0  1\n",
       " [torch.FloatTensor of size 4x4], \n",
       "  0.4170  0.9972  0.7203  0.9326\n",
       "  0.0001  0.1281  0.3023  0.9990\n",
       "  0.1468  0.2361  0.0923  0.3966\n",
       "  0.1863  0.3879  0.3456  0.6697\n",
       " [torch.FloatTensor of size 4x4], \n",
       " -1.8661  1.4146 -1.8781 -0.4674\n",
       " -0.7576  0.4215 -0.4827 -1.1198\n",
       "  0.3056  1.0386  0.5206 -0.5006\n",
       "  1.2182  0.2117 -1.0613 -1.9441\n",
       " [torch.FloatTensor of size 4x4])"
      ]
     },
     "execution_count": 7,
     "metadata": {},
     "output_type": "execute_result"
    }
   ],
   "source": [
    "torch.zeros(4,4), torch.ones(4,4), torch.eye(4,4),torch.rand(4,4), torch.randn(4,4)"
   ]
  },
  {
   "cell_type": "code",
   "execution_count": 9,
   "metadata": {},
   "outputs": [
    {
     "data": {
      "text/plain": [
       "\n",
       " 0.0000\n",
       " 0.3000\n",
       " 0.6000\n",
       " 0.9000\n",
       " 1.2000\n",
       " 1.5000\n",
       " 1.8000\n",
       " 2.1000\n",
       " 2.4000\n",
       " 2.7000\n",
       " 3.0000\n",
       "[torch.FloatTensor of size 11]"
      ]
     },
     "execution_count": 9,
     "metadata": {},
     "output_type": "execute_result"
    }
   ],
   "source": [
    "x3 = torch.arange(0, 3, step=0.3)\n",
    "x3"
   ]
  },
  {
   "cell_type": "code",
   "execution_count": 10,
   "metadata": {},
   "outputs": [
    {
     "data": {
      "text/plain": [
       "\n",
       " 0.0000\n",
       " 0.3000\n",
       " 0.6000\n",
       " 0.9000\n",
       " 1.2000\n",
       " 1.5000\n",
       " 1.8000\n",
       " 2.1000\n",
       " 2.4000\n",
       " 2.7000\n",
       " 3.0000\n",
       "[torch.FloatTensor of size 11]"
      ]
     },
     "execution_count": 10,
     "metadata": {},
     "output_type": "execute_result"
    }
   ],
   "source": [
    "x3"
   ]
  },
  {
   "cell_type": "code",
   "execution_count": 11,
   "metadata": {},
   "outputs": [
    {
     "data": {
      "text/plain": [
       "\n",
       " 6  2\n",
       " 3  4\n",
       " 5  6\n",
       "[torch.FloatTensor of size 3x2]"
      ]
     },
     "execution_count": 11,
     "metadata": {},
     "output_type": "execute_result"
    }
   ],
   "source": [
    "torch.Tensor([[6,2],[3,4],[5,6]])"
   ]
  },
  {
   "cell_type": "code",
   "execution_count": 12,
   "metadata": {},
   "outputs": [
    {
     "data": {
      "text/plain": [
       "\n",
       "  5   6\n",
       " 10  11\n",
       "[torch.LongTensor of size 2x2]"
      ]
     },
     "execution_count": 12,
     "metadata": {},
     "output_type": "execute_result"
    }
   ],
   "source": [
    "numpy_test = np.array([[5,6],[10,11]])\n",
    "torch.from_numpy(numpy_test)"
   ]
  },
  {
   "cell_type": "markdown",
   "metadata": {},
   "source": [
    "\n",
    "# Use to array function of Python make Tensor "
   ]
  },
  {
   "cell_type": "code",
   "execution_count": 13,
   "metadata": {},
   "outputs": [
    {
     "data": {
      "text/plain": [
       "\n",
       " 1  2  3\n",
       " 4  5  6\n",
       " 7  8  9\n",
       "[torch.FloatTensor of size 3x3]"
      ]
     },
     "execution_count": 13,
     "metadata": {},
     "output_type": "execute_result"
    }
   ],
   "source": [
    "x4 = torch.Tensor([[1,2,3],[4,5,6],[7,8,9]])\n",
    "x4"
   ]
  },
  {
   "cell_type": "code",
   "execution_count": 14,
   "metadata": {},
   "outputs": [
    {
     "data": {
      "text/plain": [
       "\n",
       " 1  2  3\n",
       " 4  5  6\n",
       "[torch.FloatTensor of size 2x3]"
      ]
     },
     "execution_count": 14,
     "metadata": {},
     "output_type": "execute_result"
    }
   ],
   "source": [
    "x4[0:2,:]"
   ]
  },
  {
   "cell_type": "code",
   "execution_count": 15,
   "metadata": {},
   "outputs": [
    {
     "data": {
      "text/plain": [
       "\n",
       " 4\n",
       " 5\n",
       " 6\n",
       "[torch.FloatTensor of size 3]"
      ]
     },
     "execution_count": 15,
     "metadata": {},
     "output_type": "execute_result"
    }
   ],
   "source": [
    "x4[1]"
   ]
  },
  {
   "cell_type": "code",
   "execution_count": 16,
   "metadata": {},
   "outputs": [
    {
     "data": {
      "text/plain": [
       "\n",
       " 1\n",
       " 2\n",
       " 3\n",
       "[torch.FloatTensor of size 3]"
      ]
     },
     "execution_count": 16,
     "metadata": {},
     "output_type": "execute_result"
    }
   ],
   "source": [
    "x4[0,:]"
   ]
  },
  {
   "cell_type": "code",
   "execution_count": 19,
   "metadata": {},
   "outputs": [
    {
     "data": {
      "text/plain": [
       "\n",
       "  62   72   80\n",
       " 200   78   89\n",
       "   7    8    9\n",
       "[torch.FloatTensor of size 3x3]"
      ]
     },
     "execution_count": 19,
     "metadata": {},
     "output_type": "execute_result"
    }
   ],
   "source": [
    "x4[0:1,:] = torch.Tensor([62,72,80])\n",
    "x4"
   ]
  },
  {
   "cell_type": "code",
   "execution_count": 18,
   "metadata": {},
   "outputs": [
    {
     "data": {
      "text/plain": [
       "\n",
       "   1    2    3\n",
       " 200   78   89\n",
       "   7    8    9\n",
       "[torch.FloatTensor of size 3x3]"
      ]
     },
     "execution_count": 18,
     "metadata": {},
     "output_type": "execute_result"
    }
   ],
   "source": [
    "x4[1] = torch.Tensor([200,78, 89])\n",
    "x4"
   ]
  },
  {
   "cell_type": "code",
   "execution_count": 24,
   "metadata": {},
   "outputs": [
    {
     "data": {
      "text/plain": [
       "(\n",
       "  62  72  80\n",
       " [torch.FloatTensor of size 1x3], \n",
       "  200   78   89\n",
       " [torch.FloatTensor of size 1x3], \n",
       "  7  8  9\n",
       " [torch.FloatTensor of size 1x3])"
      ]
     },
     "execution_count": 24,
     "metadata": {},
     "output_type": "execute_result"
    }
   ],
   "source": [
    "x5 = torch.split(x4, split_size=1,dim=0)\n",
    "x5"
   ]
  },
  {
   "cell_type": "code",
   "execution_count": 28,
   "metadata": {},
   "outputs": [
    {
     "data": {
      "text/plain": [
       "\n",
       "   62    72    80   200    78    89     7     8     9\n",
       "[torch.FloatTensor of size 1x9]"
      ]
     },
     "execution_count": 28,
     "metadata": {},
     "output_type": "execute_result"
    }
   ],
   "source": [
    "torch.cat(x5, dim=1)"
   ]
  },
  {
   "cell_type": "code",
   "execution_count": 31,
   "metadata": {},
   "outputs": [
    {
     "data": {
      "text/plain": [
       "\n",
       "(0 ,.,.) = \n",
       "   62   72   80\n",
       "  200   78   89\n",
       "    7    8    9\n",
       "[torch.FloatTensor of size 1x3x3]"
      ]
     },
     "execution_count": 31,
     "metadata": {},
     "output_type": "execute_result"
    }
   ],
   "source": [
    "torch.stack(x5, dim=1)"
   ]
  },
  {
   "cell_type": "code",
   "execution_count": 33,
   "metadata": {},
   "outputs": [
    {
     "data": {
      "text/plain": [
       "(\n",
       " -1.5067  1.7661 -0.3569\n",
       " -0.1713  0.4068 -0.4284\n",
       " -1.1299  1.4274 -1.4027\n",
       " [torch.FloatTensor of size 3x3], \n",
       "  1  0  0\n",
       "  1  1  1\n",
       "  0  1  0\n",
       " [torch.ByteTensor of size 3x3], \n",
       " -1.5067\n",
       " -0.1713\n",
       "  0.4068\n",
       " -0.4284\n",
       "  1.4274\n",
       " [torch.FloatTensor of size 5])"
      ]
     },
     "execution_count": 33,
     "metadata": {},
     "output_type": "execute_result"
    }
   ],
   "source": [
    "x6 = torch.randn(3,3)\n",
    "\n",
    "mask  = torch.ByteTensor([[1,0,0],[1,1,1],[0,1,0]])\n",
    "\n",
    "out = torch.masked_select(x6, mask)\n",
    "\n",
    "x6, mask, out"
   ]
  },
  {
   "cell_type": "markdown",
   "metadata": {},
   "source": [
    "\n",
    "# Reshaping on dimension of Tensor"
   ]
  },
  {
   "cell_type": "code",
   "execution_count": 38,
   "metadata": {},
   "outputs": [
    {
     "data": {
      "text/plain": [
       "\n",
       "(0 ,.,.) = \n",
       "  0\n",
       "  0\n",
       "\n",
       "(1 ,.,.) = \n",
       "  0\n",
       "  0\n",
       "[torch.FloatTensor of size 2x2x1]"
      ]
     },
     "execution_count": 38,
     "metadata": {},
     "output_type": "execute_result"
    }
   ],
   "source": [
    "x7 = torch.zeros(2,2,1)\n",
    "x7"
   ]
  },
  {
   "cell_type": "code",
   "execution_count": 39,
   "metadata": {},
   "outputs": [
    {
     "data": {
      "text/plain": [
       "\n",
       " 0  0\n",
       " 0  0\n",
       "[torch.FloatTensor of size 2x2]"
      ]
     },
     "execution_count": 39,
     "metadata": {},
     "output_type": "execute_result"
    }
   ],
   "source": [
    "x7.view(2,2)"
   ]
  },
  {
   "cell_type": "code",
   "execution_count": 40,
   "metadata": {},
   "outputs": [
    {
     "data": {
      "text/plain": [
       "\n",
       " 0\n",
       " 0\n",
       " 0\n",
       " 0\n",
       "[torch.FloatTensor of size 4]"
      ]
     },
     "execution_count": 40,
     "metadata": {},
     "output_type": "execute_result"
    }
   ],
   "source": [
    "x7.view(-1) # -1 = Automatic"
   ]
  },
  {
   "cell_type": "code",
   "execution_count": 42,
   "metadata": {},
   "outputs": [
    {
     "data": {
      "text/plain": [
       "\n",
       " 0  0\n",
       " 0  0\n",
       "[torch.FloatTensor of size 2x2]"
      ]
     },
     "execution_count": 42,
     "metadata": {},
     "output_type": "execute_result"
    }
   ],
   "source": [
    "x7.view(-1,2)"
   ]
  },
  {
   "cell_type": "code",
   "execution_count": 43,
   "metadata": {},
   "outputs": [
    {
     "data": {
      "text/plain": [
       "\n",
       " 0\n",
       " 0\n",
       " 0\n",
       " 0\n",
       "[torch.FloatTensor of size 4]"
      ]
     },
     "execution_count": 43,
     "metadata": {},
     "output_type": "execute_result"
    }
   ],
   "source": [
    "x7.view(4)"
   ]
  },
  {
   "cell_type": "code",
   "execution_count": 46,
   "metadata": {},
   "outputs": [
    {
     "data": {
      "text/plain": [
       "(\n",
       " (0 ,.,.) = \n",
       "   0\n",
       "   0\n",
       " \n",
       " (1 ,.,.) = \n",
       "   0\n",
       "   0\n",
       " [torch.FloatTensor of size 2x2x1], \n",
       "  0  0\n",
       "  0  0\n",
       " [torch.FloatTensor of size 2x2])"
      ]
     },
     "execution_count": 46,
     "metadata": {},
     "output_type": "execute_result"
    }
   ],
   "source": [
    "x8 = x7.squeeze()\n",
    "x7, x8"
   ]
  },
  {
   "cell_type": "code",
   "execution_count": 47,
   "metadata": {},
   "outputs": [
    {
     "data": {
      "text/plain": [
       "\n",
       "(0 ,.,.) = \n",
       "  0  0\n",
       "  0  0\n",
       "[torch.FloatTensor of size 1x2x2]"
      ]
     },
     "execution_count": 47,
     "metadata": {},
     "output_type": "execute_result"
    }
   ],
   "source": [
    "x8.unsqueeze(0)"
   ]
  },
  {
   "cell_type": "markdown",
   "metadata": {},
   "source": [
    "\n",
    "# Calculate"
   ]
  },
  {
   "cell_type": "code",
   "execution_count": 50,
   "metadata": {},
   "outputs": [
    {
     "data": {
      "text/plain": [
       "(\n",
       "  10  20  30\n",
       "  40  50  60\n",
       " [torch.FloatTensor of size 2x3], \n",
       "  1  2  3\n",
       "  4  5  6\n",
       " [torch.FloatTensor of size 2x3])"
      ]
     },
     "execution_count": 50,
     "metadata": {},
     "output_type": "execute_result"
    }
   ],
   "source": [
    "x9 = torch.FloatTensor([[10,20,30],[40,50,60]])\n",
    "x10 = torch.FloatTensor([[1,2,3],[4,5,6]])\n",
    "x9, x10"
   ]
  },
  {
   "cell_type": "code",
   "execution_count": 51,
   "metadata": {},
   "outputs": [
    {
     "data": {
      "text/plain": [
       "(\n",
       "  11  22  33\n",
       "  44  55  66\n",
       " [torch.FloatTensor of size 2x3], \n",
       "  11  22  33\n",
       "  44  55  66\n",
       " [torch.FloatTensor of size 2x3], \n",
       "  11  22  33\n",
       "  44  55  66\n",
       " [torch.FloatTensor of size 2x3])"
      ]
     },
     "execution_count": 51,
     "metadata": {},
     "output_type": "execute_result"
    }
   ],
   "source": [
    "x9  + x10, x9.add(x10), torch.add(x9, x10)"
   ]
  },
  {
   "cell_type": "code",
   "execution_count": 52,
   "metadata": {},
   "outputs": [
    {
     "data": {
      "text/plain": [
       "(\n",
       "  -9 -18 -27\n",
       " -36 -45 -54\n",
       " [torch.FloatTensor of size 2x3], \n",
       "   9  18  27\n",
       "  36  45  54\n",
       " [torch.FloatTensor of size 2x3])"
      ]
     },
     "execution_count": 52,
     "metadata": {},
     "output_type": "execute_result"
    }
   ],
   "source": [
    "x10.sub(x9), x9.sub(x10)"
   ]
  },
  {
   "cell_type": "code",
   "execution_count": 53,
   "metadata": {},
   "outputs": [
    {
     "data": {
      "text/plain": [
       "\n",
       " 16\n",
       " 17\n",
       " 18\n",
       "[torch.FloatTensor of size 3]"
      ]
     },
     "execution_count": 53,
     "metadata": {},
     "output_type": "execute_result"
    }
   ],
   "source": [
    "x10[1] + 12"
   ]
  },
  {
   "cell_type": "code",
   "execution_count": 55,
   "metadata": {},
   "outputs": [
    {
     "data": {
      "text/plain": [
       "(\n",
       "   10   40   90\n",
       "  160  250  360\n",
       " [torch.FloatTensor of size 2x3], \n",
       "   10   40   90\n",
       "  160  250  360\n",
       " [torch.FloatTensor of size 2x3], \n",
       "   10   40   90\n",
       "  160  250  360\n",
       " [torch.FloatTensor of size 2x3])"
      ]
     },
     "execution_count": 55,
     "metadata": {},
     "output_type": "execute_result"
    }
   ],
   "source": [
    "x9 * x10, x10.mul(x9), torch.mul(x10,x9)"
   ]
  },
  {
   "cell_type": "code",
   "execution_count": 57,
   "metadata": {},
   "outputs": [
    {
     "data": {
      "text/plain": [
       "\n",
       " 10  20  30\n",
       " 40  50  60\n",
       "[torch.FloatTensor of size 2x3]"
      ]
     },
     "execution_count": 57,
     "metadata": {},
     "output_type": "execute_result"
    }
   ],
   "source": [
    "x10 * 10"
   ]
  },
  {
   "cell_type": "markdown",
   "metadata": {},
   "source": [
    "\n",
    "# Other Calculate"
   ]
  },
  {
   "cell_type": "code",
   "execution_count": 58,
   "metadata": {},
   "outputs": [
    {
     "data": {
      "text/plain": [
       "(\n",
       "   100   400   900\n",
       "  1600  2500  3600\n",
       " [torch.FloatTensor of size 2x3], \n",
       "   100   400   900\n",
       "  1600  2500  3600\n",
       " [torch.FloatTensor of size 2x3], \n",
       "   100   400   900\n",
       "  1600  2500  3600\n",
       " [torch.FloatTensor of size 2x3])"
      ]
     },
     "execution_count": 58,
     "metadata": {},
     "output_type": "execute_result"
    }
   ],
   "source": [
    "x9.pow(2), torch.pow(x9,2), x9Calculate ** 2"
   ]
  },
  {
   "cell_type": "code",
   "execution_count": 59,
   "metadata": {},
   "outputs": [
    {
     "data": {
      "text/plain": [
       "\n",
       " 3.1623  4.4721  5.4772\n",
       " 6.3246  7.0711  7.7460\n",
       "[torch.FloatTensor of size 2x3]"
      ]
     },
     "execution_count": 59,
     "metadata": {},
     "output_type": "execute_result"
    }
   ],
   "source": [
    "x9.sqrt()"
   ]
  },
  {
   "cell_type": "code",
   "execution_count": 60,
   "metadata": {},
   "outputs": [
    {
     "data": {
      "text/plain": [
       "(\n",
       "  0.0000  0.6931  1.0986\n",
       "  1.3863  1.6094  1.7918\n",
       " [torch.FloatTensor of size 2x3], \n",
       "  0.0000  0.6931  1.0986\n",
       "  1.3863  1.6094  1.7918\n",
       " [torch.FloatTensor of size 2x3])"
      ]
     },
     "execution_count": 60,
     "metadata": {},
     "output_type": "execute_result"
    }
   ],
   "source": [
    "x10.log(), torch.log(x10)"
   ]
  },
  {
   "cell_type": "code",
   "execution_count": 63,
   "metadata": {},
   "outputs": [
    {
     "data": {
      "text/plain": [
       "(\n",
       "  1  2  0\n",
       "  1  2  0\n",
       " [torch.FloatTensor of size 2x3], \n",
       "   3.3333   6.6667  10.0000\n",
       "  13.3333  16.6667  20.0000\n",
       " [torch.FloatTensor of size 2x3])"
      ]
     },
     "execution_count": 63,
     "metadata": {},
     "output_type": "execute_result"
    }
   ],
   "source": [
    "x9 % 3, x9 / 3"
   ]
  },
  {
   "cell_type": "code",
   "execution_count": 64,
   "metadata": {},
   "outputs": [
    {
     "data": {
      "text/plain": [
       "(210.0, 60.0)"
      ]
     },
     "execution_count": 64,
     "metadata": {},
     "output_type": "execute_result"
    }
   ],
   "source": [
    "x9.sum(), x9.max()"
   ]
  },
  {
   "cell_type": "code",
   "execution_count": 71,
   "metadata": {},
   "outputs": [
    {
     "data": {
      "text/plain": [
       "(1.0, (\n",
       "   1\n",
       "   2\n",
       "   3\n",
       "  [torch.FloatTensor of size 3], \n",
       "   0\n",
       "   0\n",
       "   0\n",
       "  [torch.LongTensor of size 3]), (\n",
       "   1\n",
       "   4\n",
       "  [torch.FloatTensor of size 2], \n",
       "   0\n",
       "   0\n",
       "  [torch.LongTensor of size 2]))"
      ]
     },
     "execution_count": 71,
     "metadata": {},
     "output_type": "execute_result"
    }
   ],
   "source": [
    "x10.min(), x10.min(0), x10.min(1)"
   ]
  },
  {
   "cell_type": "code",
   "execution_count": 72,
   "metadata": {},
   "outputs": [
    {
     "data": {
      "text/plain": [
       "(\n",
       "  3\n",
       "  6\n",
       " [torch.FloatTensor of size 2], \n",
       "  2\n",
       "  2\n",
       " [torch.LongTensor of size 2])"
      ]
     },
     "execution_count": 72,
     "metadata": {},
     "output_type": "execute_result"
    }
   ],
   "source": [
    "x10.max(1)"
   ]
  },
  {
   "cell_type": "code",
   "execution_count": 73,
   "metadata": {},
   "outputs": [
    {
     "data": {
      "text/plain": [
       "(\n",
       "  10  20  30\n",
       "  40  50  60\n",
       " [torch.FloatTensor of size 2x3], \n",
       "  10  20  30\n",
       "  40  50  60\n",
       " [torch.FloatTensor of size 2x3])"
      ]
     },
     "execution_count": 73,
     "metadata": {},
     "output_type": "execute_result"
    }
   ],
   "source": [
    "x9.abs(), x9"
   ]
  },
  {
   "cell_type": "code",
   "execution_count": 74,
   "metadata": {},
   "outputs": [
    {
     "data": {
      "text/plain": [
       "(\n",
       "  10  20  30\n",
       "  -3   3 -10\n",
       " [torch.FloatTensor of size 2x3], \n",
       "  10  20  30\n",
       "   3   3  10\n",
       " [torch.FloatTensor of size 2x3])"
      ]
     },
     "execution_count": 74,
     "metadata": {},
     "output_type": "execute_result"
    }
   ],
   "source": [
    "x9[1] = torch.Tensor([-3,3,-10])\n",
    "x9, x9.abs()"
   ]
  },
  {
   "cell_type": "code",
   "execution_count": 75,
   "metadata": {},
   "outputs": [
    {
     "data": {
      "text/plain": [
       "(\n",
       "  3\n",
       "  6\n",
       " [torch.FloatTensor of size 2], \n",
       "  2\n",
       "  2\n",
       " [torch.LongTensor of size 2])"
      ]
     },
     "execution_count": 75,
     "metadata": {},
     "output_type": "execute_result"
    }
   ],
   "source": [
    "value, index = x10.max(dim = 1)\n",
    "value, index"
   ]
  },
  {
   "cell_type": "code",
   "execution_count": 76,
   "metadata": {},
   "outputs": [
    {
     "data": {
      "text/plain": [
       "6.0"
      ]
     },
     "execution_count": 76,
     "metadata": {},
     "output_type": "execute_result"
    }
   ],
   "source": [
    "x10.max()"
   ]
  },
  {
   "cell_type": "markdown",
   "metadata": {},
   "source": [
    "\n",
    "# Matrix Calculate"
   ]
  },
  {
   "cell_type": "code",
   "execution_count": 79,
   "metadata": {},
   "outputs": [
    {
     "data": {
      "text/plain": [
       "(\n",
       "  1.6200  0.3436 -0.9112 -0.9952  0.7455\n",
       "  0.7371  1.2528  0.8503 -0.4165 -0.7499\n",
       "  1.0632  0.0073 -1.4252 -0.0781 -0.5138\n",
       " [torch.FloatTensor of size 3x5], \n",
       "  1.1375 -1.0246 -1.0300 -1.0129  0.0055\n",
       " -0.9347 -0.9882  1.3801 -0.1173  0.9317\n",
       "  1.3267 -1.0173 -1.8575  0.9015  0.1495\n",
       " -0.0336 -0.6076 -1.0048 -0.2826 -0.2711\n",
       "  1.3210  1.1608  0.3457 -0.1136 -0.8910\n",
       " [torch.FloatTensor of size 5x5], \n",
       "  0.2900 -2.1017 -1.1279\n",
       " -0.8191  0.5334  0.1381\n",
       "  1.6910  1.4114 -0.9804\n",
       " -0.7578 -0.3782  1.7211\n",
       "  0.0310 -0.4270 -0.3868\n",
       " [torch.FloatTensor of size 5x3])"
      ]
     },
     "execution_count": 79,
     "metadata": {},
     "output_type": "execute_result"
    }
   ],
   "source": [
    "x11 = torch.randn(3,5)\n",
    "x12 = torch.randn(5,5)\n",
    "x13 = torch.randn(5,3)\n",
    "x11, x12, x13"
   ]
  },
  {
   "cell_type": "code",
   "execution_count": 80,
   "metadata": {},
   "outputs": [
    {
     "data": {
      "text/plain": [
       "1.33094226"
      ]
     },
     "execution_count": 80,
     "metadata": {},
     "output_type": "execute_result"
    }
   ],
   "source": [
    "1.6200 * 1.1375  + 0.3436 * -0.9347 + -0.9112 * 1.3267 + -0.9952 *  -0.0336 + 0.7455 * 1.3210"
   ]
  },
  {
   "cell_type": "code",
   "execution_count": 81,
   "metadata": {},
   "outputs": [
    {
     "data": {
      "text/plain": [
       "(\n",
       "  1.3309  0.3977  1.7560 -2.3060 -0.2016\n",
       " -0.1809 -3.4757 -0.4504  0.0758  2.0794\n",
       " -1.3643 -0.1956  1.4632 -2.2821  0.2785\n",
       " [torch.FloatTensor of size 3x5], \n",
       "  1.3309  0.3977  1.7560 -2.3060 -0.2016\n",
       " -0.1809 -3.4757 -0.4504  0.0758  2.0794\n",
       " -1.3643 -0.1956  1.4632 -2.2821  0.2785\n",
       " [torch.FloatTensor of size 3x5])"
      ]
     },
     "execution_count": 81,
     "metadata": {},
     "output_type": "execute_result"
    }
   ],
   "source": [
    "torch.mm(x11,x12), x11.mm(x12)"
   ]
  },
  {
   "cell_type": "code",
   "execution_count": 82,
   "metadata": {},
   "outputs": [
    {
     "data": {
      "text/plain": [
       "\n",
       " 4.7708  0.8517 -7.0586\n",
       " 2.0399 -3.0259 -0.5083\n",
       " 3.9768  5.5725 -3.9584\n",
       "[torch.FloatTensor of size 3x3]"
      ]
     },
     "execution_count": 82,
     "metadata": {},
     "output_type": "execute_result"
    }
   ],
   "source": [
    "x11.mm(x12).mm(x13)"
   ]
  },
  {
   "cell_type": "code",
   "execution_count": 83,
   "metadata": {},
   "outputs": [
    {
     "data": {
      "text/plain": [
       "\n",
       " 0.8518  2.6549  6.4373 -4.5516  6.5445\n",
       " 0.5336 -3.0936 -3.7072 -0.7301  4.0510\n",
       " 6.3415  8.3187  6.7563 -5.9697  0.8199\n",
       "[torch.FloatTensor of size 3x5]"
      ]
     },
     "execution_count": 83,
     "metadata": {},
     "output_type": "execute_result"
    }
   ],
   "source": [
    "x11.mm(x12).mm(x13).mm(x11)"
   ]
  },
  {
   "cell_type": "code",
   "execution_count": 85,
   "metadata": {
    "scrolled": true
   },
   "outputs": [
    {
     "data": {
      "text/plain": [
       "(\n",
       " -0.4594 -1.1798  0.3812 -0.0064\n",
       "  0.5302  0.9990  1.0731  1.2506\n",
       "  0.5952 -0.2683 -0.3664 -1.0555\n",
       " [torch.FloatTensor of size 3x4], \n",
       "  0.6623\n",
       "  0.2916\n",
       "  0.0409\n",
       " -1.1908\n",
       " [torch.FloatTensor of size 4])"
      ]
     },
     "execution_count": 85,
     "metadata": {},
     "output_type": "execute_result"
    }
   ],
   "source": [
    "x14 = torch.randn(3, 4)\n",
    "v = torch.randn(4)\n",
    "\n",
    "x14, v"
   ]
  },
  {
   "cell_type": "code",
   "execution_count": 90,
   "metadata": {},
   "outputs": [
    {
     "data": {
      "text/plain": [
       "-0.6250781"
      ]
     },
     "execution_count": 90,
     "metadata": {},
     "output_type": "execute_result"
    }
   ],
   "source": [
    " -0.4594 * 0.6623 + -1.1798 * 0.2916 +0.3812 * 0.0409+ -0.0064 *  -1.1908"
   ]
  },
  {
   "cell_type": "code",
   "execution_count": 91,
   "metadata": {},
   "outputs": [
    {
     "data": {
      "text/plain": [
       "(\n",
       " -0.6250\n",
       " -0.8028\n",
       "  1.5579\n",
       " [torch.FloatTensor of size 3], \n",
       " -0.6250\n",
       " -0.8028\n",
       "  1.5579\n",
       " [torch.FloatTensor of size 3])"
      ]
     },
     "execution_count": 91,
     "metadata": {},
     "output_type": "execute_result"
    }
   ],
   "source": [
    "torch.mv(x14,v), x14.mv(v)"
   ]
  },
  {
   "cell_type": "code",
   "execution_count": 92,
   "metadata": {},
   "outputs": [
    {
     "data": {
      "text/plain": [
       "torch.Size([10, 3, 5])"
      ]
     },
     "execution_count": 92,
     "metadata": {},
     "output_type": "execute_result"
    }
   ],
   "source": [
    "x15 = torch.randn(10,3,4)\n",
    "x16 = torch.randn(10,4,5)\n",
    "\n",
    "torch.bmm(x15, x16).size()"
   ]
  },
  {
   "cell_type": "code",
   "execution_count": 93,
   "metadata": {},
   "outputs": [
    {
     "data": {
      "text/plain": [
       "\n",
       "(0 ,.,.) = \n",
       " -0.5047  0.4342 -0.4086 -0.0021  0.5403\n",
       " -0.4381  1.0152 -0.3796 -0.0158  0.0338\n",
       " -0.3715 -0.8279  0.0531  0.2299  1.8763\n",
       "\n",
       "(1 ,.,.) = \n",
       "  0.1488  3.0516 -1.2745 -0.5692 -2.3259\n",
       " -0.1456 -0.1965  0.1008  0.1268 -1.6053\n",
       "  0.0055 -6.4854  2.7934  1.0853  4.4562\n",
       "\n",
       "(2 ,.,.) = \n",
       " -0.7464  0.2797  0.1401  1.6908 -0.8691\n",
       " -0.7172 -0.8531  0.0412 -3.1834  0.3796\n",
       " -2.0599 -0.9898  0.2857 -2.4492 -1.2450\n",
       "\n",
       "(3 ,.,.) = \n",
       "  1.0934  0.9037  1.9944  0.6520 -0.2010\n",
       "  0.9530 -0.4007  0.5417  0.4567 -0.5303\n",
       "  0.5257 -2.2752 -1.7763  1.1526  0.7151\n",
       "\n",
       "(4 ,.,.) = \n",
       " -1.9854 -0.2488 -1.0746  2.3065 -0.5378\n",
       " -2.4420  1.3287  4.8221  3.6178  0.5243\n",
       " -0.1879  1.9169  7.9010  1.4061  1.3991\n",
       "\n",
       "(5 ,.,.) = \n",
       " -0.7174  3.3836 -1.9410 -1.2488  0.5283\n",
       "  2.1663  0.0327  0.2606  0.5571 -0.3903\n",
       " -2.3738  0.2240  0.2099 -1.7826  0.1796\n",
       "\n",
       "(6 ,.,.) = \n",
       " -1.5084 -0.4215  0.4358  0.2241  0.2343\n",
       " -0.2317  0.2421 -0.2743 -0.0088  0.5063\n",
       "  1.1475  2.5723 -3.0832 -0.3513  0.8209\n",
       "\n",
       "(7 ,.,.) = \n",
       "  1.8319  0.3353 -0.0807 -0.0077  1.0603\n",
       " -1.9328  1.1251 -0.1942  1.3444 -0.3112\n",
       "  3.2921 -1.7329  1.9360 -4.2761  2.4214\n",
       "\n",
       "(8 ,.,.) = \n",
       "  1.1665 -2.5926 -1.6577 -3.2226 -1.7492\n",
       " -0.6885  0.1158 -0.3767  2.9974  1.2326\n",
       "  0.4135  2.1973  1.6734  2.8118  1.2363\n",
       "\n",
       "(9 ,.,.) = \n",
       "  0.7201  0.4887  0.1463 -1.6764  0.8631\n",
       "  0.5276  0.9577  1.0776  0.3608 -0.5595\n",
       " -0.3139 -1.6358  1.0121  1.5713  3.2825\n",
       "[torch.FloatTensor of size 10x3x5]"
      ]
     },
     "execution_count": 93,
     "metadata": {},
     "output_type": "execute_result"
    }
   ],
   "source": [
    "torch.bmm(x15, x16)"
   ]
  },
  {
   "cell_type": "code",
   "execution_count": 95,
   "metadata": {},
   "outputs": [
    {
     "data": {
      "text/plain": [
       "(0.3637520372867584, \n",
       "  1.7038 -1.6000\n",
       "  1.4366 -0.9917\n",
       " [torch.FloatTensor of size 2x2], \n",
       " -0.6295 -1.0304\n",
       " -0.0231  0.1807\n",
       " [torch.FloatTensor of size 2x2])"
      ]
     },
     "execution_count": 95,
     "metadata": {},
     "output_type": "execute_result"
    }
   ],
   "source": [
    "x17 = torch.randn(2,2)\n",
    "x18 = torch.randn(2,2)\n",
    "\n",
    "torch.dot(x17.view(-1), x18.view(-1)), x17, x18"
   ]
  },
  {
   "cell_type": "code",
   "execution_count": 97,
   "metadata": {},
   "outputs": [
    {
     "data": {
      "text/plain": [
       "0.3637122500000002"
      ]
     },
     "execution_count": 97,
     "metadata": {},
     "output_type": "execute_result"
    }
   ],
   "source": [
    "1.7038 *  -0.6295 + -1.6000 *  -1.0304 +  1.4366 * -0.0231 + -0.9917 * 0.1807"
   ]
  },
  {
   "cell_type": "code",
   "execution_count": 99,
   "metadata": {},
   "outputs": [
    {
     "data": {
      "text/plain": [
       "0.3637520372867584"
      ]
     },
     "execution_count": 99,
     "metadata": {},
     "output_type": "execute_result"
    }
   ],
   "source": [
    "torch.dot(x17.view(-1), x18.view(-1))"
   ]
  },
  {
   "cell_type": "code",
   "execution_count": 113,
   "metadata": {},
   "outputs": [
    {
     "data": {
      "text/plain": [
       "(\n",
       "  0.5190  0.4438  0.7709  0.0193\n",
       "  0.5689  0.0670  0.4657  0.8118\n",
       "  0.3427  0.6363  0.0682  0.7729\n",
       " [torch.FloatTensor of size 3x4], \n",
       "  0.5190  0.5689  0.3427\n",
       "  0.4438  0.0670  0.6363\n",
       "  0.7709  0.4657  0.0682\n",
       "  0.0193  0.8118  0.7729\n",
       " [torch.FloatTensor of size 4x3])"
      ]
     },
     "execution_count": 113,
     "metadata": {},
     "output_type": "execute_result"
    }
   ],
   "source": [
    "x19  = torch.rand(3,4)\n",
    "\n",
    "x19, x19.t()"
   ]
  },
  {
   "cell_type": "code",
   "execution_count": 117,
   "metadata": {},
   "outputs": [
    {
     "data": {
      "text/plain": [
       "(\n",
       " -0.5015  0.8302  0.2435\n",
       " -0.6404 -0.1670 -0.7497\n",
       " -0.5817 -0.5320  0.6153\n",
       " [torch.FloatTensor of size 3x3], \n",
       "  1.6020\n",
       "  0.7629\n",
       "  0.4905\n",
       " [torch.FloatTensor of size 3], \n",
       " -0.5143  0.2013 -0.1818\n",
       " -0.3968  0.0246  0.9161\n",
       " -0.4523  0.6893 -0.2435\n",
       " -0.6112 -0.6955 -0.2616\n",
       " [torch.FloatTensor of size 4x3], \n",
       "  0.5190  0.4438  0.7709  0.0193\n",
       "  0.5689  0.0670  0.4657  0.8118\n",
       "  0.3427  0.6363  0.0682  0.7729\n",
       " [torch.FloatTensor of size 3x4])"
      ]
     },
     "execution_count": 117,
     "metadata": {},
     "output_type": "execute_result"
    }
   ],
   "source": [
    "u, s, v = torch.svd(x19)\n",
    "u, s, v, x19"
   ]
  },
  {
   "cell_type": "code",
   "execution_count": 119,
   "metadata": {},
   "outputs": [
    {
     "data": {
      "text/plain": [
       "4.1829966335171775e-07"
      ]
     },
     "execution_count": 119,
     "metadata": {},
     "output_type": "execute_result"
    }
   ],
   "source": [
    "torch.dist(x19, torch.mm(torch.mm(u, torch.diag(s)), v.t()))"
   ]
  },
  {
   "cell_type": "markdown",
   "metadata": {},
   "source": [
    "\n",
    "# Tensor Data Type"
   ]
  },
  {
   "cell_type": "code",
   "execution_count": 121,
   "metadata": {},
   "outputs": [
    {
     "data": {
      "text/plain": [
       "\n",
       " 0.9828  0.0444\n",
       " 0.1816  0.2812\n",
       "[torch.FloatTensor of size 2x2]"
      ]
     },
     "execution_count": 121,
     "metadata": {},
     "output_type": "execute_result"
    }
   ],
   "source": [
    "x20 = torch.rand(2,2)\n",
    "x20"
   ]
  },
  {
   "cell_type": "code",
   "execution_count": 126,
   "metadata": {},
   "outputs": [
    {
     "data": {
      "text/plain": [
       "\n",
       " 1\n",
       " 1\n",
       "[torch.LongTensor of size 2]"
      ]
     },
     "execution_count": 126,
     "metadata": {},
     "output_type": "execute_result"
    }
   ],
   "source": [
    "x20  = torch.LongTensor([1,1])\n",
    "x20"
   ]
  },
  {
   "cell_type": "code",
   "execution_count": 124,
   "metadata": {},
   "outputs": [
    {
     "data": {
      "text/plain": [
       "\n",
       " 1\n",
       " 1\n",
       "[torch.FloatTensor of size 2]"
      ]
     },
     "execution_count": 124,
     "metadata": {},
     "output_type": "execute_result"
    }
   ],
   "source": [
    "x20.float()"
   ]
  },
  {
   "cell_type": "code",
   "execution_count": 125,
   "metadata": {},
   "outputs": [
    {
     "data": {
      "text/plain": [
       "\n",
       " 1\n",
       " 1\n",
       "[torch.DoubleTensor of size 2]"
      ]
     },
     "execution_count": 125,
     "metadata": {},
     "output_type": "execute_result"
    }
   ],
   "source": [
    "x20.double()"
   ]
  },
  {
   "cell_type": "code",
   "execution_count": 128,
   "metadata": {},
   "outputs": [
    {
     "data": {
      "text/plain": [
       "\n",
       " 1\n",
       " 1\n",
       "[torch.ByteTensor of size 2]"
      ]
     },
     "execution_count": 128,
     "metadata": {},
     "output_type": "execute_result"
    }
   ],
   "source": [
    "x20.byte()"
   ]
  },
  {
   "cell_type": "code",
   "execution_count": 129,
   "metadata": {},
   "outputs": [
    {
     "data": {
      "text/plain": [
       "\n",
       " 1\n",
       " 1\n",
       "[torch.LongTensor of size 2]"
      ]
     },
     "execution_count": 129,
     "metadata": {},
     "output_type": "execute_result"
    }
   ],
   "source": [
    "x20"
   ]
  },
  {
   "cell_type": "code",
   "execution_count": 130,
   "metadata": {},
   "outputs": [
    {
     "data": {
      "text/plain": [
       "\n",
       " 1\n",
       " 1\n",
       "[torch.LongTensor of size 2]"
      ]
     },
     "execution_count": 130,
     "metadata": {},
     "output_type": "execute_result"
    }
   ],
   "source": [
    "x20 = x20.cpu()\n",
    "x20"
   ]
  },
  {
   "cell_type": "code",
   "execution_count": 131,
   "metadata": {},
   "outputs": [
    {
     "data": {
      "text/plain": [
       "array([1, 1])"
      ]
     },
     "execution_count": 131,
     "metadata": {},
     "output_type": "execute_result"
    }
   ],
   "source": [
    "x20.numpy()"
   ]
  },
  {
   "cell_type": "code",
   "execution_count": 133,
   "metadata": {},
   "outputs": [
    {
     "data": {
      "text/plain": [
       "\n",
       " 0.3741  0.0707\n",
       " 0.1669  0.2863\n",
       " 0.4321  0.9944\n",
       "[torch.DoubleTensor of size 3x2]"
      ]
     },
     "execution_count": 133,
     "metadata": {},
     "output_type": "execute_result"
    }
   ],
   "source": [
    "torch.from_numpy(np.random.rand(3,2))"
   ]
  },
  {
   "cell_type": "code",
   "execution_count": null,
   "metadata": {
    "collapsed": true
   },
   "outputs": [],
   "source": []
  }
 ],
 "metadata": {
  "kernelspec": {
   "display_name": "Python 3",
   "language": "python",
   "name": "python3"
  },
  "language_info": {
   "codemirror_mode": {
    "name": "ipython",
    "version": 3
   },
   "file_extension": ".py",
   "mimetype": "text/x-python",
   "name": "python",
   "nbconvert_exporter": "python",
   "pygments_lexer": "ipython3",
   "version": "3.6.0"
  }
 },
 "nbformat": 4,
 "nbformat_minor": 2
}
