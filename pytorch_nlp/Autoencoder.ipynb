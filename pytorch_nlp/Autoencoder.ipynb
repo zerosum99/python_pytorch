{
 "cells": [
  {
   "cell_type": "markdown",
   "metadata": {},
   "source": [
    "# Autoencoders"
   ]
  },
  {
   "cell_type": "markdown",
   "metadata": {},
   "source": [
    "Welcome our treasured friends, PyTorch and TorchVision."
   ]
  },
  {
   "cell_type": "code",
   "execution_count": 1,
   "metadata": {},
   "outputs": [],
   "source": [
    "import torch\n",
    "import torchvision"
   ]
  },
  {
   "cell_type": "markdown",
   "metadata": {},
   "source": [
    "As we will be using image data, we need to define some preprocessing."
   ]
  },
  {
   "cell_type": "code",
   "execution_count": 2,
   "metadata": {},
   "outputs": [],
   "source": [
    "transform = torchvision.transforms.Compose([\n",
    "    torchvision.transforms.ToTensor(),\n",
    "    torchvision.transforms.Normalize((0.5, ), (0.5, )),\n",
    "])"
   ]
  },
  {
   "cell_type": "markdown",
   "metadata": {},
   "source": [
    "We will be using the MNIST dataset today."
   ]
  },
  {
   "cell_type": "code",
   "execution_count": 3,
   "metadata": {},
   "outputs": [],
   "source": [
    "data = torchvision.datasets.MNIST(\n",
    "    './',\n",
    "    train=True,\n",
    "    download=True,\n",
    "    transform=transform)"
   ]
  },
  {
   "cell_type": "markdown",
   "metadata": {},
   "source": [
    "Let's define a function to make Jupyter Notebook display our data."
   ]
  },
  {
   "cell_type": "code",
   "execution_count": 4,
   "metadata": {},
   "outputs": [],
   "source": [
    "from matplotlib.pyplot import imshow\n",
    "\n",
    "def show_images(images):\n",
    "    images = images.cpu()\n",
    "    \n",
    "    # Convert grayscale image into RGB channels.\n",
    "    images = images.expand(-1, 3, -1, -1)\n",
    "    \n",
    "    # Make a grid view image of this batch.\n",
    "    images = torchvision.utils.make_grid(images)\n",
    "    \n",
    "    # Unnormalize.\n",
    "    images = images / 2 + 0.5\n",
    "    \n",
    "    # Convert PyTorch tensor to a NumPy array.\n",
    "    images = images.numpy().transpose([1, 2, 0])\n",
    "    \n",
    "    # Display images.\n",
    "    imshow(images)"
   ]
  },
  {
   "cell_type": "markdown",
   "metadata": {},
   "source": [
    "Let's see how the data looks like!"
   ]
  },
  {
   "cell_type": "code",
   "execution_count": 5,
   "metadata": {},
   "outputs": [
    {
     "data": {
      "image/png": "[encoded data removed]",
      "text/plain": [
       "<Figure size 432x288 with 1 Axes>"
      ]
     },
     "metadata": {},
     "output_type": "display_data"
    }
   ],
   "source": [
    "sample_batch = iter(torch.utils.data.DataLoader(\n",
    "    data, shuffle=False, batch_size=8)).next()[0]\n",
    "show_images(sample_batch)"
   ]
  },
  {
   "cell_type": "markdown",
   "metadata": {},
   "source": [
    "Here's some idea of what we'll be building:\n",
    "![](http://curiousily.com/assets/12.what_to_do_when_data_is_missing_part_ii_files/mushroom_encoder.png)"
   ]
  },
  {
   "cell_type": "markdown",
   "metadata": {},
   "source": [
    "Let's define our encoder and decoder modules separately. Simple models can be created with `torch.nn.Sequential`, which saves the effort of defining a class."
   ]
  },
  {
   "cell_type": "code",
   "execution_count": 6,
   "metadata": {},
   "outputs": [],
   "source": [
    "encoder = torch.nn.Sequential(\n",
    "    torch.nn.Conv2d(1, 16, 3, stride=3, padding=1), # (16, 10, 10)\n",
    "    torch.nn.ReLU(),\n",
    "    torch.nn.MaxPool2d(2, stride=2), # (16, 5, 5)\n",
    "    torch.nn.Conv2d(16, 8, 3, stride=2, padding=1), # (8, 3, 3)\n",
    "    torch.nn.ReLU(),\n",
    "    torch.nn.MaxPool2d(2, stride=1) # (8, 2, 2)\n",
    ")\n",
    "\n",
    "decoder = torch.nn.Sequential(\n",
    "    torch.nn.ConvTranspose2d(8, 16, 3, stride=2), # (16, 5, 5)\n",
    "    torch.nn.ReLU(),\n",
    "    torch.nn.ConvTranspose2d(16, 8, 5, stride=3, padding=1), # (8, 15, 15)\n",
    "    torch.nn.ReLU(),\n",
    "    torch.nn.ConvTranspose2d(8, 1, 2, stride=2, padding=1), # (1, 28, 28)\n",
    "    torch.nn.Tanh()\n",
    ")"
   ]
  },
  {
   "cell_type": "markdown",
   "metadata": {},
   "source": [
    "Don't forget the loss function and the optimizer. As we have two models, we need to let the optimizer know both."
   ]
  },
  {
   "cell_type": "code",
   "execution_count": 7,
   "metadata": {},
   "outputs": [],
   "source": [
    "criterion = torch.nn.MSELoss()\n",
    "\n",
    "from itertools import chain\n",
    "parameters = chain(encoder.parameters(), decoder.parameters())\n",
    "optimizer = torch.optim.Adam(parameters, lr=1e-3, weight_decay=1e-15)"
   ]
  },
  {
   "cell_type": "markdown",
   "metadata": {},
   "source": [
    "Here's some speedup for the lucky ones who have a GPU:"
   ]
  },
  {
   "cell_type": "code",
   "execution_count": 8,
   "metadata": {},
   "outputs": [
    {
     "name": "stdout",
     "output_type": "stream",
     "text": [
      "Using CUDA\n"
     ]
    }
   ],
   "source": [
    "GPU_ID = 2\n",
    "\n",
    "if torch.cuda.is_available():\n",
    "    print('Using CUDA')\n",
    "    sample_batch = sample_batch.cuda(device=GPU_ID)\n",
    "    encoder = encoder.cuda(device=GPU_ID)\n",
    "    decoder = decoder.cuda(device=GPU_ID)"
   ]
  },
  {
   "cell_type": "markdown",
   "metadata": {},
   "source": [
    "Let's batchfiy our data now."
   ]
  },
  {
   "cell_type": "code",
   "execution_count": 9,
   "metadata": {},
   "outputs": [],
   "source": [
    "BATCH_SIZE = 512\n",
    "NUM_WORKERS = 2\n",
    "batches = torch.utils.data.DataLoader(\n",
    "    dataset=data,\n",
    "    shuffle=True,\n",
    "    batch_size=BATCH_SIZE,\n",
    "    num_workers=NUM_WORKERS,\n",
    "     drop_last=True)"
   ]
  },
  {
   "cell_type": "markdown",
   "metadata": {},
   "source": [
    "Finally, let's get training!"
   ]
  },
  {
   "cell_type": "code",
   "execution_count": 10,
   "metadata": {},
   "outputs": [
    {
     "name": "stdout",
     "output_type": "stream",
     "text": [
      "epoch 0: loss 0.658\n",
      "epoch 1: loss 0.410\n",
      "epoch 2: loss 0.375\n",
      "epoch 3: loss 0.336\n",
      "epoch 4: loss 0.315\n",
      "epoch 5: loss 0.284\n",
      "epoch 6: loss 0.260\n",
      "epoch 7: loss 0.233\n",
      "epoch 8: loss 0.222\n",
      "epoch 9: loss 0.208\n",
      "epoch 10: loss 0.179\n",
      "epoch 11: loss 0.172\n",
      "epoch 12: loss 0.167\n",
      "epoch 13: loss 0.163\n",
      "epoch 14: loss 0.160\n",
      "epoch 15: loss 0.155\n",
      "epoch 16: loss 0.152\n",
      "epoch 17: loss 0.149\n",
      "epoch 18: loss 0.147\n",
      "epoch 19: loss 0.144\n",
      "epoch 20: loss 0.142\n",
      "epoch 21: loss 0.140\n",
      "epoch 22: loss 0.138\n",
      "epoch 23: loss 0.136\n",
      "epoch 24: loss 0.135\n",
      "epoch 25: loss 0.134\n",
      "epoch 26: loss 0.133\n",
      "epoch 27: loss 0.132\n",
      "epoch 28: loss 0.131\n",
      "epoch 29: loss 0.130\n",
      "epoch 30: loss 0.129\n",
      "epoch 31: loss 0.129\n"
     ]
    }
   ],
   "source": [
    "NUM_EPOCHS = 32\n",
    "\n",
    "for epoch in range(NUM_EPOCHS):\n",
    "    epoch_loss = 0\n",
    "    with torch.set_grad_enabled(True):\n",
    "        for image, target in batches:\n",
    "            if torch.cuda.is_available():\n",
    "                image = image.cuda(device=GPU_ID)\n",
    "\n",
    "            code = encoder(image)\n",
    "            reconstruction = decoder(code)\n",
    "            loss = criterion(reconstruction, image)\n",
    "            \n",
    "            optimizer.zero_grad()\n",
    "            loss.backward()\n",
    "            optimizer.step()\n",
    "            epoch_loss += float(loss)\n",
    "            \n",
    "    print(f'epoch {epoch}: loss {epoch_loss/len(batches):.3f}')"
   ]
  },
  {
   "cell_type": "markdown",
   "metadata": {},
   "source": [
    "Let's see the trained results. Here are the sample batch that we extracted earlier:"
   ]
  },
  {
   "cell_type": "code",
   "execution_count": 11,
   "metadata": {},
   "outputs": [
    {
     "data": {
      "image/png": "[encoded data removed]",
      "text/plain": [
       "<Figure size 432x288 with 1 Axes>"
      ]
     },
     "metadata": {},
     "output_type": "display_data"
    }
   ],
   "source": [
    "show_images(sample_batch)"
   ]
  },
  {
   "cell_type": "markdown",
   "metadata": {},
   "source": [
    "And here are our autoencoder's reconstruction of them:"
   ]
  },
  {
   "cell_type": "code",
   "execution_count": 12,
   "metadata": {},
   "outputs": [
    {
     "data": {
      "image/png": "[encoded data removed]",
      "text/plain": [
       "<Figure size 432x288 with 1 Axes>"
      ]
     },
     "metadata": {},
     "output_type": "display_data"
    }
   ],
   "source": [
    "with torch.no_grad():\n",
    "    show_images(decoder(encoder(sample_batch)))"
   ]
  },
  {
   "cell_type": "markdown",
   "metadata": {},
   "source": [
    "## Denoising autoencoder\n",
    "\n",
    "Autoencoders can also be used to denoise images.\n",
    "\n",
    "![](https://cdn-images-1.medium.com/max/1040/1*SxwRp9i23OM0Up4sEze1QQ@2x.png)\n",
    "\n",
    "First, we need to define the noise creating function:"
   ]
  },
  {
   "cell_type": "code",
   "execution_count": 13,
   "metadata": {},
   "outputs": [
    {
     "data": {
      "image/png": "[encoded data removed]",
      "text/plain": [
       "<Figure size 432x288 with 1 Axes>"
      ]
     },
     "metadata": {},
     "output_type": "display_data"
    }
   ],
   "source": [
    "def add_noise(x):\n",
    "    noise = torch.FloatTensor(x.size()).normal_(0, 1)\n",
    "    if torch.cuda.is_available():\n",
    "        noise = noise.cuda(device=GPU_ID)\n",
    "    return (x + noise).clamp_(-1, 1)\n",
    "\n",
    "\n",
    "noisy_sample = add_noise(sample_batch)\n",
    "show_images(noisy_sample)"
   ]
  },
  {
   "cell_type": "markdown",
   "metadata": {},
   "source": [
    "Let's start training!"
   ]
  },
  {
   "cell_type": "code",
   "execution_count": 14,
   "metadata": {},
   "outputs": [
    {
     "name": "stdout",
     "output_type": "stream",
     "text": [
      "epoch 0: loss 0.177\n",
      "epoch 1: loss 0.170\n",
      "epoch 2: loss 0.168\n",
      "epoch 3: loss 0.167\n",
      "epoch 4: loss 0.166\n",
      "epoch 5: loss 0.165\n",
      "epoch 6: loss 0.164\n",
      "epoch 7: loss 0.164\n",
      "epoch 8: loss 0.163\n",
      "epoch 9: loss 0.163\n",
      "epoch 10: loss 0.163\n",
      "epoch 11: loss 0.162\n",
      "epoch 12: loss 0.162\n",
      "epoch 13: loss 0.162\n",
      "epoch 14: loss 0.162\n",
      "epoch 15: loss 0.161\n",
      "epoch 16: loss 0.161\n",
      "epoch 17: loss 0.161\n",
      "epoch 18: loss 0.161\n",
      "epoch 19: loss 0.160\n",
      "epoch 20: loss 0.160\n",
      "epoch 21: loss 0.160\n",
      "epoch 22: loss 0.160\n",
      "epoch 23: loss 0.160\n",
      "epoch 24: loss 0.160\n",
      "epoch 25: loss 0.159\n",
      "epoch 26: loss 0.159\n",
      "epoch 27: loss 0.159\n",
      "epoch 28: loss 0.159\n",
      "epoch 29: loss 0.159\n",
      "epoch 30: loss 0.159\n",
      "epoch 31: loss 0.159\n",
      "epoch 32: loss 0.158\n",
      "epoch 33: loss 0.158\n",
      "epoch 34: loss 0.158\n",
      "epoch 35: loss 0.158\n",
      "epoch 36: loss 0.158\n",
      "epoch 37: loss 0.158\n",
      "epoch 38: loss 0.158\n",
      "epoch 39: loss 0.158\n",
      "epoch 40: loss 0.158\n",
      "epoch 41: loss 0.157\n",
      "epoch 42: loss 0.157\n",
      "epoch 43: loss 0.157\n",
      "epoch 44: loss 0.157\n",
      "epoch 45: loss 0.157\n",
      "epoch 46: loss 0.157\n",
      "epoch 47: loss 0.157\n",
      "epoch 48: loss 0.157\n",
      "epoch 49: loss 0.157\n",
      "epoch 50: loss 0.157\n",
      "epoch 51: loss 0.157\n",
      "epoch 52: loss 0.157\n",
      "epoch 53: loss 0.157\n",
      "epoch 54: loss 0.157\n",
      "epoch 55: loss 0.157\n",
      "epoch 56: loss 0.156\n",
      "epoch 57: loss 0.156\n",
      "epoch 58: loss 0.156\n",
      "epoch 59: loss 0.156\n",
      "epoch 60: loss 0.156\n",
      "epoch 61: loss 0.156\n",
      "epoch 62: loss 0.156\n",
      "epoch 63: loss 0.156\n"
     ]
    }
   ],
   "source": [
    "NUM_EPOCHS = 64\n",
    "for epoch in range(NUM_EPOCHS):\n",
    "    epoch_loss = 0\n",
    "    with torch.set_grad_enabled(True):\n",
    "        for image, target in batches:\n",
    "            if torch.cuda.is_available():\n",
    "                image = image.cuda(device=GPU_ID)\n",
    "            \n",
    "            noisy_image = add_noise(image)\n",
    "\n",
    "            code = encoder(noisy_image)\n",
    "            reconstruction = decoder(code)\n",
    "            loss = criterion(reconstruction, image)\n",
    "            \n",
    "            optimizer.zero_grad()\n",
    "            loss.backward()\n",
    "            optimizer.step()\n",
    "            epoch_loss += float(loss)\n",
    "            \n",
    "    print(f'epoch {epoch}: loss {epoch_loss/len(batches):.3f}')"
   ]
  },
  {
   "cell_type": "markdown",
   "metadata": {},
   "source": [
    "Our noisy inputs were:"
   ]
  },
  {
   "cell_type": "code",
   "execution_count": 15,
   "metadata": {},
   "outputs": [
    {
     "data": {
      "image/png": "[encoded data removed]",
      "text/plain": [
       "<Figure size 432x288 with 1 Axes>"
      ]
     },
     "metadata": {},
     "output_type": "display_data"
    }
   ],
   "source": [
    " show_images(noisy_sample)"
   ]
  },
  {
   "cell_type": "markdown",
   "metadata": {},
   "source": [
    "The autoencoder have made them a bit better:"
   ]
  },
  {
   "cell_type": "code",
   "execution_count": 16,
   "metadata": {},
   "outputs": [
    {
     "data": {
      "image/png": "[encoded data removed]",
      "text/plain": [
       "<Figure size 432x288 with 1 Axes>"
      ]
     },
     "metadata": {},
     "output_type": "display_data"
    }
   ],
   "source": [
    "with torch.no_grad():\n",
    "    show_images(decoder(encoder(noisy_sample)))"
   ]
  },
  {
   "cell_type": "code",
   "execution_count": null,
   "metadata": {},
   "outputs": [],
   "source": []
  }
 ],
 "metadata": {
  "kernelspec": {
   "display_name": "Python 3 (pytorch-v0.4.1)",
   "language": "python",
   "name": "pytorch-v0.4.1"
  },
  "language_info": {
   "codemirror_mode": {
    "name": "ipython",
    "version": 3
   },
   "file_extension": ".py",
   "mimetype": "text/x-python",
   "name": "python",
   "nbconvert_exporter": "python",
   "pygments_lexer": "ipython3",
   "version": "3.7.0"
  }
 },
 "nbformat": 4,
 "nbformat_minor": 2
}
