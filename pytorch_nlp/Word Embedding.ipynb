{
 "cells": [
  {
   "cell_type": "markdown",
   "metadata": {},
   "source": [
    "# Word Embedding"
   ]
  },
  {
   "cell_type": "code",
   "execution_count": 1,
   "metadata": {},
   "outputs": [],
   "source": [
    "import torch"
   ]
  },
  {
   "cell_type": "markdown",
   "metadata": {},
   "source": [
    "## Word2Vec (2013)\n",
    "\n",
    "[Efficient Estimation of Word Representations in Vector Space](https://arxiv.org/pdf/1301.3781.pdf)\n",
    "\n",
    "by Tomas Mikolov, Kai Chen, Greg Corrado, and Jeffrey Dean\n",
    "\n",
    "![](http://i.imgur.com/agTBWiT.png)\n",
    "\n",
    "### Continuous Bag-Of-Words vs. Skip-gram\n",
    "\n",
    "* CBOW: guessing the blank\n",
    "* Skip-gram: guessing the neighbors\n",
    "\n",
    "![](https://ascelibrary.org/cms/attachment/83d45b70-be2d-4dae-a37a-e3b51af0b7c4/figure3.jpg)"
   ]
  },
  {
   "cell_type": "code",
   "execution_count": 2,
   "metadata": {},
   "outputs": [],
   "source": [
    "NANO_CORPUS = \"\"\"We are about to study the idea of a computational process.\n",
    "Computational processes are abstract beings that inhabit computers.\n",
    "As they evolve, processes manipulate other abstract things called data.\n",
    "The evolution of a process is directed by a pattern of rules\n",
    "called a program. People create programs to direct processes. In effect,\n",
    "we conjure the spirits of the computer with our spells.\"\"\""
   ]
  },
  {
   "cell_type": "code",
   "execution_count": 3,
   "metadata": {},
   "outputs": [
    {
     "name": "stdout",
     "output_type": "stream",
     "text": [
      "['we', 'are', 'about', 'to', 'study', 'the', 'idea', 'of', 'a', 'computational', 'process', 'computational', 'processes', 'are', 'abstract', 'beings', 'that', 'inhabit', 'computers', 'as', 'they', 'evolve', 'processes', 'manipulate', 'other', 'abstract', 'things', 'called', 'data', 'the', 'evolution', 'of', 'a', 'process', 'is', 'directed', 'by', 'a', 'pattern', 'of', 'rules', 'called', 'a', 'program', 'people', 'create', 'programs', 'to', 'direct', 'processes', 'in', 'effect', 'we', 'conjure', 'the', 'spirits', 'of', 'the', 'computer', 'with', 'our', 'spells']\n"
     ]
    }
   ],
   "source": [
    "corpus = NANO_CORPUS.lower().replace(',', ' ').replace('.', ' ').split()\n",
    "print(corpus)"
   ]
  },
  {
   "cell_type": "code",
   "execution_count": 4,
   "metadata": {},
   "outputs": [
    {
     "data": {
      "text/plain": [
       "['our',\n",
       " 'idea',\n",
       " 'of',\n",
       " 'are',\n",
       " 'conjure',\n",
       " 'we',\n",
       " 'they',\n",
       " 'to',\n",
       " 'computer',\n",
       " 'spirits',\n",
       " 'process',\n",
       " 'people',\n",
       " 'about',\n",
       " 'by',\n",
       " 'the',\n",
       " 'with',\n",
       " 'directed',\n",
       " 'that',\n",
       " 'inhabit',\n",
       " 'create',\n",
       " 'study',\n",
       " 'evolution',\n",
       " 'effect',\n",
       " 'computational',\n",
       " 'is',\n",
       " 'processes',\n",
       " 'computers',\n",
       " 'evolve',\n",
       " 'manipulate',\n",
       " 'other',\n",
       " 'program',\n",
       " 'rules',\n",
       " 'pattern',\n",
       " 'abstract',\n",
       " 'beings',\n",
       " 'called',\n",
       " 'direct',\n",
       " 'as',\n",
       " 'data',\n",
       " 'spells',\n",
       " 'things',\n",
       " 'programs',\n",
       " 'in',\n",
       " 'a']"
      ]
     },
     "execution_count": 4,
     "metadata": {},
     "output_type": "execute_result"
    }
   ],
   "source": [
    "import pandas as pd\n",
    "\n",
    "vocabulary = list(set(corpus))\n",
    "vocabulary"
   ]
  },
  {
   "cell_type": "markdown",
   "metadata": {},
   "source": [
    "Before we begin anything, we need to create a one-hot vector of the words. Pandas is great at this."
   ]
  },
  {
   "cell_type": "code",
   "execution_count": 5,
   "metadata": {},
   "outputs": [
    {
     "data": {
      "text/plain": [
       "0     0\n",
       "1     0\n",
       "2     0\n",
       "3     0\n",
       "4     0\n",
       "5     0\n",
       "6     0\n",
       "7     0\n",
       "8     0\n",
       "9     0\n",
       "10    0\n",
       "11    0\n",
       "12    1\n",
       "13    0\n",
       "14    0\n",
       "15    0\n",
       "16    0\n",
       "17    0\n",
       "18    0\n",
       "19    0\n",
       "20    0\n",
       "21    0\n",
       "22    0\n",
       "23    0\n",
       "24    0\n",
       "25    0\n",
       "26    0\n",
       "27    0\n",
       "28    0\n",
       "29    0\n",
       "30    0\n",
       "31    0\n",
       "32    0\n",
       "33    0\n",
       "34    0\n",
       "35    0\n",
       "36    0\n",
       "37    0\n",
       "38    0\n",
       "39    0\n",
       "40    0\n",
       "41    0\n",
       "42    0\n",
       "43    0\n",
       "Name: about, dtype: uint8"
      ]
     },
     "execution_count": 5,
     "metadata": {},
     "output_type": "execute_result"
    }
   ],
   "source": [
    "one_hot = pd.get_dummies(vocabulary)\n",
    "one_hot['about']"
   ]
  },
  {
   "cell_type": "code",
   "execution_count": 6,
   "metadata": {},
   "outputs": [],
   "source": [
    "EMBEDDING_SIZE = 128\n",
    "\n",
    "class CBOW(torch.nn.Module):\n",
    "    def __init__(self):\n",
    "        super(CBOW, self).__init__()\n",
    "        \n",
    "        self.embeddings = torch.FloatTensor(len(vocabulary), EMBEDDING_SIZE).normal_()\n",
    "        self.linear1 = torch.nn.Linear(EMBEDDING_SIZE, 128)\n",
    "        self.relu1 = torch.nn.ReLU()\n",
    "        self.linear2 = torch.nn.Linear(128, len(vocabulary))\n",
    "    \n",
    "    def forward(self, x):\n",
    "        x = torch.sum(self.embeddings * x.sum(dim=0).view(-1, 1), dim=0) # (4, 44) -> (1, 44) -> (44, 1) -> (128)\n",
    "        x = self.linear1(x) # (128)\n",
    "        x = self.relu1(x) # (128)\n",
    "        x = self.linear2(x) # (44)\n",
    "        \n",
    "        return x.view(1, -1) # (1,44)\n",
    "    \n",
    "    def get_word_embedding(self, word):\n",
    "        return self.embeddings[vocabulary.index(word)].view(1, -1)\n",
    "\n",
    "cbow = CBOW()\n",
    "criterion = torch.nn.CrossEntropyLoss()\n",
    "optimizer = torch.optim.SGD(cbow.parameters(), lr=0.001)"
   ]
  },
  {
   "cell_type": "code",
   "execution_count": 7,
   "metadata": {},
   "outputs": [
    {
     "name": "stdout",
     "output_type": "stream",
     "text": [
      "Epoch 0: loss 3.8058\n",
      "Epoch 1: loss 3.6892\n",
      "Epoch 2: loss 3.5765\n",
      "Epoch 3: loss 3.4670\n",
      "Epoch 4: loss 3.3604\n",
      "Epoch 5: loss 3.2565\n",
      "Epoch 6: loss 3.1550\n",
      "Epoch 7: loss 3.0556\n",
      "Epoch 8: loss 2.9584\n",
      "Epoch 9: loss 2.8639\n",
      "Epoch 10: loss 2.7719\n",
      "Epoch 11: loss 2.6816\n",
      "Epoch 12: loss 2.5932\n",
      "Epoch 13: loss 2.5066\n",
      "Epoch 14: loss 2.4212\n",
      "Epoch 15: loss 2.3374\n",
      "Epoch 16: loss 2.2553\n",
      "Epoch 17: loss 2.1745\n",
      "Epoch 18: loss 2.0953\n",
      "Epoch 19: loss 2.0172\n",
      "Epoch 20: loss 1.9409\n",
      "Epoch 21: loss 1.8656\n",
      "Epoch 22: loss 1.7920\n",
      "Epoch 23: loss 1.7198\n",
      "Epoch 24: loss 1.6498\n",
      "Epoch 25: loss 1.5810\n",
      "Epoch 26: loss 1.5140\n",
      "Epoch 27: loss 1.4488\n",
      "Epoch 28: loss 1.3856\n",
      "Epoch 29: loss 1.3242\n",
      "Epoch 30: loss 1.2649\n",
      "Epoch 31: loss 1.2075\n",
      "Epoch 32: loss 1.1524\n",
      "Epoch 33: loss 1.0994\n",
      "Epoch 34: loss 1.0484\n",
      "Epoch 35: loss 0.9996\n",
      "Epoch 36: loss 0.9530\n",
      "Epoch 37: loss 0.9082\n",
      "Epoch 38: loss 0.8659\n",
      "Epoch 39: loss 0.8253\n",
      "Epoch 40: loss 0.7867\n",
      "Epoch 41: loss 0.7502\n",
      "Epoch 42: loss 0.7154\n",
      "Epoch 43: loss 0.6826\n",
      "Epoch 44: loss 0.6515\n",
      "Epoch 45: loss 0.6219\n",
      "Epoch 46: loss 0.5941\n",
      "Epoch 47: loss 0.5677\n",
      "Epoch 48: loss 0.5429\n",
      "Epoch 49: loss 0.5192\n",
      "Epoch 50: loss 0.4971\n",
      "Epoch 51: loss 0.4761\n",
      "Epoch 52: loss 0.4563\n",
      "Epoch 53: loss 0.4377\n",
      "Epoch 54: loss 0.4200\n",
      "Epoch 55: loss 0.4035\n",
      "Epoch 56: loss 0.3877\n",
      "Epoch 57: loss 0.3729\n",
      "Epoch 58: loss 0.3589\n",
      "Epoch 59: loss 0.3456\n",
      "Epoch 60: loss 0.3331\n",
      "Epoch 61: loss 0.3212\n",
      "Epoch 62: loss 0.3100\n",
      "Epoch 63: loss 0.2994\n"
     ]
    }
   ],
   "source": [
    "EPOCHS = 64\n",
    "WINDOW_SIZE = 2\n",
    "EMBEDDING_SIZE = 128\n",
    "\n",
    "def get_context(i, corpus):\n",
    "    context = []\n",
    "    \n",
    "    start = max(i - WINDOW_SIZE, 0)\n",
    "    end = min(i + WINDOW_SIZE, len(corpus) - 1)\n",
    "    \n",
    "    for n in range(start, end):\n",
    "        if n == i:\n",
    "            continue\n",
    "        context.append(corpus[n])\n",
    "    \n",
    "    return context\n",
    "\n",
    "for epoch in range(EPOCHS):\n",
    "    n_words = 0\n",
    "    acc_loss = 0\n",
    "    for i, word in enumerate(corpus):\n",
    "        context = torch.FloatTensor(\n",
    "            [one_hot[word] for word in get_context(i, corpus)])\n",
    "        target = torch.LongTensor([vocabulary.index(word)])\n",
    "\n",
    "        with torch.set_grad_enabled(True):\n",
    "            output = cbow(context) # (4, 44) -> (1, 44)\n",
    "            loss = criterion(output, target)\n",
    "\n",
    "            optimizer.zero_grad()\n",
    "            loss.backward()\n",
    "            optimizer.step()\n",
    "\n",
    "            acc_loss += float(loss)\n",
    "            n_words += 1\n",
    "\n",
    "    print(f'Epoch {epoch}: loss {acc_loss/n_words:.4f}')"
   ]
  },
  {
   "cell_type": "markdown",
   "metadata": {},
   "source": [
    "Now, remember our corpus?\n",
    "\n",
    "> We are about to study the idea of a computational process.\n",
    "Computational processes are abstract beings that inhabit computers.\n",
    "As they evolve, processes manipulate other abstract things called data.\n",
    "The evolution of a process is directed by a pattern of rules\n",
    "called a program. People create **programs** to direct processes. In effect,\n",
    "we conjure the spirits of the computer with our spells.\n",
    "\n",
    "Let's see if our model can guess the highlighted word."
   ]
  },
  {
   "cell_type": "code",
   "execution_count": 8,
   "metadata": {},
   "outputs": [
    {
     "name": "stdout",
     "output_type": "stream",
     "text": [
      "programs\n"
     ]
    }
   ],
   "source": [
    "quiz = ['people', 'create', 'to', 'direct']\n",
    "output = cbow(torch.FloatTensor([one_hot[w] for w in quiz]))\n",
    "_, i = output.max(dim=1)\n",
    "print(vocabulary[i])"
   ]
  },
  {
   "cell_type": "code",
   "execution_count": 9,
   "metadata": {},
   "outputs": [
    {
     "data": {
      "text/plain": [
       "tensor([[-0.2494, -0.8524, -1.4676,  1.3361, -0.1680,  0.1684, -0.5010,  0.2064,\n",
       "          0.8753, -0.4601, -1.6704, -0.8172, -1.4150,  0.2076, -0.6401,  2.3908,\n",
       "         -1.6059, -0.5135,  0.2960,  1.0826, -1.5503,  0.2632,  1.0693,  0.3183,\n",
       "         -0.8027, -0.3009,  1.3640, -0.8214, -1.6492,  0.6330,  1.1211,  0.2535,\n",
       "         -0.2682, -0.5037,  0.6543,  0.6882,  1.7919,  0.5456, -0.4440, -1.5784,\n",
       "          0.9287, -1.2906, -0.5608,  0.2448, -0.0776,  1.0721, -0.6780, -1.0674,\n",
       "         -1.0782,  0.4239, -1.4042, -0.3490,  0.0364, -1.3333,  0.4569, -0.1449,\n",
       "          0.1574, -0.1344, -0.3883,  0.3604, -0.0744, -0.7789, -0.0381, -1.2080,\n",
       "          0.6594,  0.1646, -0.3565, -0.7207,  0.8088,  1.5275,  0.7714,  1.4741,\n",
       "          2.9597,  0.3867,  0.9447, -1.7460, -0.1983,  0.1776, -0.9087,  2.5315,\n",
       "         -0.6451, -1.2045, -1.3453, -0.1671,  1.2277, -0.8174,  0.4379, -0.0413,\n",
       "         -0.2242, -0.8588, -1.0213,  0.9621,  0.5453, -1.8373, -0.7611, -0.4955,\n",
       "         -0.4116, -0.2585, -0.9504,  0.6129, -0.3173,  0.7177, -0.0081, -0.1404,\n",
       "         -0.0388,  1.3852,  2.5483, -0.1102, -0.6948, -0.3540, -1.9449,  0.2992,\n",
       "         -0.1370,  0.2220,  0.4697, -0.5796, -0.0133,  0.8368,  0.6412, -0.3226,\n",
       "          0.7596, -1.4081,  0.5829, -1.3899, -0.1151, -0.7099, -0.6375, -0.0068]])"
      ]
     },
     "execution_count": 9,
     "metadata": {},
     "output_type": "execute_result"
    }
   ],
   "source": [
    "cbow.get_word_embedding('programs')"
   ]
  },
  {
   "cell_type": "code",
   "execution_count": 10,
   "metadata": {},
   "outputs": [],
   "source": [
    "class Skipgram(torch.nn.Module):\n",
    "    def __init__(self):\n",
    "        super(Skipgram, self).__init__()\n",
    "        self.embeddings = torch.FloatTensor(len(vocabulary), EMBEDDING_SIZE).normal_()\n",
    "        self.linear1 = torch.nn.Linear(EMBEDDING_SIZE, 128)\n",
    "        self.relu1 = torch.nn.ReLU()\n",
    "        self.linear2 = torch.nn.Linear(128, len(vocabulary))\n",
    "    \n",
    "    def forward(self, x):\n",
    "        x = self.embeddings[x]\n",
    "        x = self.linear1(x)\n",
    "        x = self.relu1(x)\n",
    "        x = self.linear2(x)\n",
    "        return x.view(1, -1)\n",
    "    \n",
    "    def get_word_embedding(self, word):\n",
    "        return self.embeddings[vocabulary.index(word)].view(1, -1)\n",
    "\n",
    "skipgram = Skipgram()\n",
    "criterion = torch.nn.CrossEntropyLoss()\n",
    "optimizer = torch.optim.SGD(skipgram.parameters(), lr=0.01)"
   ]
  },
  {
   "cell_type": "code",
   "execution_count": 11,
   "metadata": {},
   "outputs": [
    {
     "name": "stdout",
     "output_type": "stream",
     "text": [
      "Epoch 0: loss 3.7836\n",
      "Epoch 1: loss 3.4525\n",
      "Epoch 2: loss 3.1958\n",
      "Epoch 3: loss 2.9619\n",
      "Epoch 4: loss 2.7445\n",
      "Epoch 5: loss 2.5535\n",
      "Epoch 6: loss 2.3997\n",
      "Epoch 7: loss 2.2870\n",
      "Epoch 8: loss 2.2128\n",
      "Epoch 9: loss 2.1646\n",
      "Epoch 10: loss 2.1354\n",
      "Epoch 11: loss 2.1150\n",
      "Epoch 12: loss 2.1005\n",
      "Epoch 13: loss 2.0895\n",
      "Epoch 14: loss 2.0810\n",
      "Epoch 15: loss 2.0716\n",
      "Epoch 16: loss 2.0644\n",
      "Epoch 17: loss 2.0566\n",
      "Epoch 18: loss 2.0503\n",
      "Epoch 19: loss 2.0417\n",
      "Epoch 20: loss 2.0347\n",
      "Epoch 21: loss 2.0281\n",
      "Epoch 22: loss 2.0223\n",
      "Epoch 23: loss 2.0157\n",
      "Epoch 24: loss 2.0101\n",
      "Epoch 25: loss 2.0045\n",
      "Epoch 26: loss 1.9983\n",
      "Epoch 27: loss 1.9930\n",
      "Epoch 28: loss 1.9881\n",
      "Epoch 29: loss 1.9840\n",
      "Epoch 30: loss 1.9792\n",
      "Epoch 31: loss 1.9736\n",
      "Epoch 32: loss 1.9693\n",
      "Epoch 33: loss 1.9649\n",
      "Epoch 34: loss 1.9604\n",
      "Epoch 35: loss 1.9565\n",
      "Epoch 36: loss 1.9523\n",
      "Epoch 37: loss 1.9495\n",
      "Epoch 38: loss 1.9443\n",
      "Epoch 39: loss 1.9412\n",
      "Epoch 40: loss 1.9376\n",
      "Epoch 41: loss 1.9351\n",
      "Epoch 42: loss 1.9319\n",
      "Epoch 43: loss 1.9285\n",
      "Epoch 44: loss 1.9247\n",
      "Epoch 45: loss 1.9221\n",
      "Epoch 46: loss 1.9191\n",
      "Epoch 47: loss 1.9165\n",
      "Epoch 48: loss 1.9131\n",
      "Epoch 49: loss 1.9105\n",
      "Epoch 50: loss 1.9079\n",
      "Epoch 51: loss 1.9057\n",
      "Epoch 52: loss 1.9030\n",
      "Epoch 53: loss 1.8999\n",
      "Epoch 54: loss 1.8976\n",
      "Epoch 55: loss 1.8957\n",
      "Epoch 56: loss 1.8933\n",
      "Epoch 57: loss 1.8906\n",
      "Epoch 58: loss 1.8882\n",
      "Epoch 59: loss 1.8858\n",
      "Epoch 60: loss 1.8846\n",
      "Epoch 61: loss 1.8821\n",
      "Epoch 62: loss 1.8793\n",
      "Epoch 63: loss 1.8778\n"
     ]
    }
   ],
   "source": [
    "EPOCHS = 64\n",
    "WINDOW_SIZE = 2\n",
    "EMBEDDING_SIZE = 128\n",
    "\n",
    "def get_context(i, corpus):\n",
    "    context = []\n",
    "    \n",
    "    start = max(i - WINDOW_SIZE, 0)\n",
    "    end = min(i + WINDOW_SIZE, len(corpus) - 1)\n",
    "    \n",
    "    for n in range(start, end):\n",
    "        if n == i:\n",
    "            continue\n",
    "        context.append(corpus[n])\n",
    "    \n",
    "    return context\n",
    "\n",
    "for epoch in range(EPOCHS):\n",
    "    n_words = 0\n",
    "    acc_loss = 0\n",
    "    for i, word in enumerate(corpus):\n",
    "        center = vocabulary.index(word)\n",
    "\n",
    "        for word in get_context(i, corpus):\n",
    "            context = torch.LongTensor([vocabulary.index(word)])\n",
    "\n",
    "            with torch.set_grad_enabled(True):\n",
    "                output = skipgram(center)\n",
    "                loss = criterion(output, context)\n",
    "\n",
    "                optimizer.zero_grad()\n",
    "                loss.backward()\n",
    "                optimizer.step()\n",
    "\n",
    "                acc_loss += float(loss)\n",
    "                n_words += 1\n",
    "\n",
    "    print(f'Epoch {epoch}: loss {acc_loss/n_words:.4f}')"
   ]
  },
  {
   "cell_type": "code",
   "execution_count": 12,
   "metadata": {},
   "outputs": [
    {
     "data": {
      "text/plain": [
       "computer         0.141977\n",
       "study            0.034313\n",
       "manipulate       0.029085\n",
       "by               0.026402\n",
       "computational    0.025354\n",
       "inhabit          0.025184\n",
       "effect           0.023759\n",
       "as               0.016818\n",
       "computers        0.014954\n",
       "directed         0.010654\n",
       "dtype: float64"
      ]
     },
     "execution_count": 12,
     "metadata": {},
     "output_type": "execute_result"
    }
   ],
   "source": [
    "def get_similar(query, embeddings, top_k=10):\n",
    "    embeddings = embeddings.cpu()\n",
    "    query = embeddings[vocabulary.index(query)]\n",
    "    similarity = (embeddings @ query) / (embeddings.norm() * query.norm())\n",
    "    similarity = pd.Series(dict(zip(vocabulary, similarity.numpy())))\n",
    "    similarity = similarity.sort_values(ascending=False)\n",
    "    \n",
    "    return similarity[:top_k]\n",
    "\n",
    "get_similar('computer', skipgram.embeddings)"
   ]
  },
  {
   "cell_type": "markdown",
   "metadata": {},
   "source": [
    "## GloVe: Global Vectors for Word Representation (2014)\n",
    "\n",
    "by Jeffrey Pennington, Richard Socher, Christopher D. Manning\n",
    "\n",
    "https://www.aclweb.org/anthology/D14-1162\n",
    "\n",
    "On page 1534:\n",
    "\n",
    "> We begin with a simple example that showcases\n",
    "how certain aspects of meaning can be extracted\n",
    "directly from co-occurrence probabilities. Consider\n",
    "two words $i$ and $j$ that exhibit a particular aspect\n",
    "of interest; for concreteness, suppose we are\n",
    "interested in the concept of thermodynamic phase,\n",
    "for which we might take $i = ice$ and $j = steam$.\n",
    "The relationship of these words can be examined\n",
    "by studying the ratio of their co-occurrence probabilities\n",
    "with various probe words, $k$. For words\n",
    "$k$ related to $ice$ but not $steam$, say $k = solid$, we\n",
    "expect the ratio $Pik / Pjk$ will be large. Similarly,\n",
    "for words $k$ related to $steam$ but not $ice$, say $k =\n",
    "gas$, the ratio should be small. For words $k$ like\n",
    "$water$ or $fashion$, that are either related to both $ice$\n",
    "and $steam$, or to neither, the ratio should be close\n",
    "to one. Table 1 shows these probabilities and their\n",
    "ratios for a large corpus, and the numbers confirm\n",
    "these expectations. Compared to the raw probabilities,\n",
    "the ratio is better able to distinguish relevant\n",
    "words ($solid$ and $gas$) from irrelevant words ($water$\n",
    "and $fashion$) and it is also better able to discriminate\n",
    "between the two relevant words.\n",
    "\n",
    "$$\n",
    "\\frac{P_{solid | ice}}{P_{solid | steam}} >\n",
    "\\frac{P_{fashion | ice}}{P_{fashion | steam}} >\n",
    "\\frac{P_{gas | ice}}{P_{gas | steam}}\n",
    "$$"
   ]
  },
  {
   "cell_type": "markdown",
   "metadata": {},
   "source": [
    "> The above argument suggests that the appropriate\n",
    "starting point for word vector learning should\n",
    "be with ratios of co-occurrence probabilities rather\n",
    "than the probabilities themselves. Noting that the\n",
    "ratio $P_{ik} /P_{jk}$ depends on three words $i$, $j$, and $k$,\n",
    "the most general model takes the form,"
   ]
  },
  {
   "cell_type": "markdown",
   "metadata": {},
   "source": [
    "$$\n",
    "F(w_i, w_j, \\tilde{w}_k) = \\frac{P_{ik}}{P_{jk}}\n",
    "$$"
   ]
  },
  {
   "cell_type": "markdown",
   "metadata": {},
   "source": [
    "> The number of possibilities for $F$ is vast,\n",
    "but by enforcing a few desiderata we can select a\n",
    "unique choice. First, we would like $F$ to encode\n",
    "the information present the ratio $Pik / Pjk$ in the\n",
    "word vector space. Since vector spaces are inherently\n",
    "linear structures, the most natural way to do\n",
    "this is with vector differences."
   ]
  },
  {
   "cell_type": "markdown",
   "metadata": {},
   "source": [
    "$$\n",
    "F(w_i - w_j, \\tilde{w}_k) = \\frac{P_{ik}}{P_{jk}}\n",
    "$$"
   ]
  },
  {
   "cell_type": "markdown",
   "metadata": {},
   "source": [
    "> Next, we note that the arguments of $F$ in Eqn. (2)\n",
    "are vectors while the right-hand side is a scalar.\n",
    "While $F$ could be taken to be a complicated function\n",
    "parameterized by, e.g., a neural network, doing\n",
    "so would obfuscate the linear structure we are\n",
    "trying to capture. To avoid this issue, we can first\n",
    "take the dot product of the arguments,"
   ]
  },
  {
   "cell_type": "markdown",
   "metadata": {},
   "source": [
    "$$\n",
    "F((w_i - w_j)^T \\tilde{w}_k) = \\frac{P_{ik}}{P_{jk}}\n",
    "$$"
   ]
  },
  {
   "cell_type": "markdown",
   "metadata": {},
   "source": [
    "> Next, note that for\n",
    "word-word co-occurrence matrices, the distinction\n",
    "between a word and a context word is arbitrary and\n",
    "that we are free to exchange the two roles. To do so\n",
    "consistently, we must not only exchange $w \\leftrightarrow \\tilde{w}$\n",
    "but also $X \\leftrightarrow X^T$. Our final model should be invariant\n",
    "under this relabeling, but Eqn. (3) is not.\n",
    "However, the symmetry can be restored in two\n",
    "steps. First, we require that $F$ be a homomorphism\n",
    "between the groups $(\\mathbb{R}, +)$ and $(\\mathbb{R}_{>0}, \\times)$, i.e.,"
   ]
  },
  {
   "cell_type": "markdown",
   "metadata": {},
   "source": [
    "$$\n",
    "F(X-Y)=\\frac { F(X) }{ F(Y) }\n",
    "$$"
   ]
  },
  {
   "cell_type": "markdown",
   "metadata": {},
   "source": [
    "$$\n",
    "F(w_i^T \\tilde{w}_k - w_j^T \\tilde{w}_k) = \\frac{P_{ik}}{P_{jk}}\n",
    "$$"
   ]
  },
  {
   "cell_type": "markdown",
   "metadata": {},
   "source": [
    "$$\n",
    "F(w_i^T \\tilde{w}_k - w_j^T \\tilde{w}_k) = \\frac{F(w_i^T \\tilde{w}_k)}{F(w_j^T \\tilde{w}_k)}\n",
    "$$"
   ]
  },
  {
   "cell_type": "markdown",
   "metadata": {},
   "source": [
    "$$\n",
    "\\exp(w_i^T \\tilde{w}_k - w_j^T \\tilde{w}_k) = \\frac{\\exp(w_i^T \\tilde{w}_k)}{\\exp(w_j^T \\tilde{w}_k)}\n",
    "$$"
   ]
  },
  {
   "cell_type": "markdown",
   "metadata": {},
   "source": [
    "$$F = \\exp$$"
   ]
  },
  {
   "cell_type": "markdown",
   "metadata": {},
   "source": [
    "Page 1533:\n",
    "> Let the matrix\n",
    "of word-word co-occurrence counts be denoted by\n",
    "$X$, whose entries $X_{ij}$ tabulate the number of times\n",
    "word $j$ occurs in the context of word $i$. Let $X_i = \\sum_k X_{ik}$\n",
    "be the number of times any word appears\n",
    "in the context of word $i$. Finally, let\n",
    "$P_{ij} = P(j|i) = X_{ij}/X_i$be the probability that word $j$ appear in the\n",
    "context of word $i$."
   ]
  },
  {
   "cell_type": "markdown",
   "metadata": {},
   "source": [
    "$$\n",
    "F(w_i^T \\tilde{w}_k) = P_{ik} = \\frac{X_{ik}}{X_i}\n",
    "$$"
   ]
  },
  {
   "cell_type": "markdown",
   "metadata": {},
   "source": [
    "$$\n",
    "w_i^T \\tilde { w }_k =\\log { { P }_{ ik } } =\\log ({ X_{ ik })-\\log ({ X_{ i } })  }\n",
    "$$"
   ]
  },
  {
   "cell_type": "markdown",
   "metadata": {},
   "source": [
    "Page 1535:\n",
    "> Next, we note that Eqn. (6) would exhibit the exchange\n",
    "symmetry if not for the $log(X_i)$ on the\n",
    "right-hand side. "
   ]
  },
  {
   "cell_type": "markdown",
   "metadata": {},
   "source": [
    "$$\n",
    "\\log(X_{ik})-\\log(X_i) \\neq \\log(X_{ki})-\\log(X_k)\n",
    "$$"
   ]
  },
  {
   "cell_type": "markdown",
   "metadata": {},
   "source": [
    "> However, this term is independent\n",
    "of $k$ so it can be absorbed into a bias $b_i$ for\n",
    "$w+i$. Finally, adding an additional bias $\\tilde{b}_k$ for $\\tilde{w}_k$\n",
    "restores the symmetry,"
   ]
  },
  {
   "cell_type": "markdown",
   "metadata": {},
   "source": [
    "$$\n",
    "{ w }_{ i }^{ T }\\tilde { { w }_{ k } } +{ b }_{ i }+\\tilde { { b }_{ k } } =\\log ({ X_{ ik }})\n",
    "$$"
   ]
  },
  {
   "cell_type": "markdown",
   "metadata": {},
   "source": [
    "## Building the vocabulary and counting co-occurrence (again)\n",
    "\n",
    "Today's dataset, an English monolingual corpus, can be found [here](https://drive.google.com/open?id=1__lK0x_k8gtyV27QZqQUGSC4jlaQAZSC)."
   ]
  },
  {
   "cell_type": "code",
   "execution_count": 13,
   "metadata": {},
   "outputs": [],
   "source": [
    "from collections import defaultdict\n",
    "\n",
    "FILE = 'ted.en.txt'\n",
    "WINDOW_SIZE = 10\n",
    "\n",
    "vocabulary = defaultdict(int)\n",
    "co_occurrence = defaultdict(int)\n",
    "\n",
    "with open(FILE) as f:\n",
    "    sentences = f.readlines()\n",
    "\n",
    "for sentence in sentences:\n",
    "    words = sentence.split(' ')\n",
    "    for i in range(len(words)):\n",
    "        vocabulary[words[i]] += 1\n",
    "\n",
    "        for j in range(i + 1, i + WINDOW_SIZE + 1):\n",
    "            if j >= len(words):\n",
    "                break\n",
    "            keys = tuple(sorted([words[i], words[j]]))\n",
    "            co_occurrence[keys] += 1"
   ]
  },
  {
   "cell_type": "markdown",
   "metadata": {},
   "source": [
    "Let's see how much words we have gathered."
   ]
  },
  {
   "cell_type": "code",
   "execution_count": 14,
   "metadata": {},
   "outputs": [
    {
     "data": {
      "text/plain": [
       "77599"
      ]
     },
     "execution_count": 14,
     "metadata": {},
     "output_type": "execute_result"
    }
   ],
   "source": [
    "len(vocabulary)"
   ]
  },
  {
   "cell_type": "markdown",
   "metadata": {},
   "source": [
    "Show some love!"
   ]
  },
  {
   "cell_type": "code",
   "execution_count": 15,
   "metadata": {},
   "outputs": [
    {
     "data": {
      "text/plain": [
       "True"
      ]
     },
     "execution_count": 15,
     "metadata": {},
     "output_type": "execute_result"
    }
   ],
   "source": [
    "'love' in vocabulary"
   ]
  },
  {
   "cell_type": "markdown",
   "metadata": {},
   "source": [
    "How much?"
   ]
  },
  {
   "cell_type": "code",
   "execution_count": 16,
   "metadata": {},
   "outputs": [
    {
     "data": {
      "text/plain": [
       "2444"
      ]
     },
     "execution_count": 16,
     "metadata": {},
     "output_type": "execute_result"
    }
   ],
   "source": [
    "vocabulary['love']"
   ]
  },
  {
   "cell_type": "markdown",
   "metadata": {},
   "source": [
    "Let's convert the dictionary into a Pandas Series for convinience."
   ]
  },
  {
   "cell_type": "code",
   "execution_count": 17,
   "metadata": {},
   "outputs": [],
   "source": [
    "import pandas as pd\n",
    "\n",
    "MIN_OCCURRENCE = 10\n",
    "\n",
    "vocabulary = pd.Series(vocabulary, dtype='uint16')"
   ]
  },
  {
   "cell_type": "markdown",
   "metadata": {},
   "source": [
    "And with the help of Pandas, let's set a minimum frequency threshold to trim the vocabulary."
   ]
  },
  {
   "cell_type": "code",
   "execution_count": 18,
   "metadata": {},
   "outputs": [
    {
     "data": {
      "text/plain": [
       "16754"
      ]
     },
     "execution_count": 18,
     "metadata": {},
     "output_type": "execute_result"
    }
   ],
   "source": [
    "vocabulary = vocabulary[vocabulary >= MIN_OCCURRENCE]\n",
    "len(vocabulary)"
   ]
  },
  {
   "cell_type": "code",
   "execution_count": 19,
   "metadata": {},
   "outputs": [
    {
     "data": {
      "text/plain": [
       "True"
      ]
     },
     "execution_count": 19,
     "metadata": {},
     "output_type": "execute_result"
    }
   ],
   "source": [
    "'love' in vocabulary"
   ]
  },
  {
   "cell_type": "code",
   "execution_count": 20,
   "metadata": {},
   "outputs": [],
   "source": [
    "import numpy as np\n",
    "\n",
    "X_ij = np.zeros((len(vocabulary), len(vocabulary)), dtype='uint16')\n",
    "\n",
    "for (word_i, word_j), value in co_occurrence.items():\n",
    "    try:\n",
    "        i = vocabulary.index.get_loc(word_i)\n",
    "        j = vocabulary.index.get_loc(word_j)\n",
    "    except KeyError:\n",
    "        continue\n",
    "\n",
    "    X_ij[i][j] = value\n",
    "    X_ij[j][i] = value"
   ]
  },
  {
   "cell_type": "code",
   "execution_count": 21,
   "metadata": {},
   "outputs": [
    {
     "data": {
      "text/plain": [
       "array([[  28, 2145,    3, ...,    0,    0,    0],\n",
       "       [2145, 5716,   49, ...,    4,    0,    4],\n",
       "       [   3,   49,    2, ...,    0,    0,    0],\n",
       "       ...,\n",
       "       [   0,    4,    0, ...,    0,    0,    0],\n",
       "       [   0,    0,    0, ...,    0,    0,    0],\n",
       "       [   0,    4,    0, ...,    0,    0,    0]], dtype=uint16)"
      ]
     },
     "execution_count": 21,
     "metadata": {},
     "output_type": "execute_result"
    }
   ],
   "source": [
    "X_ij"
   ]
  },
  {
   "cell_type": "markdown",
   "metadata": {},
   "source": [
    "$$\n",
    "{ w }_{ i }^{ T }\\tilde { { w }_{ k } } +{ b }_{ i }+\\tilde { { b }_{ k } } =\\log ({ X_{ ik }})\n",
    "$$"
   ]
  },
  {
   "cell_type": "code",
   "execution_count": 22,
   "metadata": {},
   "outputs": [
    {
     "name": "stdout",
     "output_type": "stream",
     "text": [
      "iteration 0, loss 0.2806\n",
      "iteration 1, loss 0.1483\n",
      "iteration 2, loss 0.0937\n",
      "iteration 3, loss 0.0682\n",
      "iteration 4, loss 0.0573\n",
      "iteration 5, loss 0.0503\n",
      "iteration 6, loss 0.0487\n",
      "iteration 7, loss 0.0441\n",
      "iteration 8, loss 0.0428\n",
      "iteration 9, loss 0.0406\n",
      "iteration 10, loss 0.0393\n",
      "iteration 11, loss 0.0370\n",
      "iteration 12, loss 0.0354\n",
      "iteration 13, loss 0.0343\n",
      "iteration 14, loss 0.0327\n",
      "iteration 15, loss 0.0323\n",
      "iteration 16, loss 0.0314\n",
      "iteration 17, loss 0.0312\n",
      "iteration 18, loss 0.0306\n",
      "iteration 19, loss 0.0299\n",
      "iteration 20, loss 0.0294\n",
      "iteration 21, loss 0.0292\n",
      "iteration 22, loss 0.0286\n",
      "iteration 23, loss 0.0284\n",
      "iteration 24, loss 0.0280\n",
      "iteration 25, loss 0.0275\n",
      "iteration 26, loss 0.0274\n",
      "iteration 27, loss 0.0271\n",
      "iteration 28, loss 0.0272\n",
      "iteration 29, loss 0.0269\n",
      "iteration 30, loss 0.0268\n",
      "iteration 31, loss 0.0264\n"
     ]
    }
   ],
   "source": [
    "from itertools import chain\n",
    "import torch\n",
    "\n",
    "DIM = 128\n",
    "ITERATIONS = 32\n",
    "X_MAX = 100\n",
    "ALPHA = 3/4\n",
    "GPU_ID = 2\n",
    "\n",
    "n_words = X_ij.shape[0]\n",
    "\n",
    "X = torch.from_numpy(X_ij.astype('float32')).add_(1)\n",
    "w_main = torch.FloatTensor(n_words, DIM).uniform_(-0.5, 0.5)\n",
    "w_context = torch.FloatTensor(n_words, DIM).uniform_(-0.5, 0.5)\n",
    "b_main = torch.FloatTensor(n_words).uniform_(-0.5, 0.5)\n",
    "b_context = torch.FloatTensor(n_words).uniform_(-0.5, 0.5)\n",
    "\n",
    "if torch.cuda.is_available():\n",
    "    X = X.cuda(device=GPU_ID)\n",
    "    w_main = w_main.cuda(device=GPU_ID)\n",
    "    w_context = w_context.cuda(device=GPU_ID)\n",
    "    b_main = b_main.cuda(device=GPU_ID)\n",
    "    b_context = b_context.cuda(device=GPU_ID)\n",
    "\n",
    "X.requires_grad_(False)\n",
    "w_main.requires_grad_(True)\n",
    "w_context.requires_grad_(True)\n",
    "b_main.requires_grad_(True)\n",
    "b_context.requires_grad_(True)\n",
    "\n",
    "criterion = torch.nn.MSELoss(reduction='none')\n",
    "optimizer = torch.optim.Adam([w_main, w_context, b_main, b_context],\n",
    "                             lr=1e-3, weight_decay=1e-15)\n",
    "\n",
    "with torch.set_grad_enabled(True):\n",
    "    for iteration in range(ITERATIONS):\n",
    "        acc_loss = 0\n",
    "        for j in torch.randperm(n_words):\n",
    "            output = w_main @ w_context[j]\n",
    "            output += b_main\n",
    "            output += b_context[j]\n",
    "            \n",
    "            loss = criterion(output, X[:, j].log() + 1e-15)\n",
    "            \n",
    "            loss_weight = (X[:, j] / X_MAX) ** ALPHA\n",
    "            loss_weight[X[:, j] > X_MAX] = 1\n",
    "\n",
    "            optimizer.zero_grad()\n",
    "            loss.backward(loss_weight)\n",
    "            optimizer.step()\n",
    "            \n",
    "            acc_loss += float(loss.mean())\n",
    "        \n",
    "        print(f'iteration {iteration}, loss {acc_loss/n_words:.4f}')"
   ]
  },
  {
   "cell_type": "code",
   "execution_count": null,
   "metadata": {},
   "outputs": [
    {
     "data": {
      "text/plain": [
       "wife        0.012095\n",
       "mom         0.011205\n",
       "son         0.010958\n",
       "husband     0.010791\n",
       "married     0.010523\n",
       "daughter    0.010520\n",
       "college     0.010492\n",
       "sister      0.010340\n",
       "brother     0.010319\n",
       "11          0.010012\n",
       "named       0.009955\n",
       "boy         0.009892\n",
       "walked      0.009806\n",
       "sent        0.009751\n",
       "month       0.009650\n",
       "sat         0.009608\n",
       "loved       0.009501\n",
       "killed      0.009443\n",
       "student     0.009430\n",
       "hour        0.009417\n",
       "dtype: float64"
      ]
     },
     "execution_count": 23,
     "metadata": {},
     "output_type": "execute_result"
    }
   ],
   "source": [
    "def v(word):\n",
    "    i = vocabulary.index.get_loc(word)\n",
    "    return w_main[i].cpu()\n",
    "\n",
    "def analogy(target, top_k=20):\n",
    "    target /= target.norm()\n",
    "    \n",
    "    with torch.no_grad():\n",
    "        similarity = (w_main.cpu() @ target) / (w_main.cpu().norm() * target.norm())\n",
    "        similarity = pd.Series(dict(zip(vocabulary.keys(), similarity.numpy())))\n",
    "        similarity = similarity[vocabulary < 500]\n",
    "        similarity = similarity.sort_values(ascending=False)\n",
    "    \n",
    "    return similarity.sort_values(ascending=False)[:top_k]\n",
    "\n",
    "analogy(v('husband') - v('man') + v('woman'))"
   ]
  },
  {
   "cell_type": "code",
   "execution_count": null,
   "metadata": {},
   "outputs": [
    {
     "data": {
      "text/plain": [
       "brother     0.006279\n",
       "walked      0.005916\n",
       "wife        0.005880\n",
       "sat         0.005814\n",
       "sister      0.005785\n",
       "door        0.005644\n",
       "named       0.005607\n",
       "son         0.005583\n",
       "picked      0.005571\n",
       "mom         0.005510\n",
       "daughter    0.005475\n",
       "nose        0.005389\n",
       "husband     0.005357\n",
       "floor       0.005326\n",
       "mouth       0.005316\n",
       "ran         0.005274\n",
       "north       0.005255\n",
       "neck        0.005255\n",
       "bought      0.005237\n",
       "Street      0.005210\n",
       "dtype: float64"
      ]
     },
     "execution_count": 24,
     "metadata": {},
     "output_type": "execute_result"
    }
   ],
   "source": [
    "analogy(v('heaven') - v('good') + v('bad'))"
   ]
  },
  {
   "cell_type": "markdown",
   "metadata": {},
   "source": [
    "## Visualization using PCA and t-SNE\n",
    "\n",
    "![](https://scontent-icn1-1.xx.fbcdn.net/v/t1.0-9/41425661_1809264752526756_3946431284045152256_n.jpg?_nc_cat=107&oh=e0b118959eaf0d6c7c97ce71b8c1136d&oe=5C20EDF1)"
   ]
  },
  {
   "cell_type": "markdown",
   "metadata": {},
   "source": [
    "* PCA\n",
    "  * good for dimensionality reduction\n",
    "  * not always good for visualization\n",
    "  * weak against non-linear data\n",
    "* t-SNE\n",
    "  * good for visualization\n",
    "  * not so good for dimensionality reduction\n",
    "  * strong against non-linear data"
   ]
  },
  {
   "cell_type": "markdown",
   "metadata": {},
   "source": [
    "[FastText](https://fasttext.cc/): Library for efficient text classification and representation learning"
   ]
  },
  {
   "cell_type": "code",
   "execution_count": 26,
   "metadata": {},
   "outputs": [],
   "source": [
    "import torchtext\n",
    "fasttext = torchtext.vocab.FastText(language='simple')"
   ]
  },
  {
   "cell_type": "code",
   "execution_count": 27,
   "metadata": {},
   "outputs": [
    {
     "data": {
      "text/plain": [
       "tensor([-0.1162, -0.3368,  0.0646, -0.1196,  0.2792, -0.1027, -0.0441,  0.1187,\n",
       "         0.1974,  0.3104, -0.6503,  0.2812,  0.1546,  0.0414, -0.0756, -0.5767,\n",
       "         0.0940,  0.0120, -0.2069, -0.1647,  0.1561,  0.2677,  0.0166, -0.1659,\n",
       "        -0.2500, -0.1366,  0.0829, -0.3483, -0.2668,  0.0247, -0.1616, -0.1894,\n",
       "        -0.0059,  0.8015,  0.0005, -0.1111, -0.2273,  0.2643,  0.3206, -0.0462,\n",
       "        -0.3165,  0.4295, -0.0294,  0.1510, -0.1353, -0.1552, -0.0141,  0.0314,\n",
       "         0.1614,  0.1807,  0.1207, -0.0187, -0.3111,  0.0923, -0.3743, -0.0012,\n",
       "         0.1224,  0.0746,  0.0089,  0.2788,  0.0287,  0.1806, -0.1615,  0.0340,\n",
       "        -0.0070, -0.1922, -0.4078,  0.0999,  0.1594,  0.3372,  0.1215,  0.5370,\n",
       "        -0.1502,  0.2673,  0.0122, -0.1455,  0.1890,  0.0073,  0.3634, -0.0266,\n",
       "        -0.3836,  0.2223,  0.2919, -0.5617, -0.1203,  0.3049, -0.1361, -0.5936,\n",
       "        -0.2371, -0.4368, -0.1942,  0.2925, -0.6426, -0.0988,  0.0325,  0.0987,\n",
       "        -0.6028,  0.2428,  0.0724,  0.0197,  0.0732, -0.1299, -0.2505,  0.1434,\n",
       "        -0.6063,  0.0763,  0.3580, -0.0075, -0.3160, -0.2189, -0.1876, -0.2995,\n",
       "        -0.2104, -0.2047, -0.1969, -0.2882,  0.1826,  0.6231, -0.4196, -0.1902,\n",
       "        -0.0671, -0.0104, -0.0122, -0.0650, -0.4608, -0.0422,  0.2847, -0.0610,\n",
       "        -0.7390,  0.2426, -0.0371, -0.2308, -0.1108,  0.0722,  0.1025,  0.1056,\n",
       "         0.0687, -0.3451,  0.0216, -0.2826, -0.2479,  0.2177,  0.0190, -0.1298,\n",
       "         0.0364, -0.2286,  0.2472, -0.0518,  0.2289, -0.0788,  0.1067,  0.0526,\n",
       "         0.2127,  0.1786,  0.1333,  0.4340, -0.0423,  0.0574, -0.1801,  0.3306,\n",
       "         0.0123,  0.0201,  0.0114,  0.2201, -0.5568, -0.2214,  0.0873, -0.5560,\n",
       "         0.1669, -0.3463, -0.2657,  0.1520,  0.2133, -0.0992,  0.3108,  0.0488,\n",
       "         0.1738, -0.2327,  0.0563, -0.0937,  0.0035, -0.0344, -0.0881,  0.1176,\n",
       "        -0.0912, -0.0826, -0.1305,  0.1171, -0.0400,  0.2241,  0.1030, -0.0432,\n",
       "         0.0416, -0.3476, -0.1668,  0.1051, -0.1996,  0.3634, -0.3663, -0.0087,\n",
       "         0.2857, -0.1495, -0.1829,  0.3554, -0.0577,  0.1245,  0.1486, -0.1195,\n",
       "        -0.2030, -0.1504,  0.0644, -0.0106,  0.1657, -0.0795, -0.1625, -0.1179,\n",
       "        -0.2607, -0.2355, -0.0720,  0.1124,  0.2630,  0.3154, -0.0592,  0.3005,\n",
       "         0.3144, -0.1963, -0.2765,  0.1514,  0.0956, -0.2945, -0.1555,  0.2705,\n",
       "        -0.1691,  0.0441, -0.3969,  0.0870,  0.0924, -0.1099, -0.1238, -0.5342,\n",
       "         0.4596, -0.2110, -0.2324, -0.1707,  0.3330, -0.0398,  0.0642, -0.2703,\n",
       "        -0.2910, -0.0383, -0.1462,  0.3621, -0.0479,  0.1596, -0.3941, -0.2982,\n",
       "        -0.2851,  0.1585, -0.0680,  0.7397, -0.2708,  0.2284,  0.0149,  0.7133,\n",
       "         0.1690,  0.0110,  0.2153,  0.1994, -0.0172,  0.1086,  0.1771,  0.2256,\n",
       "         0.2612, -0.2893, -0.1308, -0.4104,  0.2244,  0.2209,  0.1730, -0.4694,\n",
       "        -0.0366, -0.1784, -0.0586, -0.3504,  0.2357,  0.0970,  0.0066,  0.4246,\n",
       "        -0.2443, -0.0194, -0.0053,  0.1407,  0.3591,  0.2307,  0.4548,  0.3185,\n",
       "        -0.1213, -0.2396, -0.2519, -0.4972])"
      ]
     },
     "execution_count": 27,
     "metadata": {},
     "output_type": "execute_result"
    }
   ],
   "source": [
    "fasttext['love']"
   ]
  },
  {
   "cell_type": "code",
   "execution_count": 28,
   "metadata": {},
   "outputs": [
    {
     "data": {
      "text/plain": [
       "torch.Size([111051, 300])"
      ]
     },
     "execution_count": 28,
     "metadata": {},
     "output_type": "execute_result"
    }
   ],
   "source": [
    "fasttext.vectors.size()"
   ]
  },
  {
   "cell_type": "code",
   "execution_count": 31,
   "metadata": {},
   "outputs": [
    {
     "data": {
      "image/png": "[encoded data removed]",
      "text/plain": [
       "<Figure size 1080x1080 with 1 Axes>"
      ]
     },
     "metadata": {},
     "output_type": "display_data"
    }
   ],
   "source": [
    "import matplotlib.pyplot as plt\n",
    "import numpy as np\n",
    "from sklearn.decomposition import PCA\n",
    "\n",
    "def pca(vocabulary, embeddings, n_points):\n",
    "    np.random.seed(0)\n",
    "\n",
    "    frequent = vocabulary[vocabulary < 2000].sort_values(ascending=False).index[:n_points]\n",
    "    indices = [vocabulary.index.get_loc(word) for word in frequent]\n",
    "    \n",
    "    pca = PCA(n_components=2, random_state=0)\n",
    "    with torch.no_grad():\n",
    "        results = pca.fit_transform(embeddings[indices])\n",
    "    \n",
    "    plt.figure(figsize=(15, 15))\n",
    "    for i in range(n_points):\n",
    "        query = vocabulary.index[indices[i]]\n",
    "        x, y = results[i]\n",
    "        plt.scatter(x, y, label=query)\n",
    "        \n",
    "        # Prevent label overlapping by applying random offsets.\n",
    "        offset_x = np.random.randint(-35, 12) / 2000\n",
    "        offset_y = np.random.randint(-30, 15) / 2000\n",
    "        \n",
    "        plt.annotate(query, (x + offset_x, y + offset_y))\n",
    "        \n",
    "    plt.show()\n",
    "    \n",
    "pca(vocabulary, w_main, 100)"
   ]
  },
  {
   "cell_type": "code",
   "execution_count": 30,
   "metadata": {},
   "outputs": [
    {
     "data": {
      "image/png": "[encoded data removed]",
      "text/plain": [
       "<Figure size 1080x1080 with 1 Axes>"
      ]
     },
     "metadata": {},
     "output_type": "display_data"
    }
   ],
   "source": [
    "import matplotlib.pyplot as plt\n",
    "import numpy as np\n",
    "from sklearn.manifold import TSNE\n",
    "    \n",
    "def tsne(vocabulary, embeddings, n_points):\n",
    "    np.random.seed(0)\n",
    "\n",
    "    frequent = vocabulary[vocabulary < 2000].sort_values(ascending=False).index[:n_points]\n",
    "    indices = [vocabulary.index.get_loc(word) for word in frequent]\n",
    "\n",
    "    tsne = TSNE(n_components=2, random_state=0)\n",
    "    with torch.no_grad():\n",
    "        results = tsne.fit_transform(embeddings[indices])\n",
    "    \n",
    "    plt.figure(figsize=(15, 15))\n",
    "    for i in range(n_points):\n",
    "        query = vocabulary.index[indices[i]]\n",
    "        x, y = results[i]\n",
    "        plt.scatter(x, y, label=query)\n",
    "        \n",
    "        # Prevent label overlapping by applying random offsets.\n",
    "        offset_x = np.random.randint(-35, 12) / 100\n",
    "        offset_y = np.random.randint(-30, 15) / 100\n",
    "        \n",
    "        plt.annotate(query, (x + offset_x, y + offset_y))\n",
    "        \n",
    "    plt.show()\n",
    "\n",
    "tsne(vocabulary, w_main, 200)"
   ]
  },
  {
   "cell_type": "code",
   "execution_count": null,
   "metadata": {},
   "outputs": [],
   "source": []
  }
 ],
 "metadata": {
  "kernelspec": {
   "display_name": "Python 3 (pytorch-v0.4.1)",
   "language": "python",
   "name": "pytorch-v0.4.1"
  },
  "language_info": {
   "codemirror_mode": {
    "name": "ipython",
    "version": 3
   },
   "file_extension": ".py",
   "mimetype": "text/x-python",
   "name": "python",
   "nbconvert_exporter": "python",
   "pygments_lexer": "ipython3",
   "version": "3.7.0"
  }
 },
 "nbformat": 4,
 "nbformat_minor": 2
}
