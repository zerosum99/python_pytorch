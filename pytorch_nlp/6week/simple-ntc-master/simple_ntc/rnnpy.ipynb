{
 "cells": [
  {
   "cell_type": "code",
   "execution_count": 1,
   "metadata": {},
   "outputs": [
    {
     "name": "stdout",
     "output_type": "stream",
     "text": [
      "Untitled.ipynb  \u001b[31m__init__.py\u001b[m\u001b[m*    \u001b[31mcnn.py\u001b[m\u001b[m*         \u001b[31mrnn.py\u001b[m\u001b[m*         \u001b[31mtrainer.py\u001b[m\u001b[m*\r\n"
     ]
    }
   ],
   "source": [
    "%ls"
   ]
  },
  {
   "cell_type": "code",
   "execution_count": null,
   "metadata": {},
   "outputs": [],
   "source": [
    "# %load rnn.py\n",
    "import torch.nn as nn\n",
    "\n",
    "\n",
    "class RNNClassifier(nn.Module):\n",
    "\n",
    "    def __init__(self,  input_size, word_vec_dim,  hidden_size,  n_classes, n_layers=4, dropout_p=.3   ):\n",
    "        \n",
    "        self.input_size = input_size  # vocabulary_size\n",
    "        self.word_vec_dim = word_vec_dim\n",
    "        self.hidden_size = hidden_size\n",
    "        self.n_classes = n_classes\n",
    "        self.n_layers = n_layers\n",
    "        self.dropout_p = dropout_p\n",
    "\n",
    "        super().__init__()\n",
    "\n",
    "        self.emb = nn.Embedding(input_size, word_vec_dim)\n",
    "        \n",
    "        self.rnn = nn.LSTM(input_size=word_vec_dim,  hidden_size=hidden_size, num_layers=n_layers,  dropout=dropout_p, batch_first=True, bidirectional=True )\n",
    "        \n",
    "        self.generator = nn.Linear(hidden_size * 2, n_classes)\n",
    "        # We use LogSoftmax + NLLLoss instead of Softmax + CrossEntropy\n",
    "        self.activation = nn.LogSoftmax(dim=-1)\n",
    "\n",
    "    def forward(self, x):\n",
    "        # |x| = (batch_size, length)\n",
    "        x = self.emb(x)\n",
    "        \n",
    "        # |x| = (batch_size, length, word_vec_dim)\n",
    "        ### 아웃풋만 처리, 스탬프는 필요 없음 \n",
    "        x, _ = self.rnn(x)\n",
    "        \n",
    "        # bidirection 이라 곱하기 2\n",
    "        # |x| = (batch_size, length, hidden_size * 2)\n",
    "        # \n",
    "        y = self.activation(self.generator(x[:, -1]))\n",
    "        # |y| = (batch_size, n_classes)\n",
    "\n",
    "        return y\n",
    "        "
   ]
  },
  {
   "cell_type": "code",
   "execution_count": null,
   "metadata": {},
   "outputs": [],
   "source": []
  }
 ],
 "metadata": {
  "kernelspec": {
   "display_name": "PyTorch",
   "language": "python",
   "name": "pytorch-nlp"
  },
  "language_info": {
   "codemirror_mode": {
    "name": "ipython",
    "version": 3
   },
   "file_extension": ".py",
   "mimetype": "text/x-python",
   "name": "python",
   "nbconvert_exporter": "python",
   "pygments_lexer": "ipython3",
   "version": "3.6.6"
  }
 },
 "nbformat": 4,
 "nbformat_minor": 2
}
