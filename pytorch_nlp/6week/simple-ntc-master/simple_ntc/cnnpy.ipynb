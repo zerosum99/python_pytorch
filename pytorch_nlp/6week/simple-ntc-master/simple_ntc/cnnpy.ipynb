{
 "cells": [
  {
   "cell_type": "code",
   "execution_count": 1,
   "metadata": {},
   "outputs": [
    {
     "name": "stdout",
     "output_type": "stream",
     "text": [
      "Untitled.ipynb  \u001b[31mcnn.py\u001b[m\u001b[m*         rnnpy.ipynb\r\n",
      "\u001b[31m__init__.py\u001b[m\u001b[m*    \u001b[31mrnn.py\u001b[m\u001b[m*         \u001b[31mtrainer.py\u001b[m\u001b[m*\r\n"
     ]
    }
   ],
   "source": [
    "%ls"
   ]
  },
  {
   "cell_type": "code",
   "execution_count": null,
   "metadata": {},
   "outputs": [],
   "source": [
    "# %load cnn.py\n",
    "import torch\n",
    "import torch.nn as nn\n",
    "\n",
    "\n",
    "class CNNClassifier(nn.Module):\n",
    "\n",
    "    def __init__(self, input_size, word_vec_dim,n_classes,dropout_p=.5,window_sizes=[3, 4, 5], n_filters=[100, 100, 100]):\n",
    "        self.input_size = input_size  # vocabulary size\n",
    "        self.word_vec_dim = word_vec_dim\n",
    "        self.n_classes = n_classes\n",
    "        self.dropout_p = dropout_p\n",
    "        # window_size means that how many words a pattern covers.\n",
    "        self.window_sizes = window_sizes\n",
    "        # n_filters means that how many patterns to cover.\n",
    "        self.n_filters = n_filters\n",
    "\n",
    "        super().__init__()\n",
    "\n",
    "        self.emb = nn.Embedding(input_size, word_vec_dim)\n",
    "        \n",
    "        # Since number of convolution layers would be vary depend on len(window_sizes),\n",
    "        # we use 'setattr' and 'getattr' methods to add layers to nn.Module object.\n",
    "        for window_size, n_filter in zip(window_sizes, n_filters):\n",
    "             cnn = nn.Conv2d(in_channels=1,  out_channels=n_filter, kernel_size=(window_size, word_vec_dim))\n",
    "            setattr(self, 'cnn-%d-%d' % (window_size, n_filter), cnn)\n",
    "            \n",
    "        # Because below layers are just operations, \n",
    "        # (it does not have learnable parameters)\n",
    "        # we just declare once.\n",
    "        self.relu = nn.ReLU()\n",
    "        self.dropout = nn.Dropout(dropout_p)\n",
    "        # An input of generator layer is max values from each filter.\n",
    "        self.generator = nn.Linear(sum(n_filters), n_classes)\n",
    "        # We use LogSoftmax + NLLLoss instead of Softmax + CrossEntropy\n",
    "        self.activation = nn.LogSoftmax(dim=-1)\n",
    "\n",
    "    def forward(self, x):\n",
    "        # |x| = (batch_size, length)\n",
    "        x = self.emb(x)\n",
    "        # |x| = (batch_size, length, word_vec_dim)\n",
    "        min_length = max(self.window_sizes)\n",
    "        if min_length > x.size(1):\n",
    "            # Because some input does not long enough for maximum length of window size,\n",
    "            # we add zero tensor for padding.\n",
    "            pad = x.new(x.size(0), min_length - x.size(1), self.word_vec_dim).zero_()\n",
    "            # |pad| = (batch_size, min_length - length, word_vec_dim)\n",
    "            x = torch.cat([x, pad], dim=1)\n",
    "            # |x| = (batch_size, min_length, word_vec_dim)\n",
    "\n",
    "        # In ordinary case of vision task, you may have 3 channels on tensor,\n",
    "        # but in this case, you would have just 1 channel,\n",
    "        # which is added by 'unsqueeze' method in below:\n",
    "        x = x.unsqueeze(1)\n",
    "        # |x| = (batch_size, 1, length, word_vec_dim)\n",
    "\n",
    "        cnn_outs = []\n",
    "        for window_size, n_filter in zip(self.window_sizes, self.n_filters):\n",
    "            cnn = getattr(self, 'cnn-%d-%d' % (window_size, n_filter))\n",
    "            cnn_out = self.dropout(self.relu(cnn(x)))\n",
    "            # |x| = (batch_size, n_filter, length - window_size + 1, 1)\n",
    "\n",
    "            # In case of max pooling, we does not know the pooling size,\n",
    "            # because it depends on the length of the sentence.\n",
    "            # Therefore, we use instant function using 'nn.functional' package.\n",
    "            # This is the beauty of PyTorch. :)\n",
    "            cnn_out = nn.functional.max_pool1d(input=cnn_out.squeeze(-1),\n",
    "                                               kernel_size=cnn_out.size(-2)\n",
    "                                               ).squeeze(-1)\n",
    "            # |cnn_out| = (batch_size, n_filter)\n",
    "            cnn_outs += [cnn_out]\n",
    "        # Merge output tensors from each convolution layer.\n",
    "        cnn_outs = torch.cat(cnn_outs, dim=-1)\n",
    "        # |cnn_outs| = (batch_size, sum(n_filters))\n",
    "        y = self.activation(self.generator(cnn_outs))\n",
    "        # |y| = (batch_size, n_classes)\n",
    "\n",
    "        return y\n"
   ]
  },
  {
   "cell_type": "code",
   "execution_count": null,
   "metadata": {},
   "outputs": [],
   "source": []
  }
 ],
 "metadata": {
  "kernelspec": {
   "display_name": "PyTorch",
   "language": "python",
   "name": "pytorch-nlp"
  },
  "language_info": {
   "codemirror_mode": {
    "name": "ipython",
    "version": 3
   },
   "file_extension": ".py",
   "mimetype": "text/x-python",
   "name": "python",
   "nbconvert_exporter": "python",
   "pygments_lexer": "ipython3",
   "version": "3.6.6"
  }
 },
 "nbformat": 4,
 "nbformat_minor": 2
}
