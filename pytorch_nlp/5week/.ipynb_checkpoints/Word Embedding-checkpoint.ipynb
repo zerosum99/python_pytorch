{
 "cells": [
  {
   "cell_type": "markdown",
   "metadata": {},
   "source": [
    "# Word Embedding"
   ]
  },
  {
   "cell_type": "code",
   "execution_count": 2,
   "metadata": {},
   "outputs": [],
   "source": [
    "import torch"
   ]
  },
  {
   "cell_type": "markdown",
   "metadata": {},
   "source": [
    "## Word2Vec (2013)\n",
    "\n",
    "[Efficient Estimation of Word Representations in Vector Space](https://arxiv.org/pdf/1301.3781.pdf)\n",
    "\n",
    "by Tomas Mikolov, Kai Chen, Greg Corrado, and Jeffrey Dean\n",
    "\n",
    "![](http://i.imgur.com/agTBWiT.png)\n",
    "\n",
    "### Continuous Bag-Of-Words vs. Skip-gram\n",
    "\n",
    "* CBOW: guessing the blank\n",
    "* Skip-gram: guessing the neighbors\n",
    "\n",
    "![](https://ascelibrary.org/cms/attachment/83d45b70-be2d-4dae-a37a-e3b51af0b7c4/figure3.jpg)"
   ]
  },
  {
   "cell_type": "code",
   "execution_count": 3,
   "metadata": {},
   "outputs": [],
   "source": [
    "NANO_CORPUS = \"\"\"We are about to study the idea of a computational process.\n",
    "Computational processes are abstract beings that inhabit computers.\n",
    "As they evolve, processes manipulate other abstract things called data.\n",
    "The evolution of a process is directed by a pattern of rules\n",
    "called a program. People create programs to direct processes. In effect,\n",
    "we conjure the spirits of the computer with our spells.\"\"\""
   ]
  },
  {
   "cell_type": "code",
   "execution_count": 4,
   "metadata": {},
   "outputs": [
    {
     "name": "stdout",
     "output_type": "stream",
     "text": [
      "['we', 'are', 'about', 'to', 'study', 'the', 'idea', 'of', 'a', 'computational', 'process', 'computational', 'processes', 'are', 'abstract', 'beings', 'that', 'inhabit', 'computers', 'as', 'they', 'evolve', 'processes', 'manipulate', 'other', 'abstract', 'things', 'called', 'data', 'the', 'evolution', 'of', 'a', 'process', 'is', 'directed', 'by', 'a', 'pattern', 'of', 'rules', 'called', 'a', 'program', 'people', 'create', 'programs', 'to', 'direct', 'processes', 'in', 'effect', 'we', 'conjure', 'the', 'spirits', 'of', 'the', 'computer', 'with', 'our', 'spells']\n"
     ]
    }
   ],
   "source": [
    "corpus = NANO_CORPUS.lower().replace(',', ' ').replace('.', ' ').split()\n",
    "print(corpus)"
   ]
  },
  {
   "cell_type": "code",
   "execution_count": 5,
   "metadata": {},
   "outputs": [
    {
     "data": {
      "text/plain": [
       "['evolution',\n",
       " 'program',\n",
       " 'by',\n",
       " 'is',\n",
       " 'idea',\n",
       " 'beings',\n",
       " 'people',\n",
       " 'manipulate',\n",
       " 'our',\n",
       " 'processes',\n",
       " 'programs',\n",
       " 'create',\n",
       " 'other',\n",
       " 'spells',\n",
       " 'computers',\n",
       " 'effect',\n",
       " 'data',\n",
       " 'to',\n",
       " 'are',\n",
       " 'rules',\n",
       " 'in',\n",
       " 'they',\n",
       " 'computer',\n",
       " 'we',\n",
       " 'study',\n",
       " 'abstract',\n",
       " 'directed',\n",
       " 'with',\n",
       " 'about',\n",
       " 'a',\n",
       " 'that',\n",
       " 'pattern',\n",
       " 'spirits',\n",
       " 'evolve',\n",
       " 'computational',\n",
       " 'the',\n",
       " 'as',\n",
       " 'of',\n",
       " 'called',\n",
       " 'things',\n",
       " 'conjure',\n",
       " 'inhabit',\n",
       " 'direct',\n",
       " 'process']"
      ]
     },
     "execution_count": 5,
     "metadata": {},
     "output_type": "execute_result"
    }
   ],
   "source": [
    "import pandas as pd\n",
    "\n",
    "vocabulary = list(set(corpus))\n",
    "vocabulary"
   ]
  },
  {
   "cell_type": "markdown",
   "metadata": {},
   "source": [
    "Before we begin anything, we need to create a one-hot vector of the words. Pandas is great at this."
   ]
  },
  {
   "cell_type": "code",
   "execution_count": 6,
   "metadata": {},
   "outputs": [
    {
     "data": {
      "text/plain": [
       "0     0\n",
       "1     0\n",
       "2     0\n",
       "3     0\n",
       "4     0\n",
       "5     0\n",
       "6     0\n",
       "7     0\n",
       "8     0\n",
       "9     0\n",
       "10    0\n",
       "11    0\n",
       "12    0\n",
       "13    0\n",
       "14    0\n",
       "15    0\n",
       "16    0\n",
       "17    0\n",
       "18    0\n",
       "19    0\n",
       "20    0\n",
       "21    0\n",
       "22    0\n",
       "23    0\n",
       "24    0\n",
       "25    0\n",
       "26    0\n",
       "27    0\n",
       "28    1\n",
       "29    0\n",
       "30    0\n",
       "31    0\n",
       "32    0\n",
       "33    0\n",
       "34    0\n",
       "35    0\n",
       "36    0\n",
       "37    0\n",
       "38    0\n",
       "39    0\n",
       "40    0\n",
       "41    0\n",
       "42    0\n",
       "43    0\n",
       "Name: about, dtype: uint8"
      ]
     },
     "execution_count": 6,
     "metadata": {},
     "output_type": "execute_result"
    }
   ],
   "source": [
    "one_hot = pd.get_dummies(vocabulary)\n",
    "one_hot['about']"
   ]
  },
  {
   "cell_type": "code",
   "execution_count": 7,
   "metadata": {},
   "outputs": [],
   "source": [
    "EMBEDDING_SIZE = 128\n",
    "\n",
    "class CBOW(torch.nn.Module):\n",
    "    def __init__(self):\n",
    "        super(CBOW, self).__init__()\n",
    "        \n",
    "        self.embeddings = torch.FloatTensor(len(vocabulary), EMBEDDING_SIZE).normal_()\n",
    "        self.linear1 = torch.nn.Linear(EMBEDDING_SIZE, 128)\n",
    "        self.relu1 = torch.nn.ReLU()\n",
    "        self.linear2 = torch.nn.Linear(128, len(vocabulary))\n",
    "    \n",
    "    def forward(self, x):\n",
    "        x = torch.sum(self.embeddings * x.sum(dim=0).view(-1, 1), dim=0) # (4, 44) -> (1, 44) -> (44, 1) -> (128)\n",
    "        x = self.linear1(x) # (128)\n",
    "        x = self.relu1(x) # (128)\n",
    "        x = self.linear2(x) # (44)\n",
    "        \n",
    "        return x.view(1, -1) # (1,44)\n",
    "    \n",
    "    def get_word_embedding(self, word):\n",
    "        return self.embeddings[vocabulary.index(word)].view(1, -1)\n",
    "\n",
    "cbow = CBOW()\n",
    "criterion = torch.nn.CrossEntropyLoss()\n",
    "optimizer = torch.optim.SGD(cbow.parameters(), lr=0.001)"
   ]
  },
  {
   "cell_type": "code",
   "execution_count": 8,
   "metadata": {},
   "outputs": [
    {
     "name": "stdout",
     "output_type": "stream",
     "text": [
      "Epoch 0: loss 3.8916\n",
      "Epoch 1: loss 3.7705\n",
      "Epoch 2: loss 3.6547\n",
      "Epoch 3: loss 3.5436\n",
      "Epoch 4: loss 3.4364\n",
      "Epoch 5: loss 3.3318\n",
      "Epoch 6: loss 3.2296\n",
      "Epoch 7: loss 3.1301\n",
      "Epoch 8: loss 3.0327\n",
      "Epoch 9: loss 2.9378\n",
      "Epoch 10: loss 2.8445\n",
      "Epoch 11: loss 2.7526\n",
      "Epoch 12: loss 2.6624\n",
      "Epoch 13: loss 2.5733\n",
      "Epoch 14: loss 2.4858\n",
      "Epoch 15: loss 2.3999\n",
      "Epoch 16: loss 2.3155\n",
      "Epoch 17: loss 2.2324\n",
      "Epoch 18: loss 2.1505\n",
      "Epoch 19: loss 2.0702\n",
      "Epoch 20: loss 1.9912\n",
      "Epoch 21: loss 1.9137\n",
      "Epoch 22: loss 1.8377\n",
      "Epoch 23: loss 1.7631\n",
      "Epoch 24: loss 1.6903\n",
      "Epoch 25: loss 1.6192\n",
      "Epoch 26: loss 1.5498\n",
      "Epoch 27: loss 1.4822\n",
      "Epoch 28: loss 1.4160\n",
      "Epoch 29: loss 1.3520\n",
      "Epoch 30: loss 1.2900\n",
      "Epoch 31: loss 1.2297\n",
      "Epoch 32: loss 1.1718\n",
      "Epoch 33: loss 1.1157\n",
      "Epoch 34: loss 1.0617\n",
      "Epoch 35: loss 1.0103\n",
      "Epoch 36: loss 0.9609\n",
      "Epoch 37: loss 0.9137\n",
      "Epoch 38: loss 0.8688\n",
      "Epoch 39: loss 0.8264\n",
      "Epoch 40: loss 0.7859\n",
      "Epoch 41: loss 0.7475\n",
      "Epoch 42: loss 0.7115\n",
      "Epoch 43: loss 0.6773\n",
      "Epoch 44: loss 0.6451\n",
      "Epoch 45: loss 0.6147\n",
      "Epoch 46: loss 0.5862\n",
      "Epoch 47: loss 0.5593\n",
      "Epoch 48: loss 0.5340\n",
      "Epoch 49: loss 0.5102\n",
      "Epoch 50: loss 0.4879\n",
      "Epoch 51: loss 0.4668\n",
      "Epoch 52: loss 0.4469\n",
      "Epoch 53: loss 0.4283\n",
      "Epoch 54: loss 0.4108\n",
      "Epoch 55: loss 0.3943\n",
      "Epoch 56: loss 0.3787\n",
      "Epoch 57: loss 0.3640\n",
      "Epoch 58: loss 0.3502\n",
      "Epoch 59: loss 0.3372\n",
      "Epoch 60: loss 0.3249\n",
      "Epoch 61: loss 0.3132\n",
      "Epoch 62: loss 0.3022\n",
      "Epoch 63: loss 0.2918\n"
     ]
    }
   ],
   "source": [
    "EPOCHS = 64\n",
    "WINDOW_SIZE = 2\n",
    "EMBEDDING_SIZE = 128\n",
    "\n",
    "def get_context(i, corpus):\n",
    "    context = []\n",
    "    \n",
    "    start = max(i - WINDOW_SIZE, 0)\n",
    "    end = min(i + WINDOW_SIZE, len(corpus) - 1)\n",
    "    \n",
    "    for n in range(start, end):\n",
    "        if n == i:\n",
    "            continue\n",
    "        context.append(corpus[n])\n",
    "    \n",
    "    return context\n",
    "\n",
    "for epoch in range(EPOCHS):\n",
    "    n_words = 0\n",
    "    acc_loss = 0\n",
    "    for i, word in enumerate(corpus):\n",
    "        context = torch.FloatTensor(\n",
    "            [one_hot[word] for word in get_context(i, corpus)])\n",
    "        target = torch.LongTensor([vocabulary.index(word)])\n",
    "\n",
    "        with torch.set_grad_enabled(True):\n",
    "            output = cbow(context) # (4, 44) -> (1, 44)\n",
    "            loss = criterion(output, target)\n",
    "\n",
    "            optimizer.zero_grad()\n",
    "            loss.backward()\n",
    "            optimizer.step()\n",
    "\n",
    "            acc_loss += float(loss)\n",
    "            n_words += 1\n",
    "\n",
    "    print(f'Epoch {epoch}: loss {acc_loss/n_words:.4f}')"
   ]
  },
  {
   "cell_type": "markdown",
   "metadata": {},
   "source": [
    "Now, remember our corpus?\n",
    "\n",
    "> We are about to study the idea of a computational process.\n",
    "Computational processes are abstract beings that inhabit computers.\n",
    "As they evolve, processes manipulate other abstract things called data.\n",
    "The evolution of a process is directed by a pattern of rules\n",
    "called a program. People create **programs** to direct processes. In effect,\n",
    "we conjure the spirits of the computer with our spells.\n",
    "\n",
    "Let's see if our model can guess the highlighted word."
   ]
  },
  {
   "cell_type": "code",
   "execution_count": 9,
   "metadata": {},
   "outputs": [
    {
     "name": "stdout",
     "output_type": "stream",
     "text": [
      "programs\n"
     ]
    }
   ],
   "source": [
    "quiz = ['people', 'create', 'to', 'direct']\n",
    "output = cbow(torch.FloatTensor([one_hot[w] for w in quiz]))\n",
    "_, i = output.max(dim=1)\n",
    "print(vocabulary[i])"
   ]
  },
  {
   "cell_type": "code",
   "execution_count": 10,
   "metadata": {},
   "outputs": [
    {
     "data": {
      "text/plain": [
       "tensor([[ 2.3503,  1.4058,  0.9775, -1.5316, -1.4551, -0.7833,  0.9148,  1.0036,\n",
       "          1.2835,  0.3147, -1.7092,  0.9588,  0.4237, -1.2326,  0.2568,  0.5778,\n",
       "         -0.9000, -0.1711, -1.7419, -1.2078,  1.7078,  1.6593,  0.2161, -0.8524,\n",
       "          1.2331, -0.6784,  0.1427, -0.5300, -0.0287,  0.8898, -0.8506, -1.0147,\n",
       "         -0.4326, -0.7569,  1.4778,  0.6029,  0.7689,  0.6936, -0.1956, -0.1076,\n",
       "         -0.5360,  0.7111,  0.3540,  0.1227,  2.2005, -1.9359,  0.8358, -0.3858,\n",
       "          0.2594, -0.9125,  0.7360,  0.3890, -0.0316,  2.0782,  0.3301, -1.9728,\n",
       "         -0.1416,  0.4870, -0.4219,  0.2269,  1.2890, -0.7991, -1.0920,  2.2965,\n",
       "         -0.0367,  1.3610,  0.9869,  1.0548, -0.6040, -0.2357,  0.4719, -0.1254,\n",
       "         -1.1823, -0.5866, -0.6350, -0.0412,  1.9209, -1.3118, -0.9674,  0.2606,\n",
       "          0.4608, -0.7518,  0.1880,  1.5211, -0.8289, -0.4398,  0.0540,  1.0902,\n",
       "         -0.3974, -0.1581, -1.2482, -0.3675,  1.6084, -0.7607,  0.5796,  1.5074,\n",
       "         -1.5997,  0.5164, -1.1332,  1.5691,  1.3170, -0.4437, -1.7842, -1.0202,\n",
       "          0.0121, -0.2127,  0.7060, -0.6502, -0.1896, -0.2417, -0.9480, -0.0978,\n",
       "          0.3230, -0.1185,  0.6631, -0.8826, -0.1634,  0.4063, -2.3500,  0.9227,\n",
       "          0.5012,  0.2402,  1.0718,  0.2767,  0.7975, -0.9590,  1.4411, -0.3733]])"
      ]
     },
     "execution_count": 10,
     "metadata": {},
     "output_type": "execute_result"
    }
   ],
   "source": [
    "cbow.get_word_embedding('programs')"
   ]
  },
  {
   "cell_type": "code",
   "execution_count": 11,
   "metadata": {},
   "outputs": [],
   "source": [
    "class Skipgram(torch.nn.Module):\n",
    "    def __init__(self):\n",
    "        super(Skipgram, self).__init__()\n",
    "        self.embeddings = torch.FloatTensor(len(vocabulary), EMBEDDING_SIZE).normal_()\n",
    "        self.linear1 = torch.nn.Linear(EMBEDDING_SIZE, 128)\n",
    "        self.relu1 = torch.nn.ReLU()\n",
    "        self.linear2 = torch.nn.Linear(128, len(vocabulary))\n",
    "    \n",
    "    def forward(self, x):\n",
    "        x = self.embeddings[x]\n",
    "        x = self.linear1(x)\n",
    "        x = self.relu1(x)\n",
    "        x = self.linear2(x)\n",
    "        return x.view(1, -1)\n",
    "    \n",
    "    def get_word_embedding(self, word):\n",
    "        return self.embeddings[vocabulary.index(word)].view(1, -1)\n",
    "\n",
    "skipgram = Skipgram()\n",
    "criterion = torch.nn.CrossEntropyLoss()\n",
    "optimizer = torch.optim.SGD(skipgram.parameters(), lr=0.01)"
   ]
  },
  {
   "cell_type": "code",
   "execution_count": 12,
   "metadata": {},
   "outputs": [
    {
     "name": "stdout",
     "output_type": "stream",
     "text": [
      "Epoch 0: loss 3.7978\n",
      "Epoch 1: loss 3.4298\n",
      "Epoch 2: loss 3.1596\n",
      "Epoch 3: loss 2.9184\n",
      "Epoch 4: loss 2.6996\n",
      "Epoch 5: loss 2.5120\n",
      "Epoch 6: loss 2.3644\n",
      "Epoch 7: loss 2.2613\n",
      "Epoch 8: loss 2.1911\n",
      "Epoch 9: loss 2.1489\n",
      "Epoch 10: loss 2.1227\n",
      "Epoch 11: loss 2.1047\n",
      "Epoch 12: loss 2.0915\n",
      "Epoch 13: loss 2.0803\n",
      "Epoch 14: loss 2.0726\n",
      "Epoch 15: loss 2.0638\n",
      "Epoch 16: loss 2.0545\n",
      "Epoch 17: loss 2.0468\n",
      "Epoch 18: loss 2.0409\n",
      "Epoch 19: loss 2.0333\n",
      "Epoch 20: loss 2.0283\n",
      "Epoch 21: loss 2.0217\n",
      "Epoch 22: loss 2.0156\n",
      "Epoch 23: loss 2.0092\n",
      "Epoch 24: loss 2.0036\n",
      "Epoch 25: loss 1.9986\n",
      "Epoch 26: loss 1.9941\n",
      "Epoch 27: loss 1.9883\n",
      "Epoch 28: loss 1.9843\n",
      "Epoch 29: loss 1.9793\n",
      "Epoch 30: loss 1.9744\n",
      "Epoch 31: loss 1.9701\n",
      "Epoch 32: loss 1.9666\n",
      "Epoch 33: loss 1.9614\n",
      "Epoch 34: loss 1.9566\n",
      "Epoch 35: loss 1.9532\n",
      "Epoch 36: loss 1.9495\n",
      "Epoch 37: loss 1.9459\n",
      "Epoch 38: loss 1.9425\n",
      "Epoch 39: loss 1.9388\n",
      "Epoch 40: loss 1.9355\n",
      "Epoch 41: loss 1.9323\n",
      "Epoch 42: loss 1.9285\n",
      "Epoch 43: loss 1.9244\n",
      "Epoch 44: loss 1.9212\n",
      "Epoch 45: loss 1.9184\n",
      "Epoch 46: loss 1.9160\n",
      "Epoch 47: loss 1.9142\n",
      "Epoch 48: loss 1.9115\n",
      "Epoch 49: loss 1.9070\n",
      "Epoch 50: loss 1.9036\n",
      "Epoch 51: loss 1.9015\n",
      "Epoch 52: loss 1.8984\n",
      "Epoch 53: loss 1.8968\n",
      "Epoch 54: loss 1.8931\n",
      "Epoch 55: loss 1.8913\n",
      "Epoch 56: loss 1.8894\n",
      "Epoch 57: loss 1.8877\n",
      "Epoch 58: loss 1.8843\n",
      "Epoch 59: loss 1.8813\n",
      "Epoch 60: loss 1.8799\n",
      "Epoch 61: loss 1.8776\n",
      "Epoch 62: loss 1.8761\n",
      "Epoch 63: loss 1.8736\n"
     ]
    }
   ],
   "source": [
    "EPOCHS = 64\n",
    "WINDOW_SIZE = 2\n",
    "EMBEDDING_SIZE = 128\n",
    "\n",
    "def get_context(i, corpus):\n",
    "    context = []\n",
    "    \n",
    "    start = max(i - WINDOW_SIZE, 0)\n",
    "    end = min(i + WINDOW_SIZE, len(corpus) - 1)\n",
    "    \n",
    "    for n in range(start, end):\n",
    "        if n == i:\n",
    "            continue\n",
    "        context.append(corpus[n])\n",
    "    \n",
    "    return context\n",
    "\n",
    "for epoch in range(EPOCHS):\n",
    "    n_words = 0\n",
    "    acc_loss = 0\n",
    "    for i, word in enumerate(corpus):\n",
    "        center = vocabulary.index(word)\n",
    "\n",
    "        for word in get_context(i, corpus):\n",
    "            context = torch.LongTensor([vocabulary.index(word)])\n",
    "\n",
    "            with torch.set_grad_enabled(True):\n",
    "                output = skipgram(center)\n",
    "                loss = criterion(output, context)\n",
    "\n",
    "                optimizer.zero_grad()\n",
    "                loss.backward()\n",
    "                optimizer.step()\n",
    "\n",
    "                acc_loss += float(loss)\n",
    "                n_words += 1\n",
    "\n",
    "    print(f'Epoch {epoch}: loss {acc_loss/n_words:.4f}')"
   ]
  },
  {
   "cell_type": "code",
   "execution_count": 13,
   "metadata": {},
   "outputs": [
    {
     "data": {
      "text/plain": [
       "computer     0.164020\n",
       "to           0.023003\n",
       "that         0.021123\n",
       "study        0.020168\n",
       "things       0.019865\n",
       "they         0.018637\n",
       "evolution    0.018201\n",
       "with         0.017083\n",
       "as           0.016744\n",
       "abstract     0.015496\n",
       "dtype: float64"
      ]
     },
     "execution_count": 13,
     "metadata": {},
     "output_type": "execute_result"
    }
   ],
   "source": [
    "def get_similar(query, embeddings, top_k=10):\n",
    "    embeddings = embeddings.cpu()\n",
    "    query = embeddings[vocabulary.index(query)]\n",
    "    similarity = (embeddings @ query) / (embeddings.norm() * query.norm())\n",
    "    similarity = pd.Series(dict(zip(vocabulary, similarity.numpy())))\n",
    "    similarity = similarity.sort_values(ascending=False)\n",
    "    \n",
    "    return similarity[:top_k]\n",
    "\n",
    "get_similar('computer', skipgram.embeddings)"
   ]
  },
  {
   "cell_type": "markdown",
   "metadata": {},
   "source": [
    "## GloVe: Global Vectors for Word Representation (2014)\n",
    "\n",
    "by Jeffrey Pennington, Richard Socher, Christopher D. Manning\n",
    "\n",
    "https://www.aclweb.org/anthology/D14-1162\n",
    "\n",
    "On page 1534:\n",
    "\n",
    "> We begin with a simple example that showcases\n",
    "how certain aspects of meaning can be extracted\n",
    "directly from co-occurrence probabilities. Consider\n",
    "two words $i$ and $j$ that exhibit a particular aspect\n",
    "of interest; for concreteness, suppose we are\n",
    "interested in the concept of thermodynamic phase,\n",
    "for which we might take $i = ice$ and $j = steam$.\n",
    "The relationship of these words can be examined\n",
    "by studying the ratio of their co-occurrence probabilities\n",
    "with various probe words, $k$. For words\n",
    "$k$ related to $ice$ but not $steam$, say $k = solid$, we\n",
    "expect the ratio $Pik / Pjk$ will be large. Similarly,\n",
    "for words $k$ related to $steam$ but not $ice$, say $k =\n",
    "gas$, the ratio should be small. For words $k$ like\n",
    "$water$ or $fashion$, that are either related to both $ice$\n",
    "and $steam$, or to neither, the ratio should be close\n",
    "to one. Table 1 shows these probabilities and their\n",
    "ratios for a large corpus, and the numbers confirm\n",
    "these expectations. Compared to the raw probabilities,\n",
    "the ratio is better able to distinguish relevant\n",
    "words ($solid$ and $gas$) from irrelevant words ($water$\n",
    "and $fashion$) and it is also better able to discriminate\n",
    "between the two relevant words.\n",
    "\n",
    "$$\n",
    "\\frac{P_{solid | ice}}{P_{solid | steam}} >\n",
    "\\frac{P_{fashion | ice}}{P_{fashion | steam}} >\n",
    "\\frac{P_{gas | ice}}{P_{gas | steam}}\n",
    "$$"
   ]
  },
  {
   "cell_type": "markdown",
   "metadata": {},
   "source": [
    "> The above argument suggests that the appropriate\n",
    "starting point for word vector learning should\n",
    "be with ratios of co-occurrence probabilities rather\n",
    "than the probabilities themselves. Noting that the\n",
    "ratio $P_{ik} /P_{jk}$ depends on three words $i$, $j$, and $k$,\n",
    "the most general model takes the form,"
   ]
  },
  {
   "cell_type": "markdown",
   "metadata": {},
   "source": [
    "$$\n",
    "F(w_i, w_j, \\tilde{w}_k) = \\frac{P_{ik}}{P_{jk}}\n",
    "$$"
   ]
  },
  {
   "cell_type": "markdown",
   "metadata": {},
   "source": [
    "> The number of possibilities for $F$ is vast,\n",
    "but by enforcing a few desiderata we can select a\n",
    "unique choice. First, we would like $F$ to encode\n",
    "the information present the ratio $Pik / Pjk$ in the\n",
    "word vector space. Since vector spaces are inherently\n",
    "linear structures, the most natural way to do\n",
    "this is with vector differences."
   ]
  },
  {
   "cell_type": "markdown",
   "metadata": {},
   "source": [
    "$$\n",
    "F(w_i - w_j, \\tilde{w}_k) = \\frac{P_{ik}}{P_{jk}}\n",
    "$$"
   ]
  },
  {
   "cell_type": "markdown",
   "metadata": {},
   "source": [
    "> Next, we note that the arguments of $F$ in Eqn. (2)\n",
    "are vectors while the right-hand side is a scalar.\n",
    "While $F$ could be taken to be a complicated function\n",
    "parameterized by, e.g., a neural network, doing\n",
    "so would obfuscate the linear structure we are\n",
    "trying to capture. To avoid this issue, we can first\n",
    "take the dot product of the arguments,"
   ]
  },
  {
   "cell_type": "markdown",
   "metadata": {},
   "source": [
    "$$\n",
    "F((w_i - w_j)^T \\tilde{w}_k) = \\frac{P_{ik}}{P_{jk}}\n",
    "$$"
   ]
  },
  {
   "cell_type": "markdown",
   "metadata": {},
   "source": [
    "> Next, note that for\n",
    "word-word co-occurrence matrices, the distinction\n",
    "between a word and a context word is arbitrary and\n",
    "that we are free to exchange the two roles. To do so\n",
    "consistently, we must not only exchange $w \\leftrightarrow \\tilde{w}$\n",
    "but also $X \\leftrightarrow X^T$. Our final model should be invariant\n",
    "under this relabeling, but Eqn. (3) is not.\n",
    "However, the symmetry can be restored in two\n",
    "steps. First, we require that $F$ be a homomorphism\n",
    "between the groups $(\\mathbb{R}, +)$ and $(\\mathbb{R}_{>0}, \\times)$, i.e.,"
   ]
  },
  {
   "cell_type": "markdown",
   "metadata": {},
   "source": [
    "$$\n",
    "F(X-Y)=\\frac { F(X) }{ F(Y) }\n",
    "$$"
   ]
  },
  {
   "cell_type": "markdown",
   "metadata": {},
   "source": [
    "$$\n",
    "F(w_i^T \\tilde{w}_k - w_j^T \\tilde{w}_k) = \\frac{P_{ik}}{P_{jk}}\n",
    "$$"
   ]
  },
  {
   "cell_type": "markdown",
   "metadata": {},
   "source": [
    "$$\n",
    "F(w_i^T \\tilde{w}_k - w_j^T \\tilde{w}_k) = \\frac{F(w_i^T \\tilde{w}_k)}{F(w_j^T \\tilde{w}_k)}\n",
    "$$"
   ]
  },
  {
   "cell_type": "markdown",
   "metadata": {},
   "source": [
    "$$\n",
    "\\exp(w_i^T \\tilde{w}_k - w_j^T \\tilde{w}_k) = \\frac{\\exp(w_i^T \\tilde{w}_k)}{\\exp(w_j^T \\tilde{w}_k)}\n",
    "$$"
   ]
  },
  {
   "cell_type": "markdown",
   "metadata": {},
   "source": [
    "$$F = \\exp$$"
   ]
  },
  {
   "cell_type": "markdown",
   "metadata": {},
   "source": [
    "Page 1533:\n",
    "> Let the matrix\n",
    "of word-word co-occurrence counts be denoted by\n",
    "$X$, whose entries $X_{ij}$ tabulate the number of times\n",
    "word $j$ occurs in the context of word $i$. Let $X_i = \\sum_k X_{ik}$\n",
    "be the number of times any word appears\n",
    "in the context of word $i$. Finally, let\n",
    "$P_{ij} = P(j|i) = X_{ij}/X_i$be the probability that word $j$ appear in the\n",
    "context of word $i$."
   ]
  },
  {
   "cell_type": "markdown",
   "metadata": {},
   "source": [
    "$$\n",
    "F(w_i^T \\tilde{w}_k) = P_{ik} = \\frac{X_{ik}}{X_i}\n",
    "$$"
   ]
  },
  {
   "cell_type": "markdown",
   "metadata": {},
   "source": [
    "$$\n",
    "w_i^T \\tilde { w }_k =\\log { { P }_{ ik } } =\\log ({ X_{ ik })-\\log ({ X_{ i } })  }\n",
    "$$"
   ]
  },
  {
   "cell_type": "markdown",
   "metadata": {},
   "source": [
    "Page 1535:\n",
    "> Next, we note that Eqn. (6) would exhibit the exchange\n",
    "symmetry if not for the $log(X_i)$ on the\n",
    "right-hand side. "
   ]
  },
  {
   "cell_type": "markdown",
   "metadata": {},
   "source": [
    "$$\n",
    "\\log(X_{ik})-\\log(X_i) \\neq \\log(X_{ki})-\\log(X_k)\n",
    "$$"
   ]
  },
  {
   "cell_type": "markdown",
   "metadata": {},
   "source": [
    "> However, this term is independent\n",
    "of $k$ so it can be absorbed into a bias $b_i$ for\n",
    "$w+i$. Finally, adding an additional bias $\\tilde{b}_k$ for $\\tilde{w}_k$\n",
    "restores the symmetry,"
   ]
  },
  {
   "cell_type": "markdown",
   "metadata": {},
   "source": [
    "$$\n",
    "{ w }_{ i }^{ T }\\tilde { { w }_{ k } } +{ b }_{ i }+\\tilde { { b }_{ k } } =\\log ({ X_{ ik }})\n",
    "$$"
   ]
  },
  {
   "cell_type": "markdown",
   "metadata": {},
   "source": [
    "## Building the vocabulary and counting co-occurrence (again)\n",
    "\n",
    "Today's dataset, an English monolingual corpus, can be found [here](https://drive.google.com/open?id=1__lK0x_k8gtyV27QZqQUGSC4jlaQAZSC)."
   ]
  },
  {
   "cell_type": "code",
   "execution_count": 16,
   "metadata": {},
   "outputs": [],
   "source": [
    "from collections import defaultdict\n",
    "\n",
    "FILE = 'ted.en.txt'\n",
    "WINDOW_SIZE = 10\n",
    "\n",
    "vocabulary = defaultdict(int)\n",
    "co_occurrence = defaultdict(int)\n",
    "\n",
    "with open(FILE, encoding='utf-8') as f:\n",
    "    sentences = f.readlines()\n",
    "\n",
    "for sentence in sentences:\n",
    "    words = sentence.split(' ')\n",
    "    for i in range(len(words)):\n",
    "        vocabulary[words[i]] += 1\n",
    "\n",
    "        for j in range(i + 1, i + WINDOW_SIZE + 1):\n",
    "            if j >= len(words):\n",
    "                break\n",
    "            keys = tuple(sorted([words[i], words[j]]))\n",
    "            co_occurrence[keys] += 1"
   ]
  },
  {
   "cell_type": "markdown",
   "metadata": {},
   "source": [
    "Let's see how much words we have gathered."
   ]
  },
  {
   "cell_type": "code",
   "execution_count": 17,
   "metadata": {},
   "outputs": [
    {
     "data": {
      "text/plain": [
       "77599"
      ]
     },
     "execution_count": 17,
     "metadata": {},
     "output_type": "execute_result"
    }
   ],
   "source": [
    "len(vocabulary)"
   ]
  },
  {
   "cell_type": "markdown",
   "metadata": {},
   "source": [
    "Show some love!"
   ]
  },
  {
   "cell_type": "code",
   "execution_count": 18,
   "metadata": {},
   "outputs": [
    {
     "data": {
      "text/plain": [
       "True"
      ]
     },
     "execution_count": 18,
     "metadata": {},
     "output_type": "execute_result"
    }
   ],
   "source": [
    "'love' in vocabulary"
   ]
  },
  {
   "cell_type": "markdown",
   "metadata": {},
   "source": [
    "How much?"
   ]
  },
  {
   "cell_type": "code",
   "execution_count": 19,
   "metadata": {},
   "outputs": [
    {
     "data": {
      "text/plain": [
       "2444"
      ]
     },
     "execution_count": 19,
     "metadata": {},
     "output_type": "execute_result"
    }
   ],
   "source": [
    "vocabulary['love']"
   ]
  },
  {
   "cell_type": "markdown",
   "metadata": {},
   "source": [
    "Let's convert the dictionary into a Pandas Series for convinience."
   ]
  },
  {
   "cell_type": "code",
   "execution_count": 20,
   "metadata": {},
   "outputs": [],
   "source": [
    "import pandas as pd\n",
    "\n",
    "MIN_OCCURRENCE = 10\n",
    "\n",
    "vocabulary = pd.Series(vocabulary, dtype='uint16')"
   ]
  },
  {
   "cell_type": "markdown",
   "metadata": {},
   "source": [
    "And with the help of Pandas, let's set a minimum frequency threshold to trim the vocabulary."
   ]
  },
  {
   "cell_type": "code",
   "execution_count": 21,
   "metadata": {},
   "outputs": [
    {
     "data": {
      "text/plain": [
       "16754"
      ]
     },
     "execution_count": 21,
     "metadata": {},
     "output_type": "execute_result"
    }
   ],
   "source": [
    "vocabulary = vocabulary[vocabulary >= MIN_OCCURRENCE]\n",
    "len(vocabulary)"
   ]
  },
  {
   "cell_type": "code",
   "execution_count": 22,
   "metadata": {},
   "outputs": [
    {
     "data": {
      "text/plain": [
       "True"
      ]
     },
     "execution_count": 22,
     "metadata": {},
     "output_type": "execute_result"
    }
   ],
   "source": [
    "'love' in vocabulary"
   ]
  },
  {
   "cell_type": "code",
   "execution_count": 23,
   "metadata": {},
   "outputs": [],
   "source": [
    "import numpy as np\n",
    "\n",
    "X_ij = np.zeros((len(vocabulary), len(vocabulary)), dtype='uint16')\n",
    "\n",
    "for (word_i, word_j), value in co_occurrence.items():\n",
    "    try:\n",
    "        i = vocabulary.index.get_loc(word_i)\n",
    "        j = vocabulary.index.get_loc(word_j)\n",
    "    except KeyError:\n",
    "        continue\n",
    "\n",
    "    X_ij[i][j] = value\n",
    "    X_ij[j][i] = value"
   ]
  },
  {
   "cell_type": "code",
   "execution_count": 24,
   "metadata": {},
   "outputs": [
    {
     "data": {
      "text/plain": [
       "array([[  28, 2145,    3, ...,    0,    0,    0],\n",
       "       [2145, 5716,   49, ...,    4,    0,    4],\n",
       "       [   3,   49,    2, ...,    0,    0,    0],\n",
       "       ...,\n",
       "       [   0,    4,    0, ...,    0,    0,    0],\n",
       "       [   0,    0,    0, ...,    0,    0,    0],\n",
       "       [   0,    4,    0, ...,    0,    0,    0]], dtype=uint16)"
      ]
     },
     "execution_count": 24,
     "metadata": {},
     "output_type": "execute_result"
    }
   ],
   "source": [
    "X_ij"
   ]
  },
  {
   "cell_type": "code",
   "execution_count": 28,
   "metadata": {},
   "outputs": [
    {
     "data": {
      "text/plain": [
       "1"
      ]
     },
     "execution_count": 28,
     "metadata": {},
     "output_type": "execute_result"
    }
   ],
   "source": [
    "torch.cuda.device_count()"
   ]
  },
  {
   "cell_type": "markdown",
   "metadata": {},
   "source": [
    "$$\n",
    "{ w }_{ i }^{ T }\\tilde { { w }_{ k } } +{ b }_{ i }+\\tilde { { b }_{ k } } =\\log ({ X_{ ik }})\n",
    "$$"
   ]
  },
  {
   "cell_type": "code",
   "execution_count": 29,
   "metadata": {},
   "outputs": [
    {
     "name": "stdout",
     "output_type": "stream",
     "text": [
      "iteration 0, loss 0.3574\n",
      "iteration 1, loss 0.1877\n",
      "iteration 2, loss 0.1190\n",
      "iteration 3, loss 0.0862\n",
      "iteration 4, loss 0.0715\n",
      "iteration 5, loss 0.0627\n",
      "iteration 6, loss 0.0568\n",
      "iteration 7, loss 0.0511\n",
      "iteration 8, loss 0.0468\n",
      "iteration 9, loss 0.0430\n",
      "iteration 10, loss 0.0416\n",
      "iteration 11, loss 0.0399\n",
      "iteration 12, loss 0.0395\n",
      "iteration 13, loss 0.0382\n",
      "iteration 14, loss 0.0377\n",
      "iteration 15, loss 0.0366\n",
      "iteration 16, loss 0.0359\n",
      "iteration 17, loss 0.0352\n",
      "iteration 18, loss 0.0345\n",
      "iteration 19, loss 0.0337\n",
      "iteration 20, loss 0.0330\n",
      "iteration 21, loss 0.0330\n",
      "iteration 22, loss 0.0322\n",
      "iteration 23, loss 0.0322\n",
      "iteration 24, loss 0.0314\n",
      "iteration 25, loss 0.0313\n",
      "iteration 26, loss 0.0302\n",
      "iteration 27, loss 0.0308\n",
      "iteration 28, loss 0.0300\n",
      "iteration 29, loss 0.0303\n",
      "iteration 30, loss 0.0292\n",
      "iteration 31, loss 0.0296\n"
     ]
    }
   ],
   "source": [
    "from itertools import chain\n",
    "import torch\n",
    "\n",
    "DIM = 128\n",
    "ITERATIONS = 32\n",
    "X_MAX = 100\n",
    "ALPHA = 3/4\n",
    "GPU_ID = 0\n",
    "\n",
    "n_words = X_ij.shape[0]\n",
    "\n",
    "X = torch.from_numpy(X_ij.astype('float32')).add_(1)\n",
    "w_main = torch.FloatTensor(n_words, DIM).uniform_(-0.5, 0.5)\n",
    "w_context = torch.FloatTensor(n_words, DIM).uniform_(-0.5, 0.5)\n",
    "b_main = torch.FloatTensor(n_words).uniform_(-0.5, 0.5)\n",
    "b_context = torch.FloatTensor(n_words).uniform_(-0.5, 0.5)\n",
    "\n",
    "if torch.cuda.is_available():\n",
    "    X = X.cuda(device=GPU_ID)\n",
    "    w_main = w_main.cuda(device=GPU_ID)\n",
    "    w_context = w_context.cuda(device=GPU_ID)\n",
    "    b_main = b_main.cuda(device=GPU_ID)\n",
    "    b_context = b_context.cuda(device=GPU_ID)\n",
    "\n",
    "X.requires_grad_(False)\n",
    "w_main.requires_grad_(True)\n",
    "w_context.requires_grad_(True)\n",
    "b_main.requires_grad_(True)\n",
    "b_context.requires_grad_(True)\n",
    "\n",
    "criterion = torch.nn.MSELoss(reduction='none')\n",
    "optimizer = torch.optim.Adam([w_main, w_context, b_main, b_context],\n",
    "                             lr=1e-3, weight_decay=1e-15)\n",
    "\n",
    "with torch.set_grad_enabled(True):\n",
    "    for iteration in range(ITERATIONS):\n",
    "        acc_loss = 0\n",
    "        for j in torch.randperm(n_words):\n",
    "            output = w_main @ w_context[j]\n",
    "            output += b_main[j]\n",
    "            output += b_context[j]\n",
    "            \n",
    "            loss = criterion(output, X[:, j].log() + 1e-15)\n",
    "            \n",
    "            loss_weight = (X[:, j] / X_MAX) ** ALPHA\n",
    "            loss_weight[X[:, j] > X_MAX] = 1\n",
    "\n",
    "            optimizer.zero_grad()\n",
    "            loss.backward(loss_weight)\n",
    "            optimizer.step()\n",
    "            \n",
    "            acc_loss += float(loss.mean())\n",
    "        \n",
    "        print(f'iteration {iteration}, loss {acc_loss/n_words:.4f}')"
   ]
  },
  {
   "cell_type": "code",
   "execution_count": 30,
   "metadata": {},
   "outputs": [
    {
     "data": {
      "text/plain": [
       "walked      0.009325\n",
       "wife        0.009082\n",
       "son         0.009056\n",
       "sat         0.008554\n",
       "ran         0.008525\n",
       "moved       0.008505\n",
       "mom         0.008481\n",
       "daughter    0.008260\n",
       "sit         0.008107\n",
       "boy         0.008045\n",
       "named       0.008024\n",
       "brother     0.008002\n",
       "door        0.007977\n",
       "sent        0.007883\n",
       "husband     0.007875\n",
       "standing    0.007839\n",
       "wish        0.007806\n",
       "dad         0.007793\n",
       "sister      0.007738\n",
       "movie       0.007701\n",
       "dtype: float64"
      ]
     },
     "execution_count": 30,
     "metadata": {},
     "output_type": "execute_result"
    }
   ],
   "source": [
    "def v(word):\n",
    "    i = vocabulary.index.get_loc(word)\n",
    "    return w_main[i].cpu()\n",
    "\n",
    "def analogy(target, top_k=20):\n",
    "    target /= target.norm()\n",
    "    \n",
    "    with torch.no_grad():\n",
    "        similarity = (w_main.cpu() @ target) / (w_main.cpu().norm() * target.norm())\n",
    "        similarity = pd.Series(dict(zip(vocabulary.keys(), similarity.numpy())))\n",
    "        similarity = similarity[vocabulary < 500]\n",
    "        similarity = similarity.sort_values(ascending=False)\n",
    "    \n",
    "    return similarity.sort_values(ascending=False)[:top_k]\n",
    "\n",
    "analogy(v('husband') - v('man') + v('woman'))"
   ]
  },
  {
   "cell_type": "code",
   "execution_count": 31,
   "metadata": {},
   "outputs": [
    {
     "data": {
      "text/plain": [
       "teenager       0.004387\n",
       "feminist       0.004261\n",
       "birthday       0.004250\n",
       "coach          0.004244\n",
       "gentleman      0.004222\n",
       "storyteller    0.004210\n",
       "hero           0.004190\n",
       "headline       0.004179\n",
       "filmmaker      0.004177\n",
       "Until          0.004171\n",
       "chef           0.004170\n",
       "musician       0.004163\n",
       "editor         0.004155\n",
       "kidding        0.004140\n",
       "heaven         0.004139\n",
       "CEO            0.004121\n",
       "accent         0.004120\n",
       "candy          0.004096\n",
       "reporter       0.004077\n",
       "notebook       0.004073\n",
       "dtype: float64"
      ]
     },
     "execution_count": 31,
     "metadata": {},
     "output_type": "execute_result"
    }
   ],
   "source": [
    "analogy(v('heaven') - v('good') + v('bad'))"
   ]
  },
  {
   "cell_type": "markdown",
   "metadata": {},
   "source": [
    "## Visualization using PCA and t-SNE\n",
    "\n",
    "![](https://scontent-icn1-1.xx.fbcdn.net/v/t1.0-9/41425661_1809264752526756_3946431284045152256_n.jpg?_nc_cat=107&oh=e0b118959eaf0d6c7c97ce71b8c1136d&oe=5C20EDF1)"
   ]
  },
  {
   "cell_type": "markdown",
   "metadata": {},
   "source": [
    "* PCA\n",
    "  * good for dimensionality reduction\n",
    "  * not always good for visualization\n",
    "  * weak against non-linear data\n",
    "* t-SNE\n",
    "  * good for visualization\n",
    "  * not so good for dimensionality reduction\n",
    "  * strong against non-linear data"
   ]
  },
  {
   "cell_type": "markdown",
   "metadata": {},
   "source": [
    "!pip install torchtext"
   ]
  },
  {
   "cell_type": "markdown",
   "metadata": {},
   "source": [
    "[FastText](https://fasttext.cc/): Library for efficient text classification and representation learning"
   ]
  },
  {
   "cell_type": "code",
   "execution_count": 34,
   "metadata": {},
   "outputs": [
    {
     "name": "stderr",
     "output_type": "stream",
     "text": [
      ".vector_cache\\wiki.simple.vec: 293MB [05:16, 992kB/s]                                \n",
      "  0%|          | 0/111052 [00:00<?, ?it/s]Skipping token 111051 with 1-dimensional vector ['300']; likely a header\n",
      "100%|██████████| 111052/111052 [00:27<00:00, 4002.73it/s]\n"
     ]
    }
   ],
   "source": [
    "import torchtext\n",
    "fasttext = torchtext.vocab.FastText(language='simple')"
   ]
  },
  {
   "cell_type": "code",
   "execution_count": 35,
   "metadata": {},
   "outputs": [
    {
     "data": {
      "text/plain": [
       "tensor([-0.1162, -0.3368,  0.0646, -0.1196,  0.2792, -0.1027, -0.0441,  0.1187,\n",
       "         0.1974,  0.3104, -0.6503,  0.2812,  0.1546,  0.0414, -0.0756, -0.5767,\n",
       "         0.0940,  0.0120, -0.2069, -0.1647,  0.1561,  0.2677,  0.0166, -0.1659,\n",
       "        -0.2500, -0.1366,  0.0829, -0.3483, -0.2668,  0.0247, -0.1616, -0.1894,\n",
       "        -0.0059,  0.8015,  0.0005, -0.1111, -0.2273,  0.2643,  0.3206, -0.0462,\n",
       "        -0.3165,  0.4295, -0.0294,  0.1510, -0.1353, -0.1552, -0.0141,  0.0314,\n",
       "         0.1614,  0.1807,  0.1207, -0.0187, -0.3111,  0.0923, -0.3743, -0.0012,\n",
       "         0.1224,  0.0746,  0.0089,  0.2788,  0.0287,  0.1806, -0.1615,  0.0340,\n",
       "        -0.0070, -0.1922, -0.4078,  0.0999,  0.1594,  0.3372,  0.1215,  0.5370,\n",
       "        -0.1502,  0.2673,  0.0122, -0.1455,  0.1890,  0.0073,  0.3634, -0.0266,\n",
       "        -0.3836,  0.2223,  0.2919, -0.5617, -0.1203,  0.3049, -0.1361, -0.5936,\n",
       "        -0.2371, -0.4368, -0.1942,  0.2925, -0.6426, -0.0988,  0.0325,  0.0987,\n",
       "        -0.6028,  0.2428,  0.0724,  0.0197,  0.0732, -0.1299, -0.2505,  0.1434,\n",
       "        -0.6063,  0.0763,  0.3580, -0.0075, -0.3160, -0.2189, -0.1876, -0.2995,\n",
       "        -0.2104, -0.2047, -0.1969, -0.2882,  0.1826,  0.6231, -0.4196, -0.1902,\n",
       "        -0.0671, -0.0104, -0.0122, -0.0650, -0.4608, -0.0422,  0.2847, -0.0610,\n",
       "        -0.7390,  0.2426, -0.0371, -0.2308, -0.1108,  0.0722,  0.1025,  0.1056,\n",
       "         0.0687, -0.3451,  0.0216, -0.2826, -0.2479,  0.2177,  0.0190, -0.1298,\n",
       "         0.0364, -0.2286,  0.2472, -0.0518,  0.2289, -0.0788,  0.1067,  0.0526,\n",
       "         0.2127,  0.1786,  0.1333,  0.4340, -0.0423,  0.0574, -0.1801,  0.3306,\n",
       "         0.0123,  0.0201,  0.0114,  0.2201, -0.5568, -0.2214,  0.0873, -0.5560,\n",
       "         0.1669, -0.3463, -0.2657,  0.1520,  0.2133, -0.0992,  0.3108,  0.0488,\n",
       "         0.1738, -0.2327,  0.0563, -0.0937,  0.0035, -0.0344, -0.0881,  0.1176,\n",
       "        -0.0912, -0.0826, -0.1305,  0.1171, -0.0400,  0.2241,  0.1030, -0.0432,\n",
       "         0.0416, -0.3476, -0.1668,  0.1051, -0.1996,  0.3634, -0.3663, -0.0087,\n",
       "         0.2857, -0.1495, -0.1829,  0.3554, -0.0577,  0.1245,  0.1486, -0.1195,\n",
       "        -0.2030, -0.1504,  0.0644, -0.0106,  0.1657, -0.0795, -0.1625, -0.1179,\n",
       "        -0.2607, -0.2355, -0.0720,  0.1124,  0.2630,  0.3154, -0.0592,  0.3005,\n",
       "         0.3144, -0.1963, -0.2765,  0.1514,  0.0956, -0.2945, -0.1555,  0.2705,\n",
       "        -0.1691,  0.0441, -0.3969,  0.0870,  0.0924, -0.1099, -0.1238, -0.5342,\n",
       "         0.4596, -0.2110, -0.2324, -0.1707,  0.3330, -0.0398,  0.0642, -0.2703,\n",
       "        -0.2910, -0.0383, -0.1462,  0.3621, -0.0479,  0.1596, -0.3941, -0.2982,\n",
       "        -0.2851,  0.1585, -0.0680,  0.7397, -0.2708,  0.2284,  0.0149,  0.7133,\n",
       "         0.1690,  0.0110,  0.2153,  0.1994, -0.0172,  0.1086,  0.1771,  0.2256,\n",
       "         0.2612, -0.2893, -0.1308, -0.4104,  0.2244,  0.2209,  0.1730, -0.4694,\n",
       "        -0.0366, -0.1784, -0.0586, -0.3504,  0.2357,  0.0970,  0.0066,  0.4246,\n",
       "        -0.2443, -0.0194, -0.0053,  0.1407,  0.3591,  0.2307,  0.4548,  0.3185,\n",
       "        -0.1213, -0.2396, -0.2519, -0.4972])"
      ]
     },
     "execution_count": 35,
     "metadata": {},
     "output_type": "execute_result"
    }
   ],
   "source": [
    "fasttext['love']"
   ]
  },
  {
   "cell_type": "code",
   "execution_count": 36,
   "metadata": {},
   "outputs": [
    {
     "data": {
      "text/plain": [
       "torch.Size([111051, 300])"
      ]
     },
     "execution_count": 36,
     "metadata": {},
     "output_type": "execute_result"
    }
   ],
   "source": [
    "fasttext.vectors.size()"
   ]
  },
  {
   "cell_type": "markdown",
   "metadata": {},
   "source": [
    "!pip install matplotlib"
   ]
  },
  {
   "cell_type": "markdown",
   "metadata": {},
   "source": [
    "!pip install scikit-learn"
   ]
  },
  {
   "cell_type": "code",
   "execution_count": 41,
   "metadata": {},
   "outputs": [
    {
     "data": {
      "image/png": "[encoded data removed]",
      "text/plain": [
       "<Figure size 1080x1080 with 1 Axes>"
      ]
     },
     "metadata": {
      "needs_background": "light"
     },
     "output_type": "display_data"
    }
   ],
   "source": [
    "import matplotlib.pyplot as plt\n",
    "import numpy as np\n",
    "from sklearn.decomposition import PCA\n",
    "\n",
    "def pca(vocabulary, embeddings, n_points):\n",
    "    np.random.seed(0)\n",
    "\n",
    "    frequent = vocabulary[vocabulary < 2000].sort_values(ascending=False).index[:n_points]\n",
    "    indices = [vocabulary.index.get_loc(word) for word in frequent]\n",
    "    \n",
    "    pca = PCA(n_components=2, random_state=0)\n",
    "    with torch.no_grad():\n",
    "        results = pca.fit_transform(embeddings[indices])\n",
    "    \n",
    "    plt.figure(figsize=(15, 15))\n",
    "    for i in range(n_points):\n",
    "        query = vocabulary.index[indices[i]]\n",
    "        x, y = results[i]\n",
    "        plt.scatter(x, y, label=query)\n",
    "        \n",
    "        # Prevent label overlapping by applying random offsets.\n",
    "        offset_x = np.random.randint(-35, 12) / 2000\n",
    "        offset_y = np.random.randint(-30, 15) / 2000\n",
    "        \n",
    "        plt.annotate(query, (x + offset_x, y + offset_y))\n",
    "        \n",
    "    plt.show()\n",
    "    \n",
    "pca(vocabulary, w_main, 100)"
   ]
  },
  {
   "cell_type": "code",
   "execution_count": 42,
   "metadata": {},
   "outputs": [
    {
     "data": {
      "image/png": "[encoded data removed]",
      "text/plain": [
       "<Figure size 1080x1080 with 1 Axes>"
      ]
     },
     "metadata": {
      "needs_background": "light"
     },
     "output_type": "display_data"
    }
   ],
   "source": [
    "import matplotlib.pyplot as plt\n",
    "import numpy as np\n",
    "from sklearn.manifold import TSNE\n",
    "    \n",
    "def tsne(vocabulary, embeddings, n_points):\n",
    "    np.random.seed(0)\n",
    "\n",
    "    frequent = vocabulary[vocabulary < 2000].sort_values(ascending=False).index[:n_points]\n",
    "    indices = [vocabulary.index.get_loc(word) for word in frequent]\n",
    "\n",
    "    tsne = TSNE(n_components=2, random_state=0)\n",
    "    with torch.no_grad():\n",
    "        results = tsne.fit_transform(embeddings[indices])\n",
    "    \n",
    "    plt.figure(figsize=(15, 15))\n",
    "    for i in range(n_points):\n",
    "        query = vocabulary.index[indices[i]]\n",
    "        x, y = results[i]\n",
    "        plt.scatter(x, y, label=query)\n",
    "        \n",
    "        # Prevent label overlapping by applying random offsets.\n",
    "        offset_x = np.random.randint(-35, 12) / 100\n",
    "        offset_y = np.random.randint(-30, 15) / 100\n",
    "        \n",
    "        plt.annotate(query, (x + offset_x, y + offset_y))\n",
    "        \n",
    "    plt.show()\n",
    "\n",
    "tsne(vocabulary, w_main, 200)"
   ]
  },
  {
   "cell_type": "code",
   "execution_count": null,
   "metadata": {},
   "outputs": [],
   "source": []
  }
 ],
 "metadata": {
  "kernelspec": {
   "display_name": "Pytorch",
   "language": "python",
   "name": "pytorch-nlp"
  },
  "language_info": {
   "codemirror_mode": {
    "name": "ipython",
    "version": 3
   },
   "file_extension": ".py",
   "mimetype": "text/x-python",
   "name": "python",
   "nbconvert_exporter": "python",
   "pygments_lexer": "ipython3",
   "version": "3.6.6"
  }
 },
 "nbformat": 4,
 "nbformat_minor": 2
}
