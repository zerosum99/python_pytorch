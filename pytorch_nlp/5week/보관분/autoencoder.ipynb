{
 "cells": [
  {
   "cell_type": "markdown",
   "metadata": {},
   "source": [
    "# Autoencoders"
   ]
  },
  {
   "cell_type": "markdown",
   "metadata": {},
   "source": [
    "Welcome our treasured friends, PyTorch and TorchVision."
   ]
  },
  {
   "cell_type": "code",
   "execution_count": 1,
   "metadata": {},
   "outputs": [],
   "source": [
    "import torch\n",
    "import torchvision"
   ]
  },
  {
   "cell_type": "markdown",
   "metadata": {},
   "source": [
    "As we will be using image data, we need to define some preprocessing."
   ]
  },
  {
   "cell_type": "code",
   "execution_count": 2,
   "metadata": {},
   "outputs": [],
   "source": [
    "transform = torchvision.transforms.Compose([\n",
    "    torchvision.transforms.ToTensor(),\n",
    "    torchvision.transforms.Normalize((0.5, ), (0.5, )),\n",
    "])"
   ]
  },
  {
   "cell_type": "markdown",
   "metadata": {},
   "source": [
    "We will be using the MNIST dataset today."
   ]
  },
  {
   "cell_type": "code",
   "execution_count": 3,
   "metadata": {},
   "outputs": [],
   "source": [
    "data = torchvision.datasets.MNIST(\n",
    "    './',\n",
    "    train=True,\n",
    "    download=True,\n",
    "    transform=transform)"
   ]
  },
  {
   "cell_type": "markdown",
   "metadata": {},
   "source": [
    "Let's define a function to make Jupyter Notebook display our data."
   ]
  },
  {
   "cell_type": "code",
   "execution_count": 4,
   "metadata": {},
   "outputs": [],
   "source": [
    "from matplotlib.pyplot import imshow\n",
    "\n",
    "def show_images(images):\n",
    "    images = images.cpu()\n",
    "    \n",
    "    # Convert grayscale image into RGB channels.\n",
    "    images = images.expand(-1, 3, -1, -1)\n",
    "    \n",
    "    # Make a grid view image of this batch.\n",
    "    images = torchvision.utils.make_grid(images)\n",
    "    \n",
    "    # Unnormalize.\n",
    "    images = images / 2 + 0.5\n",
    "    \n",
    "    # Convert PyTorch tensor to a NumPy array.\n",
    "    images = images.numpy().transpose([1, 2, 0])\n",
    "    \n",
    "    # Display images.\n",
    "    imshow(images)"
   ]
  },
  {
   "cell_type": "markdown",
   "metadata": {},
   "source": [
    "Let's see how the data looks like!"
   ]
  },
  {
   "cell_type": "code",
   "execution_count": 5,
   "metadata": {},
   "outputs": [
    {
     "data": {
      "image/png": "[encoded data removed]",
      "text/plain": [
       "<Figure size 432x288 with 1 Axes>"
      ]
     },
     "metadata": {},
     "output_type": "display_data"
    }
   ],
   "source": [
    "sample_batch = iter(torch.utils.data.DataLoader(\n",
    "    data, shuffle=False, batch_size=8)).next()[0]\n",
    "show_images(sample_batch)"
   ]
  },
  {
   "cell_type": "markdown",
   "metadata": {},
   "source": [
    "Here's some idea of what we'll be building:\n",
    "![](http://curiousily.com/assets/12.what_to_do_when_data_is_missing_part_ii_files/mushroom_encoder.png)"
   ]
  },
  {
   "cell_type": "markdown",
   "metadata": {},
   "source": [
    "Let's define our encoder and decoder modules separately. Simple models can be created with `torch.nn.Sequential`, which saves the effort of defining a class."
   ]
  },
  {
   "cell_type": "code",
   "execution_count": 6,
   "metadata": {},
   "outputs": [],
   "source": [
    "encoder = torch.nn.Sequential(\n",
    "    torch.nn.Conv2d(1, 16, 3, stride=3, padding=1), # (16, 10, 10)\n",
    "    torch.nn.ReLU(),\n",
    "    torch.nn.MaxPool2d(2, stride=2), # (16, 5, 5)\n",
    "    torch.nn.Conv2d(16, 8, 3, stride=2, padding=1), # (8, 3, 3)\n",
    "    torch.nn.ReLU(),\n",
    "    torch.nn.MaxPool2d(2, stride=1) # (8, 2, 2)\n",
    ")\n",
    "\n",
    "decoder = torch.nn.Sequential(\n",
    "    torch.nn.ConvTranspose2d(8, 16, 3, stride=2), # (16, 5, 5)\n",
    "    torch.nn.ReLU(),\n",
    "    torch.nn.ConvTranspose2d(16, 8, 5, stride=3, padding=1), # (8, 15, 15)\n",
    "    torch.nn.ReLU(),\n",
    "    torch.nn.ConvTranspose2d(8, 1, 2, stride=2, padding=1), # (1, 28, 28)\n",
    "    torch.nn.Tanh()\n",
    ")"
   ]
  },
  {
   "cell_type": "markdown",
   "metadata": {},
   "source": [
    "Don't forget the loss function and the optimizer. As we have two models, we need to let the optimizer know both."
   ]
  },
  {
   "cell_type": "code",
   "execution_count": 7,
   "metadata": {},
   "outputs": [],
   "source": [
    "criterion = torch.nn.MSELoss()\n",
    "\n",
    "from itertools import chain\n",
    "parameters = chain(encoder.parameters(), decoder.parameters())\n",
    "optimizer = torch.optim.Adam(parameters, lr=1e-3, weight_decay=1e-15)"
   ]
  },
  {
   "cell_type": "markdown",
   "metadata": {},
   "source": [
    "Here's some speedup for the lucky ones who have a GPU:"
   ]
  },
  {
   "cell_type": "code",
   "execution_count": 8,
   "metadata": {},
   "outputs": [
    {
     "name": "stdout",
     "output_type": "stream",
     "text": [
      "Using CUDA\n"
     ]
    }
   ],
   "source": [
    "GPU_ID = 2\n",
    "\n",
    "if torch.cuda.is_available():\n",
    "    print('Using CUDA')\n",
    "    sample_batch = sample_batch.cuda(device=GPU_ID)\n",
    "    encoder = encoder.cuda(device=GPU_ID)\n",
    "    decoder = decoder.cuda(device=GPU_ID)"
   ]
  },
  {
   "cell_type": "markdown",
   "metadata": {},
   "source": [
    "Let's batchfiy our data now."
   ]
  },
  {
   "cell_type": "code",
   "execution_count": 9,
   "metadata": {},
   "outputs": [],
   "source": [
    "BATCH_SIZE = 512\n",
    "NUM_WORKERS = 2\n",
    "batches = torch.utils.data.DataLoader(\n",
    "    dataset=data,\n",
    "    shuffle=True,\n",
    "    batch_size=BATCH_SIZE,\n",
    "    num_workers=NUM_WORKERS,\n",
    "     drop_last=True)"
   ]
  },
  {
   "cell_type": "markdown",
   "metadata": {},
   "source": [
    "Finally, let's get training!"
   ]
  },
  {
   "cell_type": "code",
   "execution_count": 17,
   "metadata": {},
   "outputs": [
    {
     "name": "stdout",
     "output_type": "stream",
     "text": [
      "epoch 0: loss 0.138\n",
      "epoch 1: loss 0.127\n",
      "epoch 2: loss 0.125\n",
      "epoch 3: loss 0.123\n",
      "epoch 4: loss 0.122\n",
      "epoch 5: loss 0.121\n",
      "epoch 6: loss 0.120\n",
      "epoch 7: loss 0.120\n",
      "epoch 8: loss 0.119\n",
      "epoch 9: loss 0.119\n",
      "epoch 10: loss 0.118\n",
      "epoch 11: loss 0.118\n",
      "epoch 12: loss 0.118\n",
      "epoch 13: loss 0.117\n",
      "epoch 14: loss 0.117\n",
      "epoch 15: loss 0.117\n",
      "epoch 16: loss 0.116\n",
      "epoch 17: loss 0.116\n",
      "epoch 18: loss 0.116\n",
      "epoch 19: loss 0.116\n",
      "epoch 20: loss 0.116\n",
      "epoch 21: loss 0.116\n",
      "epoch 22: loss 0.115\n",
      "epoch 23: loss 0.115\n",
      "epoch 24: loss 0.115\n",
      "epoch 25: loss 0.115\n",
      "epoch 26: loss 0.115\n",
      "epoch 27: loss 0.115\n",
      "epoch 28: loss 0.115\n",
      "epoch 29: loss 0.114\n",
      "epoch 30: loss 0.114\n"
     ]
    },
    {
     "name": "stderr",
     "output_type": "stream",
     "text": [
      "Process Process-448:\n",
      "  File \"/opt/conda/envs/pytorch-v0.4.1/lib/python3.7/site-packages/torch/utils/data/dataloader.py\", line 106, in _worker_loop\n",
      "    samples = collate_fn([dataset[i] for i in batch_indices])\n",
      "Process Process-447:\n",
      "Traceback (most recent call last):\n",
      "Traceback (most recent call last):\n",
      "  File \"/opt/conda/envs/pytorch-v0.4.1/lib/python3.7/multiprocessing/process.py\", line 297, in _bootstrap\n",
      "    self.run()\n",
      "  File \"/opt/conda/envs/pytorch-v0.4.1/lib/python3.7/multiprocessing/process.py\", line 297, in _bootstrap\n",
      "    self.run()\n",
      "  File \"/opt/conda/envs/pytorch-v0.4.1/lib/python3.7/multiprocessing/process.py\", line 99, in run\n",
      "    self._target(*self._args, **self._kwargs)\n",
      "  File \"/opt/conda/envs/pytorch-v0.4.1/lib/python3.7/site-packages/torch/utils/data/dataloader.py\", line 106, in <listcomp>\n",
      "    samples = collate_fn([dataset[i] for i in batch_indices])\n",
      "  File \"/opt/conda/envs/pytorch-v0.4.1/lib/python3.7/site-packages/torchvision-0.2.1-py3.7.egg/torchvision/datasets/mnist.py\", line 77, in __getitem__\n",
      "    img = self.transform(img)\n",
      "  File \"/opt/conda/envs/pytorch-v0.4.1/lib/python3.7/site-packages/torchvision-0.2.1-py3.7.egg/torchvision/transforms/transforms.py\", line 49, in __call__\n",
      "    img = t(img)\n",
      "  File \"/opt/conda/envs/pytorch-v0.4.1/lib/python3.7/multiprocessing/process.py\", line 99, in run\n",
      "    self._target(*self._args, **self._kwargs)\n",
      "  File \"/opt/conda/envs/pytorch-v0.4.1/lib/python3.7/site-packages/torchvision-0.2.1-py3.7.egg/torchvision/transforms/transforms.py\", line 76, in __call__\n",
      "    return F.to_tensor(pic)\n",
      "  File \"/opt/conda/envs/pytorch-v0.4.1/lib/python3.7/site-packages/torch/utils/data/dataloader.py\", line 106, in _worker_loop\n",
      "    samples = collate_fn([dataset[i] for i in batch_indices])\n",
      "  File \"/opt/conda/envs/pytorch-v0.4.1/lib/python3.7/site-packages/torchvision-0.2.1-py3.7.egg/torchvision/transforms/functional.py\", line 81, in to_tensor\n",
      "    img = img.transpose(0, 1).transpose(0, 2).contiguous()\n",
      "KeyboardInterrupt\n",
      "  File \"/opt/conda/envs/pytorch-v0.4.1/lib/python3.7/site-packages/torch/utils/data/dataloader.py\", line 106, in <listcomp>\n",
      "    samples = collate_fn([dataset[i] for i in batch_indices])\n",
      "  File \"/opt/conda/envs/pytorch-v0.4.1/lib/python3.7/site-packages/torchvision-0.2.1-py3.7.egg/torchvision/datasets/mnist.py\", line 77, in __getitem__\n",
      "    img = self.transform(img)\n",
      "  File \"/opt/conda/envs/pytorch-v0.4.1/lib/python3.7/site-packages/torchvision-0.2.1-py3.7.egg/torchvision/transforms/transforms.py\", line 49, in __call__\n",
      "    img = t(img)\n",
      "  File \"/opt/conda/envs/pytorch-v0.4.1/lib/python3.7/site-packages/torchvision-0.2.1-py3.7.egg/torchvision/transforms/transforms.py\", line 143, in __call__\n",
      "    return F.normalize(tensor, self.mean, self.std)\n",
      "  File \"/opt/conda/envs/pytorch-v0.4.1/lib/python3.7/site-packages/torchvision-0.2.1-py3.7.egg/torchvision/transforms/functional.py\", line 168, in normalize\n",
      "    t.sub_(m).div_(s)\n",
      "KeyboardInterrupt\n"
     ]
    },
    {
     "ename": "KeyboardInterrupt",
     "evalue": "",
     "output_type": "error",
     "traceback": [
      "\u001b[0;31m---------------------------------------------------------------------------\u001b[0m",
      "\u001b[0;31mKeyboardInterrupt\u001b[0m                         Traceback (most recent call last)",
      "\u001b[0;32m<ipython-input-17-3efa36bc8e29>\u001b[0m in \u001b[0;36m<module>\u001b[0;34m()\u001b[0m\n\u001b[1;32m     15\u001b[0m             \u001b[0mloss\u001b[0m\u001b[0;34m.\u001b[0m\u001b[0mbackward\u001b[0m\u001b[0;34m(\u001b[0m\u001b[0;34m)\u001b[0m\u001b[0;34m\u001b[0m\u001b[0m\n\u001b[1;32m     16\u001b[0m             \u001b[0moptimizer\u001b[0m\u001b[0;34m.\u001b[0m\u001b[0mstep\u001b[0m\u001b[0;34m(\u001b[0m\u001b[0;34m)\u001b[0m\u001b[0;34m\u001b[0m\u001b[0m\n\u001b[0;32m---> 17\u001b[0;31m             \u001b[0mepoch_loss\u001b[0m \u001b[0;34m+=\u001b[0m \u001b[0mfloat\u001b[0m\u001b[0;34m(\u001b[0m\u001b[0mloss\u001b[0m\u001b[0;34m)\u001b[0m\u001b[0;34m\u001b[0m\u001b[0m\n\u001b[0m\u001b[1;32m     18\u001b[0m \u001b[0;34m\u001b[0m\u001b[0m\n\u001b[1;32m     19\u001b[0m     \u001b[0mprint\u001b[0m\u001b[0;34m(\u001b[0m\u001b[0;34mf'epoch {epoch}: loss {epoch_loss/len(batches):.3f}'\u001b[0m\u001b[0;34m)\u001b[0m\u001b[0;34m\u001b[0m\u001b[0m\n",
      "\u001b[0;31mKeyboardInterrupt\u001b[0m: "
     ]
    }
   ],
   "source": [
    "NUM_EPOCHS = 128\n",
    "\n",
    "for epoch in range(NUM_EPOCHS):\n",
    "    epoch_loss = 0\n",
    "    with torch.set_grad_enabled(True):\n",
    "        for image, target in batches:\n",
    "            if torch.cuda.is_available():\n",
    "                image = image.cuda(device=GPU_ID)\n",
    "\n",
    "            code = encoder(image)\n",
    "            reconstruction = decoder(code)\n",
    "            loss = criterion(reconstruction, image)\n",
    "            \n",
    "            optimizer.zero_grad()\n",
    "            loss.backward()\n",
    "            optimizer.step()\n",
    "            epoch_loss += float(loss)\n",
    "            \n",
    "    print(f'epoch {epoch}: loss {epoch_loss/len(batches):.3f}')"
   ]
  },
  {
   "cell_type": "markdown",
   "metadata": {},
   "source": [
    "Let's see the trained results. Here are the sample batch that we extracted earlier:"
   ]
  },
  {
   "cell_type": "code",
   "execution_count": 18,
   "metadata": {},
   "outputs": [
    {
     "data": {
      "image/png": "[encoded data removed]",
      "text/plain": [
       "<Figure size 432x288 with 1 Axes>"
      ]
     },
     "metadata": {},
     "output_type": "display_data"
    }
   ],
   "source": [
    "show_images(sample_batch)"
   ]
  },
  {
   "cell_type": "markdown",
   "metadata": {},
   "source": [
    "And here are our autoencoder's reconstruction of them:"
   ]
  },
  {
   "cell_type": "code",
   "execution_count": 19,
   "metadata": {},
   "outputs": [
    {
     "data": {
      "image/png": "[encoded data removed]",
      "text/plain": [
       "<Figure size 432x288 with 1 Axes>"
      ]
     },
     "metadata": {},
     "output_type": "display_data"
    }
   ],
   "source": [
    "with torch.no_grad():\n",
    "    show_images(decoder(encoder(sample_batch)))"
   ]
  },
  {
   "cell_type": "markdown",
   "metadata": {},
   "source": [
    "## Denoising autoencoder\n",
    "\n",
    "Autoencoders can also be used to denoise images.\n",
    "\n",
    "![](https://cdn-images-1.medium.com/max/1040/1*SxwRp9i23OM0Up4sEze1QQ@2x.png)\n",
    "\n",
    "First, we need to define the noise creating function:"
   ]
  },
  {
   "cell_type": "code",
   "execution_count": 23,
   "metadata": {},
   "outputs": [
    {
     "data": {
      "image/png": "[encoded data removed]",
      "text/plain": [
       "<Figure size 432x288 with 1 Axes>"
      ]
     },
     "metadata": {},
     "output_type": "display_data"
    }
   ],
   "source": [
    "def add_noise(x):\n",
    "    noise = torch.FloatTensor(x.size()).normal_(0, 1)\n",
    "    if torch.cuda.is_available():\n",
    "        noise = noise.cuda(device=GPU_ID)\n",
    "    return (x + noise).clamp_(-1, 1)\n",
    "\n",
    "\n",
    "noisy_sample = add_noise(sample_batch)\n",
    "show_images(noisy_sample)"
   ]
  },
  {
   "cell_type": "markdown",
   "metadata": {},
   "source": [
    "Let's start training!"
   ]
  },
  {
   "cell_type": "code",
   "execution_count": null,
   "metadata": {},
   "outputs": [],
   "source": [
    "NUM_EPOCHS = 64\n",
    "for epoch in range(NUM_EPOCHS):\n",
    "    epoch_loss = 0\n",
    "    with torch.set_grad_enabled(True):\n",
    "        for image, target in batches:\n",
    "            if torch.cuda.is_available():\n",
    "                image = image.cuda(device=GPU_ID)\n",
    "            \n",
    "            noisy_image = add_noise(image)\n",
    "\n",
    "            code = encoder(noisy_image)\n",
    "            reconstruction = decoder(code)\n",
    "            loss = criterion(reconstruction, image)\n",
    "            \n",
    "            optimizer.zero_grad()\n",
    "            loss.backward()\n",
    "            optimizer.step()\n",
    "            epoch_loss += float(loss)\n",
    "            \n",
    "    print(f'epoch {epoch}: loss {epoch_loss/len(batches):.3f}')"
   ]
  },
  {
   "cell_type": "markdown",
   "metadata": {},
   "source": [
    "Our noisy inputs were:"
   ]
  },
  {
   "cell_type": "code",
   "execution_count": 25,
   "metadata": {},
   "outputs": [
    {
     "data": {
      "image/png": "[encoded data removed]",
      "text/plain": [
       "<Figure size 432x288 with 1 Axes>"
      ]
     },
     "metadata": {},
     "output_type": "display_data"
    }
   ],
   "source": [
    " show_images(noisy_sample)"
   ]
  },
  {
   "cell_type": "markdown",
   "metadata": {},
   "source": [
    "The autoencoder have made them a bit better:"
   ]
  },
  {
   "cell_type": "code",
   "execution_count": 26,
   "metadata": {},
   "outputs": [
    {
     "data": {
      "image/png": "[encoded data removed]",
      "text/plain": [
       "<Figure size 432x288 with 1 Axes>"
      ]
     },
     "metadata": {},
     "output_type": "display_data"
    }
   ],
   "source": [
    "with torch.no_grad():\n",
    "    show_images(decoder(encoder(noisy_sample)))"
   ]
  },
  {
   "cell_type": "code",
   "execution_count": null,
   "metadata": {},
   "outputs": [],
   "source": []
  }
 ],
 "metadata": {
  "kernelspec": {
   "display_name": "PyTorch",
   "language": "python",
   "name": "pytorch-nlp"
  },
  "language_info": {
   "codemirror_mode": {
    "name": "ipython",
    "version": 3
   },
   "file_extension": ".py",
   "mimetype": "text/x-python",
   "name": "python",
   "nbconvert_exporter": "python",
   "pygments_lexer": "ipython3",
   "version": "3.6.6"
  }
 },
 "nbformat": 4,
 "nbformat_minor": 2
}
