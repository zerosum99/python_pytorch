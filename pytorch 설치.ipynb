{
 "cells": [
  {
   "cell_type": "markdown",
   "metadata": {},
   "source": [
    "## Install Anaconda.\n",
    "        https://conda.io/ > Next > Installation > Regular installation > Choose your OS"
   ]
  },
  {
   "cell_type": "markdown",
   "metadata": {},
   "source": [
    "## Open Anaconda console, and create a new virtual environment."
   ]
  },
  {
   "cell_type": "markdown",
   "metadata": {},
   "source": [
    "conda create -y --name pytorchnlp python=3.6 numpy pyyaml scipy ipython mkl tqdm"
   ]
  },
  {
   "cell_type": "markdown",
   "metadata": {},
   "source": [
    "## Install PyTorch on the new environment (this may take a while)."
   ]
  },
  {
   "cell_type": "markdown",
   "metadata": {},
   "source": [
    "####  !conda install --name pytorch-nlp pytorch  -c pytorch"
   ]
  },
  {
   "cell_type": "markdown",
   "metadata": {},
   "source": [
    "### conda 에서 갱신시 에러가 발생하면 pip로 갱신해도 됨 "
   ]
  },
  {
   "cell_type": "code",
   "execution_count": 9,
   "metadata": {},
   "outputs": [
    {
     "name": "stdout",
     "output_type": "stream",
     "text": [
      "Requirement already up-to-date: torchvision in c:\\users\\06411\\appdata\\local\\continuum\\anaconda3\\envs\\pytorch-nlp\\lib\\site-packages (0.2.1)\n",
      "Requirement already satisfied, skipping upgrade: numpy in c:\\users\\06411\\appdata\\local\\continuum\\anaconda3\\envs\\pytorch-nlp\\lib\\site-packages (from torchvision) (1.15.1)\n",
      "Requirement already satisfied, skipping upgrade: six in c:\\users\\06411\\appdata\\local\\continuum\\anaconda3\\envs\\pytorch-nlp\\lib\\site-packages (from torchvision) (1.11.0)\n",
      "Requirement already satisfied, skipping upgrade: pillow>=4.1.1 in c:\\users\\06411\\appdata\\local\\continuum\\anaconda3\\envs\\pytorch-nlp\\lib\\site-packages (from torchvision) (5.2.0)\n",
      "Requirement already satisfied, skipping upgrade: torch in c:\\users\\06411\\appdata\\local\\continuum\\anaconda3\\envs\\pytorch-nlp\\lib\\site-packages (from torchvision) (0.4.1)\n"
     ]
    }
   ],
   "source": [
    "!pip install torchvision --upgrade"
   ]
  },
  {
   "cell_type": "code",
   "execution_count": 5,
   "metadata": {},
   "outputs": [
    {
     "name": "stdout",
     "output_type": "stream",
     "text": [
      "Requirement already up-to-date: twisted in c:\\users\\06411\\appdata\\local\\continuum\\anaconda3\\envs\\pytorch-nlp\\lib\\site-packages (18.7.0)\n",
      "Requirement not upgraded as not directly required: zope.interface>=4.4.2 in c:\\users\\06411\\appdata\\local\\continuum\\anaconda3\\envs\\pytorch-nlp\\lib\\site-packages (from twisted) (4.5.0)\n",
      "Requirement not upgraded as not directly required: constantly>=15.1 in c:\\users\\06411\\appdata\\local\\continuum\\anaconda3\\envs\\pytorch-nlp\\lib\\site-packages (from twisted) (15.1.0)\n",
      "Requirement not upgraded as not directly required: incremental>=16.10.1 in c:\\users\\06411\\appdata\\local\\continuum\\anaconda3\\envs\\pytorch-nlp\\lib\\site-packages (from twisted) (17.5.0)\n",
      "Requirement not upgraded as not directly required: Automat>=0.3.0 in c:\\users\\06411\\appdata\\local\\continuum\\anaconda3\\envs\\pytorch-nlp\\lib\\site-packages (from twisted) (0.7.0)\n",
      "Requirement not upgraded as not directly required: hyperlink>=17.1.1 in c:\\users\\06411\\appdata\\local\\continuum\\anaconda3\\envs\\pytorch-nlp\\lib\\site-packages (from twisted) (18.0.0)\n",
      "Collecting PyHamcrest>=1.9.0 (from twisted)\n",
      "  Downloading https://files.pythonhosted.org/packages/9a/d5/d37fd731b7d0e91afcc84577edeccf4638b4f9b82f5ffe2f8b62e2ddc609/PyHamcrest-1.9.0-py2.py3-none-any.whl (52kB)\n",
      "Requirement not upgraded as not directly required: attrs>=17.4.0 in c:\\users\\06411\\appdata\\local\\continuum\\anaconda3\\envs\\pytorch-nlp\\lib\\site-packages (from twisted) (18.2.0)\n",
      "Requirement not upgraded as not directly required: setuptools in c:\\users\\06411\\appdata\\local\\continuum\\anaconda3\\envs\\pytorch-nlp\\lib\\site-packages (from zope.interface>=4.4.2->twisted) (40.2.0)\n",
      "Requirement not upgraded as not directly required: six in c:\\users\\06411\\appdata\\local\\continuum\\anaconda3\\envs\\pytorch-nlp\\lib\\site-packages (from Automat>=0.3.0->twisted) (1.11.0)\n",
      "Requirement not upgraded as not directly required: idna>=2.5 in c:\\users\\06411\\appdata\\local\\continuum\\anaconda3\\envs\\pytorch-nlp\\lib\\site-packages (from hyperlink>=17.1.1->twisted) (2.7)\n",
      "Installing collected packages: PyHamcrest\n",
      "Successfully installed PyHamcrest-1.9.0\n"
     ]
    },
    {
     "name": "stderr",
     "output_type": "stream",
     "text": [
      "mkl-random 1.0.1 requires cython, which is not installed.\n",
      "mkl-fft 1.0.4 requires cython, which is not installed.\n",
      "You are using pip version 10.0.1, however version 18.0 is available.\n",
      "You should consider upgrading via the 'python -m pip install --upgrade pip' command.\n"
     ]
    }
   ],
   "source": [
    "!pip install twisted --upgrade"
   ]
  },
  {
   "cell_type": "code",
   "execution_count": 6,
   "metadata": {},
   "outputs": [
    {
     "name": "stdout",
     "output_type": "stream",
     "text": [
      "Requirement already up-to-date: mkl-random in c:\\users\\06411\\appdata\\local\\continuum\\anaconda3\\envs\\pytorch-nlp\\lib\\site-packages (1.0.1)\n",
      "Requirement not upgraded as not directly required: numpy in c:\\users\\06411\\appdata\\local\\continuum\\anaconda3\\envs\\pytorch-nlp\\lib\\site-packages (from mkl-random) (1.15.1)\n",
      "Collecting cython (from mkl-random)\n",
      "  Downloading https://files.pythonhosted.org/packages/b3/b1/50ae389b0cf0f63e0e988df2162593e1dbfd1807c92a5d90c03c8c249c3f/Cython-0.28.5-cp36-cp36m-win_amd64.whl (2.5MB)\n",
      "Installing collected packages: cython\n",
      "Successfully installed cython-0.28.5\n"
     ]
    },
    {
     "name": "stderr",
     "output_type": "stream",
     "text": [
      "You are using pip version 10.0.1, however version 18.0 is available.\n",
      "You should consider upgrading via the 'python -m pip install --upgrade pip' command.\n"
     ]
    }
   ],
   "source": [
    "!pip install mkl-random --upgrade"
   ]
  },
  {
   "cell_type": "code",
   "execution_count": 8,
   "metadata": {},
   "outputs": [
    {
     "name": "stdout",
     "output_type": "stream",
     "text": [
      "Requirement already up-to-date: mkl-fft in c:\\users\\06411\\appdata\\local\\continuum\\anaconda3\\envs\\pytorch-nlp\\lib\\site-packages (1.0.4)\n",
      "Requirement already satisfied, skipping upgrade: numpy in c:\\users\\06411\\appdata\\local\\continuum\\anaconda3\\envs\\pytorch-nlp\\lib\\site-packages (from mkl-fft) (1.15.1)\n",
      "Requirement already satisfied, skipping upgrade: cython in c:\\users\\06411\\appdata\\local\\continuum\\anaconda3\\envs\\pytorch-nlp\\lib\\site-packages (from mkl-fft) (0.28.5)\n"
     ]
    }
   ],
   "source": [
    "!pip install mkl-fft --upgrade"
   ]
  },
  {
   "cell_type": "code",
   "execution_count": 7,
   "metadata": {},
   "outputs": [
    {
     "name": "stdout",
     "output_type": "stream",
     "text": [
      "Collecting pip\n",
      "  Using cached https://files.pythonhosted.org/packages/5f/25/e52d3f31441505a5f3af41213346e5b6c221c9e086a166f3703d2ddaf940/pip-18.0-py2.py3-none-any.whl\n",
      "Installing collected packages: pip\n",
      "  Found existing installation: pip 10.0.1\n",
      "    Uninstalling pip-10.0.1:\n",
      "      Successfully uninstalled pip-10.0.1\n",
      "Successfully installed pip-18.0\n"
     ]
    }
   ],
   "source": [
    "!python -m pip install --upgrade pip"
   ]
  },
  {
   "cell_type": "markdown",
   "metadata": {},
   "source": [
    "## 주피터 노트북에 커널 이름 추가하기"
   ]
  },
  {
   "cell_type": "markdown",
   "metadata": {},
   "source": [
    "###\n",
    "\n",
    "    python -m ipykernel install --user --name pytorch-nlp --display-name \"PyTorch\""
   ]
  },
  {
   "cell_type": "code",
   "execution_count": null,
   "metadata": {},
   "outputs": [],
   "source": []
  }
 ],
 "metadata": {
  "kernelspec": {
   "display_name": "Python 3",
   "language": "python",
   "name": "python3"
  },
  "language_info": {
   "codemirror_mode": {
    "name": "ipython",
    "version": 3
   },
   "file_extension": ".py",
   "mimetype": "text/x-python",
   "name": "python",
   "nbconvert_exporter": "python",
   "pygments_lexer": "ipython3",
   "version": "3.6.6"
  }
 },
 "nbformat": 4,
 "nbformat_minor": 2
}
